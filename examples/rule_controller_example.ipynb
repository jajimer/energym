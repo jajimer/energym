{
    "cells": [
        {
            "attachments": {},
            "cell_type": "markdown",
            "metadata": {
                "collapsed": false
            },
            "source": [
                "# Rule Controller example"
            ]
        },
        {
            "attachments": {},
            "cell_type": "markdown",
            "metadata": {
                "collapsed": false
            },
            "source": [
                "First we import all the used libraries, remember to always import `sinergym` even if it says is not used, because that is needed to define the environments"
            ]
        },
        {
            "cell_type": "code",
            "execution_count": 4,
            "metadata": {
                "collapsed": true
            },
            "outputs": [],
            "source": [
                "from typing import List, Any, Sequence\n",
                "from sinergym.utils.common import get_season_comfort_range\n",
                "from sinergym.utils.constants import YEAR\n",
                "from datetime import datetime\n",
                "import gymnasium as gym\n",
                "import numpy as np\n",
                "import sinergym"
            ]
        },
        {
            "attachments": {},
            "cell_type": "markdown",
            "metadata": {
                "collapsed": false
            },
            "source": [
                "Now we can define the environment we want to use, in our case we are using the Eplus demo.\n",
                "Don't forget to deactivate the `flag_normalization`. It is important due to the fact that *MyRuleBasedController*\n",
                "works with real values, not `[-1,1]` space."
            ]
        },
        {
            "cell_type": "code",
            "execution_count": 6,
            "metadata": {
                "collapsed": false,
                "pycharm": {
                    "name": "#%%\n"
                }
            },
            "outputs": [
                {
                    "name": "stdout",
                    "output_type": "stream",
                    "text": [
                        "#==============================================================================================#\n",
                        "\u001b[38;20m[ENVIRONMENT] (INFO) : Creating Gymnasium environment... [5zone-hot-continuous-v1]\u001b[0m\n",
                        "#==============================================================================================#\n",
                        "\u001b[38;20m[MODELING] (INFO) : Experiment working directory created [/workspaces/sinergym/examples/Eplus-env-5zone-hot-continuous-v1-res3]\u001b[0m\n",
                        "\u001b[38;20m[MODELING] (INFO) : runperiod established: {'start_day': 1, 'start_month': 1, 'start_year': 1991, 'end_day': 31, 'end_month': 12, 'end_year': 1991, 'start_weekday': 1, 'n_steps_per_hour': 4}\u001b[0m\n",
                        "\u001b[38;20m[MODELING] (INFO) : Episode length (seconds): 31536000.0\u001b[0m\n",
                        "\u001b[38;20m[MODELING] (INFO) : timestep size (seconds): 900.0\u001b[0m\n",
                        "\u001b[38;20m[MODELING] (INFO) : timesteps per episode: 35040\u001b[0m\n",
                        "\u001b[38;20m[MODELING] (INFO) : Model Config is correct.\u001b[0m\n",
                        "\u001b[38;20m[ENVIRONMENT] (INFO) : Environment 5zone-hot-continuous-v1 created successfully.\u001b[0m\n"
                    ]
                }
            ],
            "source": [
                "env = gym.make('Eplus-5zone-hot-continuous-v1', flag_normalization=False)"
            ]
        },
        {
            "attachments": {},
            "cell_type": "markdown",
            "metadata": {
                "collapsed": false
            },
            "source": [
                "For the Rule-base controller have a look at the already defined controllers, there is one for each building, since the demo is based on the 5Zone building we are extending that controller and defining the action function we desire, feel free to play with the function to define your own action."
            ]
        },
        {
            "cell_type": "code",
            "execution_count": 7,
            "metadata": {
                "collapsed": false,
                "pycharm": {
                    "name": "#%%\n"
                }
            },
            "outputs": [],
            "source": [
                "from sinergym.utils.controllers import RBC5Zone\n",
                "\n",
                "class MyRuleBasedController(RBC5Zone):\n",
                "\n",
                "    def act(self, observation: List[Any]) -> Sequence[Any]:\n",
                "        \"\"\"Select action based on outdoor air drybulb temperature and daytime.\n",
                "\n",
                "        Args:\n",
                "            observation (List[Any]): Perceived observation.\n",
                "\n",
                "        Returns:\n",
                "            Sequence[Any]: Action chosen.\n",
                "        \"\"\"\n",
                "        obs_dict = dict(zip(self.observation_variables, observation))\n",
                "\n",
                "        out_temp = obs_dict['outdoor_temperature']\n",
                "\n",
                "        day = int(obs_dict['day_of_month'])\n",
                "        month = int(obs_dict['month'])\n",
                "        hour = int(obs_dict['hour'])\n",
                "        year = int(obs_dict['year'] if obs_dict.get('year',False) else YEAR)\n",
                "\n",
                "        summer_start_date = datetime(year, 6, 1)\n",
                "        summer_final_date = datetime(year, 9, 30)\n",
                "\n",
                "        current_dt = datetime(year, month, day)\n",
                "\n",
                "        # Get season comfort range\n",
                "        if current_dt >= summer_start_date and current_dt <= summer_final_date:\n",
                "            season_comfort_range = self.setpoints_summer\n",
                "        else:\n",
                "            season_comfort_range = self.setpoints_summer\n",
                "        season_comfort_range = get_season_comfort_range(1991,month, day)\n",
                "        # Update setpoints\n",
                "        in_temp = obs_dict['air_temperature']\n",
                "\n",
                "        current_heat_setpoint = obs_dict[\n",
                "            'htg_setpoint']\n",
                "        current_cool_setpoint = obs_dict[\n",
                "            'clg_setpoint']\n",
                "\n",
                "        new_heat_setpoint = current_heat_setpoint\n",
                "        new_cool_setpoint = current_cool_setpoint\n",
                "\n",
                "        if in_temp < season_comfort_range[0]:\n",
                "            new_heat_setpoint = current_heat_setpoint + 1\n",
                "            new_cool_setpoint = current_cool_setpoint + 1\n",
                "        elif in_temp > season_comfort_range[1]:\n",
                "            new_cool_setpoint = current_cool_setpoint - 1\n",
                "            new_heat_setpoint = current_heat_setpoint - 1\n",
                "\n",
                "        #Clip setpoints to the action space\n",
                "        if new_heat_setpoint>self.env.action_space.high[0]:\n",
                "            new_heat_setpoint=self.env.action_space.high[0]\n",
                "        if new_heat_setpoint<self.env.action_space.low[0]:\n",
                "            new_heat_setpoint=self.env.action_space.low[0]\n",
                "        if new_cool_setpoint>self.env.action_space.high[1]:\n",
                "            new_cool_setpoint=self.env.action_space.high[1]\n",
                "        if new_cool_setpoint<self.env.action_space.low[1]:\n",
                "            new_cool_setpoint=self.env.action_space.low[1]\n",
                "\n",
                "        action = (new_heat_setpoint, new_cool_setpoint)\n",
                "        if current_dt.weekday() > 5 or hour in range(22, 6):\n",
                "            #weekend or night\n",
                "            action = (18.33, 23.33)\n",
                "\n",
                "        return action"
            ]
        },
        {
            "attachments": {},
            "cell_type": "markdown",
            "metadata": {
                "collapsed": false,
                "pycharm": {
                    "name": "#%% md\n"
                }
            },
            "source": [
                "Now that we have our controller ready we can use it:"
            ]
        },
        {
            "cell_type": "code",
            "execution_count": 8,
            "metadata": {
                "collapsed": false,
                "pycharm": {
                    "name": "#%%\n"
                }
            },
            "outputs": [
                {
                    "name": "stdout",
                    "output_type": "stream",
                    "text": [
                        "#----------------------------------------------------------------------------------------------#\n",
                        "\u001b[38;20m[ENVIRONMENT] (INFO) : Starting a new episode... [Episode 1]\u001b[0m\n",
                        "#----------------------------------------------------------------------------------------------#\n",
                        "\u001b[38;20m[MODELING] (INFO) : Episode directory created [/workspaces/sinergym/examples/Eplus-env-5zone-hot-continuous-v1-res3/Eplus-env-sub_run1]\u001b[0m\n",
                        "\u001b[38;20m[MODELING] (INFO) : Updated building model with whole Output:Variable available names\u001b[0m\n",
                        "\u001b[38;20m[ENVIRONMENT] (INFO) : Saving episode output path... [/workspaces/sinergym/examples/Eplus-env-5zone-hot-continuous-v1-res3/Eplus-env-sub_run1/output]\u001b[0m\n"
                    ]
                },
                {
                    "name": "stderr",
                    "output_type": "stream",
                    "text": [
                        "/usr/local/lib/python3.10/dist-packages/opyplus/weather_data/weather_data.py:493: FutureWarning: the 'line_terminator'' keyword is deprecated, use 'lineterminator' instead.\n",
                        "  epw_content = self._headers_to_epw(use_datetimes=use_datetimes) + df.to_csv(\n"
                    ]
                },
                {
                    "name": "stdout",
                    "output_type": "stream",
                    "text": [
                        "\u001b[38;20m[SIMULATOR] (INFO) : Running EnergyPlus with args: ['-w', '/workspaces/sinergym/examples/Eplus-env-5zone-hot-continuous-v1-res3/Eplus-env-sub_run1/USA_AZ_Davis-Monthan.AFB.722745_TMY3.epw', '-d', '/workspaces/sinergym/examples/Eplus-env-5zone-hot-continuous-v1-res3/Eplus-env-sub_run1/output', '/workspaces/sinergym/examples/Eplus-env-5zone-hot-continuous-v1-res3/Eplus-env-sub_run1/5ZoneAutoDXVAV.epJSON']\u001b[0m\n",
                        "\u001b[38;20m[ENVIRONMENT] (INFO) : Episode 1 started.\u001b[0m\n",
                        "\u001b[38;20m[SIMULATOR] (INFO) : Handles initialized.\u001b[0m\n",
                        "\u001b[38;20m[SIMULATOR] (INFO) : Handles are ready.\u001b[0m\n",
                        "\u001b[38;20m[SIMULATOR] (INFO) : System is ready.\u001b[0m\n",
                        "Reward:  -1.483546380748924 {'time_elapsed(hours)': 0.75, 'year': 2003, 'month': 1, 'day': 1, 'hour': 0, 'is_raining': False, 'action': (15.0, 30.0), 'timestep': 2, 'reward': -1.483546380748924, 'reward_energy': -0.11085250479199188, 'reward_comfort': -2.8562402567058562, 'total_energy': 1108.5250479199187, 'abs_comfort': 2.8562402567058562, 'temperatures': [17.143759743294144]}\n",
                        "Progress: |**-------------------------------------------------------------------------------------------------| 2%\r"
                    ]
                },
                {
                    "name": "stderr",
                    "output_type": "stream",
                    "text": [
                        "/usr/local/lib/python3.10/dist-packages/gymnasium/spaces/box.py:230: UserWarning: \u001b[33mWARN: Casting input x to numpy array.\u001b[0m\n",
                        "  gym.logger.warn(\"Casting input x to numpy array.\")\n"
                    ]
                },
                {
                    "name": "stdout",
                    "output_type": "stream",
                    "text": [
                        "Reward:  -4330.208931346244 {'time_elapsed(hours)': 744.375, 'year': 2005, 'month': 2, 'day': 1, 'hour': 0, 'is_raining': False, 'action': (15.0, 22.5), 'timestep': 2976, 'reward': -0.005105280431875691, 'reward_energy': -0.010210560863751382, 'reward_comfort': -0.0, 'total_energy': 102.10560863751381, 'abs_comfort': 0.0, 'temperatures': [20.169816897141686]}\n",
                        "Reward:  -5548.886381603512 {'time_elapsed(hours)': 1416.25, 'year': 1995, 'month': 3, 'day': 1, 'hour': 0, 'is_raining': False, 'action': (18.0, 25.5), 'timestep': 5664, 'reward': -0.5485595376450028, 'reward_energy': -0.016317878160147212, 'reward_comfort': -1.0808011971298583, 'total_energy': 163.1787816014721, 'abs_comfort': 1.0808011971298583, 'temperatures': [18.91919880287014]}\n",
                        "Reward:  -8702.910659510862 {'time_elapsed(hours)': 2160.25, 'year': 2002, 'month': 4, 'day': 1, 'hour': 0, 'is_raining': False, 'action': (18.33, 23.33), 'timestep': 8640, 'reward': -0.004536449977537947, 'reward_energy': -0.009072899955075894, 'reward_comfort': -0.0, 'total_energy': 90.72899955075894, 'abs_comfort': 0.0, 'temperatures': [20.943218454630333]}\n",
                        "Reward:  -11986.454727013392 {'time_elapsed(hours)': 2880.25, 'year': 2004, 'month': 5, 'day': 1, 'hour': 0, 'is_raining': False, 'action': (15.0, 22.5), 'timestep': 11520, 'reward': -0.2791597568317865, 'reward_energy': -0.0, 'reward_comfort': -0.558319513663573, 'total_energy': 0.0, 'abs_comfort': 0.558319513663573, 'temperatures': [24.058319513663573]}\n",
                        "Reward:  -15854.60497911394 {'time_elapsed(hours)': 3624.25, 'year': 2003, 'month': 6, 'day': 1, 'hour': 0, 'is_raining': False, 'action': (15.0, 22.5), 'timestep': 14496, 'reward': -1.3127540721610131, 'reward_energy': -0.0, 'reward_comfort': -2.6255081443220263, 'total_energy': 0.0, 'abs_comfort': 2.6255081443220263, 'temperatures': [26.125508144322026]}\n",
                        "Reward:  -19373.619720549406 {'time_elapsed(hours)': 4344.375, 'year': 2004, 'month': 7, 'day': 1, 'hour': 0, 'is_raining': False, 'action': (18.33, 23.33), 'timestep': 17376, 'reward': -1.314233349096682, 'reward_energy': -0.0, 'reward_comfort': -2.628466698193364, 'total_energy': 0.0, 'abs_comfort': 2.628466698193364, 'temperatures': [28.628466698193364]}\n",
                        "Reward:  -22034.23073275125 {'time_elapsed(hours)': 5088.25, 'year': 2002, 'month': 8, 'day': 1, 'hour': 0, 'is_raining': False, 'action': (15.0, 22.5), 'timestep': 20352, 'reward': -0.4940771251983769, 'reward_energy': -0.0, 'reward_comfort': -0.9881542503967538, 'total_energy': 0.0, 'abs_comfort': 0.9881542503967538, 'temperatures': [26.988154250396754]}\n",
                        "Reward:  -24706.06480868812 {'time_elapsed(hours)': 5832.25, 'year': 1994, 'month': 9, 'day': 1, 'hour': 0, 'is_raining': False, 'action': (15.0, 22.5), 'timestep': 23328, 'reward': -0.0, 'reward_energy': -0.0, 'reward_comfort': -0.0, 'total_energy': 0.0, 'abs_comfort': 0.0, 'temperatures': [25.969786322940482]}\n",
                        "Reward:  -27006.203458356522 {'time_elapsed(hours)': 6552.3125, 'year': 1997, 'month': 10, 'day': 1, 'hour': 0, 'is_raining': False, 'action': (15.5, 22.5), 'timestep': 26208, 'reward': -0.0, 'reward_energy': -0.0, 'reward_comfort': -0.0, 'total_energy': 0.0, 'abs_comfort': 0.0, 'temperatures': [25.06336377967043]}\n",
                        "Reward:  -34014.60362198736 {'time_elapsed(hours)': 7296.25, 'year': 2003, 'month': 11, 'day': 1, 'hour': 0, 'is_raining': False, 'action': (15.0, 22.5), 'timestep': 29184, 'reward': -0.004536449977537947, 'reward_energy': -0.009072899955075894, 'reward_comfort': -0.0, 'total_energy': 90.72899955075894, 'abs_comfort': 0.0, 'temperatures': [21.313250690372147]}\n",
                        "Reward:  -37608.948452238634 {'time_elapsed(hours)': 8016.25, 'year': 2005, 'month': 12, 'day': 1, 'hour': 0, 'is_raining': False, 'action': (17.0, 24.5), 'timestep': 32064, 'reward': -0.268771143290172, 'reward_energy': -0.009072899955075894, 'reward_comfort': -0.5284693866252681, 'total_energy': 90.72899955075894, 'abs_comfort': 0.5284693866252681, 'temperatures': [19.471530613374732]}\n",
                        "Progress: |***************************************************************************************************| 99%\n",
                        "Episode  0 Mean reward:  -1.161376699629501 Cumulative reward:  -40693.47817831511\n"
                    ]
                }
            ],
            "source": [
                "\n",
                "# create rule-based controller\n",
                "agent = MyRuleBasedController(env)\n",
                "\n",
                "for i in range(1):\n",
                "    obs, info = env.reset()\n",
                "    rewards = []\n",
                "    terminated = False\n",
                "    current_month = 0\n",
                "while not terminated:\n",
                "    action = agent.act(obs)\n",
                "    obs, reward, terminated, truncated, info = env.step(action)\n",
                "    rewards.append(reward)\n",
                "    if info['month'] != current_month:  # display results every month\n",
                "        current_month = info['month']\n",
                "        print('Reward: ', sum(rewards), info)\n",
                "print(\n",
                "    'Episode ',\n",
                "    i,\n",
                "    'Mean reward: ',\n",
                "    np.mean(rewards),\n",
                "    'Cumulative reward: ',\n",
                "    sum(rewards))"
            ]
        },
        {
            "attachments": {},
            "cell_type": "markdown",
            "metadata": {
                "collapsed": false
            },
            "source": [
                "Always remember to close the environment:"
            ]
        },
        {
            "cell_type": "code",
            "execution_count": 9,
            "metadata": {
                "collapsed": false,
                "pycharm": {
                    "name": "#%%\n"
                }
            },
            "outputs": [
                {
                    "name": "stdout",
                    "output_type": "stream",
                    "text": [
                        "\u001b[38;20m[ENVIRONMENT] (INFO) : Environment closed.\u001b[0m\n"
                    ]
                }
            ],
            "source": [
                "env.close()"
            ]
        },
        {
            "attachments": {},
            "cell_type": "markdown",
            "metadata": {},
            "source": [
                ".. note:: For more information about our defines controllers and how create a new one, please, visit our [Controller Documentation](https://ugr-sail.github.io/sinergym/compilation/html/pages/controllers.html)"
            ]
        }
    ],
    "metadata": {
        "kernelspec": {
            "display_name": "Python 3.10.4 64-bit",
            "language": "python",
            "name": "python3"
        },
        "language_info": {
            "codemirror_mode": {
                "name": "ipython",
                "version": 3
            },
            "file_extension": ".py",
            "mimetype": "text/x-python",
            "name": "python",
            "nbconvert_exporter": "python",
            "pygments_lexer": "ipython3",
            "version": "3.10.6"
        },
        "vscode": {
            "interpreter": {
                "hash": "e7370f93d1d0cde622a1f8e1c04877d8463912d04d973331ad4851f04de6915a"
            }
        }
    },
    "nbformat": 4,
    "nbformat_minor": 0
}
