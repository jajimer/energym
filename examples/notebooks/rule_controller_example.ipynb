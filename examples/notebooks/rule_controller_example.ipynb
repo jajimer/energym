{
 "cells": [
  {
   "cell_type": "code",
   "execution_count": 1,
   "metadata": {
    "collapsed": true
   },
   "outputs": [],
   "source": [
    "from typing import List, Any, Sequence\n",
    "from numpy import arange\n",
    "from sinergym.utils.common import get_season_comfort_range\n",
    "import gym\n",
    "import datetime\n",
    "import numpy as np\n",
    "import sinergym"
   ]
  },
  {
   "cell_type": "markdown",
   "source": [],
   "metadata": {
    "collapsed": false
   }
  },
  {
   "cell_type": "code",
   "execution_count": 2,
   "outputs": [],
   "source": [
    "from sinergym.utils.controllers import RuleBasedController\n",
    "\n",
    "class MyRuleBasedController(RuleBasedController):\n",
    "\n",
    "    def act(self, observation: List[Any]) -> Sequence[Any]:\n",
    "        \"\"\"Select action based on outdoor air drybulb temperature and daytime.\n",
    "\n",
    "        Args:\n",
    "            observation (List[Any]): Perceived observation.\n",
    "\n",
    "        Returns:\n",
    "            Sequence[Any]: Action chosen.\n",
    "        \"\"\"\n",
    "        obs_dict = dict(zip(self.variables['observation'], observation))\n",
    "\n",
    "        out_temp = obs_dict['Site Outdoor Air Drybulb Temperature (Environment)']\n",
    "\n",
    "        day = int(obs_dict['day'])\n",
    "        month = int(obs_dict['month'])\n",
    "        hour = int(obs_dict['hour'])\n",
    "\n",
    "        season_comfort_range = get_season_comfort_range(month, day)\n",
    "\n",
    "        if out_temp in arange(\n",
    "                season_comfort_range[0], season_comfort_range[1], .1):\n",
    "            action = (obs_dict[\n",
    "                'Zone Thermostat Heating Setpoint Temperature (SPACE1-1)'],\n",
    "                    obs_dict[\n",
    "                'Zone Thermostat Cooling Setpoint Temperature (SPACE1-1)'])\n",
    "        elif datetime.date(day=day, month=month).weekday() > 5:\n",
    "            action = (10.0, 30.0)\n",
    "        elif hour in range(6, 18):  # day\n",
    "            action = (19.44, 25.0)\n",
    "        elif hour in range(18, 22):  # evening\n",
    "            action = (20.0, 24.44)\n",
    "        else:  # night\n",
    "            action = (18.33, 23.33)\n",
    "\n",
    "        return action"
   ],
   "metadata": {
    "collapsed": false,
    "pycharm": {
     "name": "#%%\n"
    }
   }
  },
  {
   "cell_type": "markdown",
   "source": [],
   "metadata": {
    "collapsed": false
   }
  },
  {
   "cell_type": "code",
   "execution_count": 3,
   "outputs": [
    {
     "name": "stderr",
     "output_type": "stream",
     "text": [
      "[2022-04-11 14:17:48,969] EPLUS_ENV_5Zone-mixed-continuous-v1_MainThread_ROOT INFO:Updating idf Site:Location and SizingPeriod:DesignDay(s) to weather and ddy file...\n",
      "[2022-04-11 14:17:48,971] EPLUS_ENV_5Zone-mixed-continuous-v1_MainThread_ROOT INFO:Setting up extra configuration in building model if exists...\n",
      "C:\\Users\\Melon\\AppData\\Local\\Programs\\Python\\Python39\\lib\\site-packages\\gym\\spaces\\box.py:73: UserWarning: \u001B[33mWARN: Box bound precision lowered by casting to float32\u001B[0m\n",
      "  logger.warn(\n",
      "[2022-04-11 14:17:48,975] EPLUS_ENV_5Zone-mixed-continuous-v1_MainThread_ROOT INFO:Creating new EnergyPlus simulation episode...\n"
     ]
    },
    {
     "ename": "UnicodeEncodeError",
     "evalue": "'charmap' codec can't encode character '\\ufffd' in position 1063: character maps to <undefined>",
     "output_type": "error",
     "traceback": [
      "\u001B[1;31m---------------------------------------------------------------------------\u001B[0m",
      "\u001B[1;31mUnicodeEncodeError\u001B[0m                        Traceback (most recent call last)",
      "Input \u001B[1;32mIn [3]\u001B[0m, in \u001B[0;36m<cell line: 6>\u001B[1;34m()\u001B[0m\n\u001B[0;32m      4\u001B[0m agent \u001B[38;5;241m=\u001B[39m MyRuleBasedController(env)\n\u001B[0;32m      6\u001B[0m \u001B[38;5;28;01mfor\u001B[39;00m i \u001B[38;5;129;01min\u001B[39;00m \u001B[38;5;28mrange\u001B[39m(\u001B[38;5;241m1\u001B[39m):\n\u001B[1;32m----> 7\u001B[0m     obs \u001B[38;5;241m=\u001B[39m \u001B[43menv\u001B[49m\u001B[38;5;241;43m.\u001B[39;49m\u001B[43mreset\u001B[49m\u001B[43m(\u001B[49m\u001B[43m)\u001B[49m\n\u001B[0;32m      8\u001B[0m     rewards \u001B[38;5;241m=\u001B[39m []\n\u001B[0;32m      9\u001B[0m     done \u001B[38;5;241m=\u001B[39m \u001B[38;5;28;01mFalse\u001B[39;00m\n",
      "File \u001B[1;32m~\\AppData\\Local\\Programs\\Python\\Python39\\lib\\site-packages\\gym\\wrappers\\order_enforcing.py:16\u001B[0m, in \u001B[0;36mOrderEnforcing.reset\u001B[1;34m(self, **kwargs)\u001B[0m\n\u001B[0;32m     14\u001B[0m \u001B[38;5;28;01mdef\u001B[39;00m \u001B[38;5;21mreset\u001B[39m(\u001B[38;5;28mself\u001B[39m, \u001B[38;5;241m*\u001B[39m\u001B[38;5;241m*\u001B[39mkwargs):\n\u001B[0;32m     15\u001B[0m     \u001B[38;5;28mself\u001B[39m\u001B[38;5;241m.\u001B[39m_has_reset \u001B[38;5;241m=\u001B[39m \u001B[38;5;28;01mTrue\u001B[39;00m\n\u001B[1;32m---> 16\u001B[0m     \u001B[38;5;28;01mreturn\u001B[39;00m \u001B[38;5;28mself\u001B[39m\u001B[38;5;241m.\u001B[39menv\u001B[38;5;241m.\u001B[39mreset(\u001B[38;5;241m*\u001B[39m\u001B[38;5;241m*\u001B[39mkwargs)\n",
      "File \u001B[1;32m~\\PycharmProjects\\sinergym\\sinergym\\envs\\eplus_env.py:217\u001B[0m, in \u001B[0;36mEplusEnv.reset\u001B[1;34m(self)\u001B[0m\n\u001B[0;32m    211\u001B[0m \u001B[38;5;124;03m\"\"\"Reset the environment.\u001B[39;00m\n\u001B[0;32m    212\u001B[0m \n\u001B[0;32m    213\u001B[0m \u001B[38;5;124;03mReturns:\u001B[39;00m\n\u001B[0;32m    214\u001B[0m \u001B[38;5;124;03m    np.ndarray: Current observation.\u001B[39;00m\n\u001B[0;32m    215\u001B[0m \u001B[38;5;124;03m\"\"\"\u001B[39;00m\n\u001B[0;32m    216\u001B[0m \u001B[38;5;66;03m# Change to next episode\u001B[39;00m\n\u001B[1;32m--> 217\u001B[0m time_info, obs, done \u001B[38;5;241m=\u001B[39m \u001B[38;5;28;43mself\u001B[39;49m\u001B[38;5;241;43m.\u001B[39;49m\u001B[43msimulator\u001B[49m\u001B[38;5;241;43m.\u001B[39;49m\u001B[43mreset\u001B[49m\u001B[43m(\u001B[49m\u001B[38;5;28;43mself\u001B[39;49m\u001B[38;5;241;43m.\u001B[39;49m\u001B[43mweather_variability\u001B[49m\u001B[43m)\u001B[49m\n\u001B[0;32m    218\u001B[0m \u001B[38;5;28mself\u001B[39m\u001B[38;5;241m.\u001B[39mobs_dict \u001B[38;5;241m=\u001B[39m \u001B[38;5;28mdict\u001B[39m(\u001B[38;5;28mzip\u001B[39m(\u001B[38;5;28mself\u001B[39m\u001B[38;5;241m.\u001B[39mvariables[\u001B[38;5;124m'\u001B[39m\u001B[38;5;124mobservation\u001B[39m\u001B[38;5;124m'\u001B[39m], obs))\n\u001B[0;32m    220\u001B[0m \u001B[38;5;28mself\u001B[39m\u001B[38;5;241m.\u001B[39mobs_dict[\u001B[38;5;124m'\u001B[39m\u001B[38;5;124mday\u001B[39m\u001B[38;5;124m'\u001B[39m] \u001B[38;5;241m=\u001B[39m time_info[\u001B[38;5;241m0\u001B[39m]\n",
      "File \u001B[1;32m~\\PycharmProjects\\sinergym\\sinergym\\simulators\\eplus.py:162\u001B[0m, in \u001B[0;36mEnergyPlus.reset\u001B[1;34m(self, weather_variability)\u001B[0m\n\u001B[0;32m    160\u001B[0m eplus_working_dir \u001B[38;5;241m=\u001B[39m \u001B[38;5;28mself\u001B[39m\u001B[38;5;241m.\u001B[39m_config\u001B[38;5;241m.\u001B[39mset_episode_working_dir()\n\u001B[0;32m    161\u001B[0m \u001B[38;5;66;03m# Getting IDF, WEATHER, VARIABLES and OUTPUT path for current episode\u001B[39;00m\n\u001B[1;32m--> 162\u001B[0m eplus_working_idf_path \u001B[38;5;241m=\u001B[39m \u001B[38;5;28;43mself\u001B[39;49m\u001B[38;5;241;43m.\u001B[39;49m\u001B[43m_config\u001B[49m\u001B[38;5;241;43m.\u001B[39;49m\u001B[43msave_building_model\u001B[49m\u001B[43m(\u001B[49m\u001B[43m)\u001B[49m\n\u001B[0;32m    163\u001B[0m eplus_working_var_path \u001B[38;5;241m=\u001B[39m (eplus_working_dir \u001B[38;5;241m+\u001B[39m \u001B[38;5;124m'\u001B[39m\u001B[38;5;124m/\u001B[39m\u001B[38;5;124m'\u001B[39m \u001B[38;5;241m+\u001B[39m \u001B[38;5;124m'\u001B[39m\u001B[38;5;124mvariables.cfg\u001B[39m\u001B[38;5;124m'\u001B[39m)\n\u001B[0;32m    164\u001B[0m eplus_working_out_path \u001B[38;5;241m=\u001B[39m (eplus_working_dir \u001B[38;5;241m+\u001B[39m \u001B[38;5;124m'\u001B[39m\u001B[38;5;124m/\u001B[39m\u001B[38;5;124m'\u001B[39m \u001B[38;5;241m+\u001B[39m \u001B[38;5;124m'\u001B[39m\u001B[38;5;124moutput\u001B[39m\u001B[38;5;124m'\u001B[39m)\n",
      "File \u001B[1;32m~\\PycharmProjects\\sinergym\\sinergym\\utils\\config.py:119\u001B[0m, in \u001B[0;36mConfig.save_building_model\u001B[1;34m(self)\u001B[0m\n\u001B[0;32m    116\u001B[0m \u001B[38;5;28;01mif\u001B[39;00m \u001B[38;5;28mself\u001B[39m\u001B[38;5;241m.\u001B[39mepisode_path \u001B[38;5;129;01mis\u001B[39;00m \u001B[38;5;129;01mnot\u001B[39;00m \u001B[38;5;28;01mNone\u001B[39;00m:\n\u001B[0;32m    117\u001B[0m     episode_idf_path \u001B[38;5;241m=\u001B[39m os\u001B[38;5;241m.\u001B[39mpath\u001B[38;5;241m.\u001B[39mjoin(\u001B[38;5;28mself\u001B[39m\u001B[38;5;241m.\u001B[39mepisode_path,\n\u001B[0;32m    118\u001B[0m         os\u001B[38;5;241m.\u001B[39mpath\u001B[38;5;241m.\u001B[39mbasename(\u001B[38;5;28mself\u001B[39m\u001B[38;5;241m.\u001B[39m_idf_path))\n\u001B[1;32m--> 119\u001B[0m     \u001B[38;5;28;43mself\u001B[39;49m\u001B[38;5;241;43m.\u001B[39;49m\u001B[43mbuilding\u001B[49m\u001B[38;5;241;43m.\u001B[39;49m\u001B[43msave\u001B[49m\u001B[43m(\u001B[49m\u001B[43mepisode_idf_path\u001B[49m\u001B[43m)\u001B[49m\n\u001B[0;32m    120\u001B[0m     \u001B[38;5;28;01mreturn\u001B[39;00m episode_idf_path\n\u001B[0;32m    121\u001B[0m \u001B[38;5;28;01melse\u001B[39;00m:\n",
      "File \u001B[1;32m~\\AppData\\Local\\Programs\\Python\\Python39\\lib\\site-packages\\opyplus\\epm\\epm.py:422\u001B[0m, in \u001B[0;36mEpm.save\u001B[1;34m(self, buffer_or_path, dump_external_files)\u001B[0m\n\u001B[0;32m    406\u001B[0m \u001B[38;5;28;01mdef\u001B[39;00m \u001B[38;5;21msave\u001B[39m(\u001B[38;5;28mself\u001B[39m, buffer_or_path\u001B[38;5;241m=\u001B[39m\u001B[38;5;28;01mNone\u001B[39;00m, dump_external_files\u001B[38;5;241m=\u001B[39m\u001B[38;5;28;01mTrue\u001B[39;00m):\n\u001B[0;32m    407\u001B[0m     \u001B[38;5;124;03m\"\"\"\u001B[39;00m\n\u001B[0;32m    408\u001B[0m \u001B[38;5;124;03m    Save Epm to a file.\u001B[39;00m\n\u001B[0;32m    409\u001B[0m \n\u001B[1;32m   (...)\u001B[0m\n\u001B[0;32m    420\u001B[0m \u001B[38;5;124;03m        None, or an idf string (if buffer_or_path is None).\u001B[39;00m\n\u001B[0;32m    421\u001B[0m \u001B[38;5;124;03m    \"\"\"\u001B[39;00m\n\u001B[1;32m--> 422\u001B[0m     \u001B[38;5;28;01mreturn\u001B[39;00m \u001B[38;5;28;43mself\u001B[39;49m\u001B[38;5;241;43m.\u001B[39;49m\u001B[43mto_idf\u001B[49m\u001B[43m(\u001B[49m\u001B[43mbuffer_or_path\u001B[49m\u001B[38;5;241;43m=\u001B[39;49m\u001B[43mbuffer_or_path\u001B[49m\u001B[43m,\u001B[49m\u001B[43m \u001B[49m\u001B[43mdump_external_files\u001B[49m\u001B[38;5;241;43m=\u001B[39;49m\u001B[43mdump_external_files\u001B[49m\u001B[43m)\u001B[49m\n",
      "File \u001B[1;32m~\\AppData\\Local\\Programs\\Python\\Python39\\lib\\site-packages\\opyplus\\epm\\epm.py:472\u001B[0m, in \u001B[0;36mEpm.to_idf\u001B[1;34m(self, buffer_or_path, dump_external_files)\u001B[0m\n\u001B[0;32m    470\u001B[0m \u001B[38;5;66;03m# return\u001B[39;00m\n\u001B[0;32m    471\u001B[0m content \u001B[38;5;241m=\u001B[39m comment \u001B[38;5;241m+\u001B[39m body\n\u001B[1;32m--> 472\u001B[0m \u001B[38;5;28;01mreturn\u001B[39;00m \u001B[43mmulti_mode_write\u001B[49m\u001B[43m(\u001B[49m\n\u001B[0;32m    473\u001B[0m \u001B[43m    \u001B[49m\u001B[38;5;28;43;01mlambda\u001B[39;49;00m\u001B[43m \u001B[49m\u001B[43mf\u001B[49m\u001B[43m:\u001B[49m\u001B[43m \u001B[49m\u001B[43mf\u001B[49m\u001B[38;5;241;43m.\u001B[39;49m\u001B[43mwrite\u001B[49m\u001B[43m(\u001B[49m\u001B[43mcontent\u001B[49m\u001B[43m)\u001B[49m\u001B[43m,\u001B[49m\n\u001B[0;32m    474\u001B[0m \u001B[43m    \u001B[49m\u001B[38;5;28;43;01mlambda\u001B[39;49;00m\u001B[43m:\u001B[49m\u001B[43m \u001B[49m\u001B[43mcontent\u001B[49m\u001B[43m,\u001B[49m\n\u001B[0;32m    475\u001B[0m \u001B[43m    \u001B[49m\u001B[43mbuffer_or_path\u001B[49m\n\u001B[0;32m    476\u001B[0m \u001B[43m\u001B[49m\u001B[43m)\u001B[49m\n",
      "File \u001B[1;32m~\\AppData\\Local\\Programs\\Python\\Python39\\lib\\site-packages\\opyplus\\util.py:280\u001B[0m, in \u001B[0;36mmulti_mode_write\u001B[1;34m(buffer_writer, string_writer, buffer_or_path)\u001B[0m\n\u001B[0;32m    277\u001B[0m     buffer \u001B[38;5;241m=\u001B[39m buffer_or_path\n\u001B[0;32m    279\u001B[0m \u001B[38;5;28;01mwith\u001B[39;00m buffer:\n\u001B[1;32m--> 280\u001B[0m     \u001B[43mbuffer_writer\u001B[49m\u001B[43m(\u001B[49m\u001B[43mbuffer\u001B[49m\u001B[43m)\u001B[49m\n",
      "File \u001B[1;32m~\\AppData\\Local\\Programs\\Python\\Python39\\lib\\site-packages\\opyplus\\epm\\epm.py:473\u001B[0m, in \u001B[0;36mEpm.to_idf.<locals>.<lambda>\u001B[1;34m(f)\u001B[0m\n\u001B[0;32m    470\u001B[0m \u001B[38;5;66;03m# return\u001B[39;00m\n\u001B[0;32m    471\u001B[0m content \u001B[38;5;241m=\u001B[39m comment \u001B[38;5;241m+\u001B[39m body\n\u001B[0;32m    472\u001B[0m \u001B[38;5;28;01mreturn\u001B[39;00m multi_mode_write(\n\u001B[1;32m--> 473\u001B[0m     \u001B[38;5;28;01mlambda\u001B[39;00m f: \u001B[43mf\u001B[49m\u001B[38;5;241;43m.\u001B[39;49m\u001B[43mwrite\u001B[49m\u001B[43m(\u001B[49m\u001B[43mcontent\u001B[49m\u001B[43m)\u001B[49m,\n\u001B[0;32m    474\u001B[0m     \u001B[38;5;28;01mlambda\u001B[39;00m: content,\n\u001B[0;32m    475\u001B[0m     buffer_or_path\n\u001B[0;32m    476\u001B[0m )\n",
      "File \u001B[1;32m~\\AppData\\Local\\Programs\\Python\\Python39\\lib\\encodings\\cp1252.py:19\u001B[0m, in \u001B[0;36mIncrementalEncoder.encode\u001B[1;34m(self, input, final)\u001B[0m\n\u001B[0;32m     18\u001B[0m \u001B[38;5;28;01mdef\u001B[39;00m \u001B[38;5;21mencode\u001B[39m(\u001B[38;5;28mself\u001B[39m, \u001B[38;5;28minput\u001B[39m, final\u001B[38;5;241m=\u001B[39m\u001B[38;5;28;01mFalse\u001B[39;00m):\n\u001B[1;32m---> 19\u001B[0m     \u001B[38;5;28;01mreturn\u001B[39;00m \u001B[43mcodecs\u001B[49m\u001B[38;5;241;43m.\u001B[39;49m\u001B[43mcharmap_encode\u001B[49m\u001B[43m(\u001B[49m\u001B[38;5;28;43minput\u001B[39;49m\u001B[43m,\u001B[49m\u001B[38;5;28;43mself\u001B[39;49m\u001B[38;5;241;43m.\u001B[39;49m\u001B[43merrors\u001B[49m\u001B[43m,\u001B[49m\u001B[43mencoding_table\u001B[49m\u001B[43m)\u001B[49m[\u001B[38;5;241m0\u001B[39m]\n",
      "\u001B[1;31mUnicodeEncodeError\u001B[0m: 'charmap' codec can't encode character '\\ufffd' in position 1063: character maps to <undefined>"
     ]
    }
   ],
   "source": [
    "env = gym.make('Eplus-demo-v1')\n",
    "\n",
    "# create rule-controlled agent\n",
    "agent = MyRuleBasedController(env)\n",
    "\n",
    "for i in range(1):\n",
    "    obs = env.reset()\n",
    "    rewards = []\n",
    "    done = False\n",
    "    current_month = 0\n",
    "while not done:\n",
    "    action = agent.act(obs)\n",
    "    obs, reward, done, info = env.step(action)\n",
    "    rewards.append(reward)\n",
    "    if info['month'] != current_month:  # display results every month\n",
    "        current_month = info['month']\n",
    "        print('Reward: ', sum(rewards), info)"
   ],
   "metadata": {
    "collapsed": false,
    "pycharm": {
     "name": "#%%\n"
    }
   }
  },
  {
   "cell_type": "code",
   "execution_count": null,
   "outputs": [],
   "source": [],
   "metadata": {
    "collapsed": false,
    "pycharm": {
     "name": "#%%\n"
    }
   }
  }
 ],
 "metadata": {
  "kernelspec": {
   "display_name": "Python 3",
   "language": "python",
   "name": "python3"
  },
  "language_info": {
   "codemirror_mode": {
    "name": "ipython",
    "version": 2
   },
   "file_extension": ".py",
   "mimetype": "text/x-python",
   "name": "python",
   "nbconvert_exporter": "python",
   "pygments_lexer": "ipython2",
   "version": "2.7.6"
  }
 },
 "nbformat": 4,
 "nbformat_minor": 0
}