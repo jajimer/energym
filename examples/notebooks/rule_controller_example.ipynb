{
 "cells": [
  {
   "cell_type": "markdown",
   "source": [
    "First we import al the used libraries, remember to always import `sinergym` even if it says is not used, because that is needed to define the environments"
   ],
   "metadata": {
    "collapsed": false
   }
  },
  {
   "cell_type": "code",
   "execution_count": 1,
   "metadata": {
    "collapsed": true
   },
   "outputs": [],
   "source": [
    "from typing import List, Any, Sequence\n",
    "from sinergym.utils.common import get_season_comfort_range\n",
    "import datetime\n",
    "import gym\n",
    "import numpy as np\n",
    "import sinergym"
   ]
  },
  {
   "cell_type": "markdown",
   "source": [
    "Now we can define the environment we want to use, in our case we are using the Eplus demo."
   ],
   "metadata": {
    "collapsed": false
   }
  },
  {
   "cell_type": "code",
   "execution_count": null,
   "outputs": [],
   "source": [
    "env = gym.make('Eplus-demo-v1')"
   ],
   "metadata": {
    "collapsed": false,
    "pycharm": {
     "name": "#%%\n"
    }
   }
  },
  {
   "cell_type": "markdown",
   "source": [
    "For the Rule-base controller have a look at the already defined controllers, there is one for each building, since the demo is based on the 5Zone building we are extending that controller and defining the action function we desire, feel free to play with the function to define your own action."
   ],
   "metadata": {
    "collapsed": false
   }
  },
  {
   "cell_type": "code",
   "execution_count": 2,
   "outputs": [],
   "source": [
    "from sinergym.utils.controllers import RBC5Zone\n",
    "\n",
    "class MyRuleBasedController(RBC5Zone):\n",
    "\n",
    "    def act(self, observation: List[Any]) -> Sequence[Any]:\n",
    "        \"\"\"Select action based on outdoor air drybulb temperature and daytime.\n",
    "\n",
    "        Args:\n",
    "            observation (List[Any]): Perceived observation.\n",
    "\n",
    "        Returns:\n",
    "            Sequence[Any]: Action chosen.\n",
    "        \"\"\"\n",
    "        obs_dict = dict(zip(self.variables['observation'], observation))\n",
    "\n",
    "        out_temp = obs_dict['Site Outdoor Air Drybulb Temperature (Environment)']\n",
    "\n",
    "        day = int(obs_dict['day'])\n",
    "        month = int(obs_dict['month'])\n",
    "        hour = int(obs_dict['hour'])\n",
    "        year = int(obs_dict['year'])\n",
    "\n",
    "        summer_start_date = datetime(year, 6, 1)\n",
    "        summer_final_date = datetime(year, 9, 30)\n",
    "\n",
    "        current_dt = datetime(year, month, day)\n",
    "\n",
    "        # Get season comfort range\n",
    "        if current_dt >= summer_start_date and current_dt <= summer_final_date:\n",
    "            season_comfort_range = self.range_comfort_summer\n",
    "        else:\n",
    "            season_comfort_range = self.range_comfort_winter\n",
    "        season_comfort_range = get_season_comfort_range(month, day)\n",
    "        # Update setpoints\n",
    "        in_temp = obs_dict['Zone Air Temperature (SPACE1-1)']\n",
    "\n",
    "        current_heat_setpoint = obs_dict[\n",
    "            'Zone Thermostat Heating Setpoint Temperature (SPACE1-1)']\n",
    "        current_cool_setpoint = obs_dict[\n",
    "            'Zone Thermostat Cooling Setpoint Temperature (SPACE1-1)']\n",
    "\n",
    "        new_heat_setpoint = current_heat_setpoint\n",
    "        new_cool_setpoint = current_cool_setpoint\n",
    "\n",
    "        if in_temp < season_comfort_range[0]:\n",
    "            new_heat_setpoint = current_heat_setpoint + 1\n",
    "            new_cool_setpoint = current_cool_setpoint + 1\n",
    "        elif in_temp > season_comfort_range[1]:\n",
    "            new_cool_setpoint = current_cool_setpoint - 1\n",
    "            new_heat_setpoint = current_heat_setpoint - 1\n",
    "\n",
    "        action = (new_heat_setpoint, new_cool_setpoint)\n",
    "        if current_dt.weekday() > 5 or hour in range(22, 6):\n",
    "            #weekend or night\n",
    "            action = (18.33, 23.33)\n",
    "\n",
    "        return action"
   ],
   "metadata": {
    "collapsed": false,
    "pycharm": {
     "name": "#%%\n"
    }
   }
  },
  {
   "cell_type": "markdown",
   "source": [
    "Now that we have our controller ready we can use it:"
   ],
   "metadata": {
    "collapsed": false,
    "pycharm": {
     "name": "#%% md\n"
    }
   }
  },
  {
   "cell_type": "code",
   "execution_count": null,
   "outputs": [],
   "source": [
    "\n",
    "# create rule-based controller\n",
    "agent = MyRuleBasedController(env)\n",
    "\n",
    "for i in range(1):\n",
    "    obs = env.reset()\n",
    "    rewards = []\n",
    "    done = False\n",
    "    current_month = 0\n",
    "while not done:\n",
    "    action = agent.act(obs)\n",
    "    obs, reward, done, info = env.step(action)\n",
    "    rewards.append(reward)\n",
    "    if info['month'] != current_month:  # display results every month\n",
    "        current_month = info['month']\n",
    "        print('Reward: ', sum(rewards), info)\n",
    "print(\n",
    "    'Episode ',\n",
    "    i,\n",
    "    'Mean reward: ',\n",
    "    np.mean(rewards),\n",
    "    'Cumulative reward: ',\n",
    "    sum(rewards))"
   ],
   "metadata": {
    "collapsed": false,
    "pycharm": {
     "name": "#%%\n"
    }
   }
  },
  {
   "cell_type": "markdown",
   "source": [
    "Always remember to close the environment:"
   ],
   "metadata": {
    "collapsed": false
   }
  },
  {
   "cell_type": "code",
   "execution_count": null,
   "outputs": [],
   "source": [
    "env.close()"
   ],
   "metadata": {
    "collapsed": false,
    "pycharm": {
     "name": "#%%\n"
    }
   }
  }
 ],
 "metadata": {
  "kernelspec": {
   "display_name": "Python 3",
   "language": "python",
   "name": "python3"
  },
  "language_info": {
   "codemirror_mode": {
    "name": "ipython",
    "version": 2
   },
   "file_extension": ".py",
   "mimetype": "text/x-python",
   "name": "python",
   "nbconvert_exporter": "python",
   "pygments_lexer": "ipython2",
   "version": "2.7.6"
  }
 },
 "nbformat": 4,
 "nbformat_minor": 0
}