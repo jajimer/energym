{
 "cells": [
  {
   "cell_type": "markdown",
   "metadata": {},
   "source": [
    "# Logging unused variables"
   ]
  },
  {
   "cell_type": "markdown",
   "metadata": {},
   "source": [
    "Custom logger wrappers in *Sinergym* enable recording any metric based on interaction data with the environment (as shown [here](https://ugr-sail.github.io/sinergym/compilation/main/pages/notebooks/personalize_loggerwrapper.html)). However, there may be cases where you want to monitor data directly from the simulator.\n",
    "\n",
    "Until version v3.3.2 of *Sinergym*, all variables monitored using the `LoggerWrapper` had to be present in the observation space. This represents a drawback when we want to monitor certain variables of the simulation that are not used for control (i.e., that are not present in the environment's observation space).\n",
    "\n",
    "Including extra variables that are not directly part of the observation space requires certain internal changes that break the minimalist structure of the classes and EnergyPlus API usage that make up the tool.\n",
    "\n",
    "This notebook explains the correct way to do it, which is possible since *Sinergym* v3.3.3. It involves the use of the [ReduceObservationWrapper](https://ugr-sail.github.io/sinergym/compilation/main/pages/wrappers.html#reduceobservationwrapper) in combination with the [LoggerWrapper](https://ugr-sail.github.io/sinergym/compilation/main/pages/wrappers.html#loggerwrapper).\n",
    "\n",
    "The idea is to define all the variables to be observed, whether they are part of the final observation space or not, and monitor everything with the `LoggerWrapper`, to later add a layer that removes the desired variables from the observation space (just when they are already being monitored, which is our goal)."
   ]
  },
  {
   "cell_type": "code",
   "execution_count": null,
   "metadata": {},
   "outputs": [
    {
     "name": "stdout",
     "output_type": "stream",
     "text": [
      "#==============================================================================================#\n",
      "\u001b[38;20m[ENVIRONMENT] (INFO) : Creating Gymnasium environment.\u001b[0m\n",
      "\u001b[38;20m[ENVIRONMENT] (INFO) : Name: 5zone-hot-continuous-stochastic-v1\u001b[0m\n",
      "#==============================================================================================#\n",
      "\u001b[38;20m[MODELING] (INFO) : Experiment working directory created.\u001b[0m\n",
      "\u001b[38;20m[MODELING] (INFO) : Working directory: /workspaces/sinergym/examples/Eplus-env-5zone-hot-continuous-stochastic-v1-res1\u001b[0m\n",
      "\u001b[38;20m[MODELING] (INFO) : Model Config is correct.\u001b[0m\n",
      "\u001b[38;20m[MODELING] (INFO) : Update building model Output:Variable with variable names.\u001b[0m\n",
      "\u001b[38;20m[MODELING] (INFO) : Update building model Output:Meter with meter names.\u001b[0m\n",
      "\u001b[38;20m[MODELING] (INFO) : Runperiod established.\u001b[0m\n",
      "\u001b[38;20m[MODELING] (INFO) : Episode length (seconds): 31536000.0\u001b[0m\n",
      "\u001b[38;20m[MODELING] (INFO) : timestep size (seconds): 900.0\u001b[0m\n",
      "\u001b[38;20m[MODELING] (INFO) : timesteps per episode: 35040\u001b[0m\n",
      "\u001b[38;20m[REWARD] (INFO) : Reward function initialized.\u001b[0m\n",
      "\u001b[38;20m[ENVIRONMENT] (INFO) : Environment created successfully.\u001b[0m\n",
      "\u001b[38;20m[WRAPPER NormalizeAction] (INFO) : New normalized action Space: Box(-1.0, 1.0, (2,), float32)\u001b[0m\n",
      "\u001b[38;20m[WRAPPER NormalizeAction] (INFO) : Wrapper initialized\u001b[0m\n",
      "\u001b[38;20m[WRAPPER NormalizeObservation] (INFO) : Wrapper initialized.\u001b[0m\n",
      "\u001b[38;20m[WRAPPER LoggerWrapper] (INFO) : Wrapper initialized.\u001b[0m\n",
      "###########################################################################\n",
      "Old observation space shape:  17\n",
      "Old observation variables:  ['month', 'day_of_month', 'hour', 'outdoor_temperature', 'outdoor_humidity', 'wind_speed', 'wind_direction', 'diffuse_solar_radiation', 'direct_solar_radiation', 'htg_setpoint', 'clg_setpoint', 'air_temperature', 'air_humidity', 'people_occupant', 'co2_emission', 'HVAC_electricity_demand_rate', 'total_electricity_HVAC']\n",
      "###########################################################################\n",
      "\u001b[38;20m[WRAPPER CSVLogger] (INFO) : Wrapper initialized.\u001b[0m\n"
     ]
    },
    {
     "name": "stderr",
     "output_type": "stream",
     "text": [
      "Failed to detect the name of this notebook, you can set it manually with the WANDB_NOTEBOOK_NAME environment variable to enable code saving.\n",
      "\u001b[34m\u001b[1mwandb\u001b[0m: Using wandb-core as the SDK backend. Please refer to https://wandb.me/wandb-core for more information.\n",
      "\u001b[34m\u001b[1mwandb\u001b[0m: Currently logged in as: \u001b[33malex_ugr\u001b[0m (\u001b[33msail_ugr\u001b[0m). Use \u001b[1m`wandb login --relogin`\u001b[0m to force relogin\n"
     ]
    },
    {
     "data": {
      "text/html": [
       "Tracking run with wandb version 0.17.7"
      ],
      "text/plain": [
       "<IPython.core.display.HTML object>"
      ]
     },
     "metadata": {},
     "output_type": "display_data"
    },
    {
     "data": {
      "text/html": [
       "Run data is saved locally in <code>/workspaces/sinergym/examples/wandb/run-20240910_074919-rl1s4e17</code>"
      ],
      "text/plain": [
       "<IPython.core.display.HTML object>"
      ]
     },
     "metadata": {},
     "output_type": "display_data"
    },
    {
     "data": {
      "text/html": [
       "Syncing run <strong><a href='https://wandb.ai/sail_ugr/test-porject/runs/rl1s4e17' target=\"_blank\">test-reduction</a></strong> to <a href='https://wandb.ai/sail_ugr/test-porject' target=\"_blank\">Weights & Biases</a> (<a href='https://wandb.me/run' target=\"_blank\">docs</a>)<br/>"
      ],
      "text/plain": [
       "<IPython.core.display.HTML object>"
      ]
     },
     "metadata": {},
     "output_type": "display_data"
    },
    {
     "data": {
      "text/html": [
       " View project at <a href='https://wandb.ai/sail_ugr/test-porject' target=\"_blank\">https://wandb.ai/sail_ugr/test-porject</a>"
      ],
      "text/plain": [
       "<IPython.core.display.HTML object>"
      ]
     },
     "metadata": {},
     "output_type": "display_data"
    },
    {
     "data": {
      "text/html": [
       " View run at <a href='https://wandb.ai/sail_ugr/test-porject/runs/rl1s4e17' target=\"_blank\">https://wandb.ai/sail_ugr/test-porject/runs/rl1s4e17</a>"
      ],
      "text/plain": [
       "<IPython.core.display.HTML object>"
      ]
     },
     "metadata": {},
     "output_type": "display_data"
    },
    {
     "name": "stdout",
     "output_type": "stream",
     "text": [
      "\u001b[38;20m[WRAPPER WandBLogger] (INFO) : Wrapper initialized.\u001b[0m\n",
      "\u001b[38;20m[WRAPPER ReduceObservationWrapper] (INFO) : Wrapper initialized.\u001b[0m\n",
      "###########################################################################\n",
      "Wrapped observation space shape:  14\n",
      "Wrapped observation variables:  ['month', 'day_of_month', 'hour', 'wind_speed', 'wind_direction', 'diffuse_solar_radiation', 'direct_solar_radiation', 'htg_setpoint', 'clg_setpoint', 'air_humidity', 'people_occupant', 'co2_emission', 'HVAC_electricity_demand_rate', 'total_electricity_HVAC']\n",
      "###########################################################################\n"
     ]
    }
   ],
   "source": [
    "import gymnasium as gym\n",
    "import numpy as np\n",
    "\n",
    "import sinergym\n",
    "from sinergym.utils.wrappers import (\n",
    "    LoggerWrapper,\n",
    "    NormalizeAction,\n",
    "    NormalizeObservation,\n",
    "    ReduceObservationWrapper,\n",
    "    CSVLogger,\n",
    "    WandBLogger)\n",
    "\n",
    "# Creating environment and applying wrappers for normalization and logging\n",
    "env = gym.make('Eplus-5zone-hot-continuous-stochastic-v1')\n",
    "env = NormalizeAction(env)\n",
    "env = NormalizeObservation(env)\n",
    "env = LoggerWrapper(env)\n",
    "print('###########################################################################')\n",
    "print('Old observation space shape: ', env.observation_space.shape[0])\n",
    "print('Old observation variables: ',\n",
    "      env.get_wrapper_attr('observation_variables'))\n",
    "print('###########################################################################')\n",
    "\n",
    "# Here we can add the CSVLogger or WandBLogger\n",
    "env = CSVLogger(env)\n",
    "env = WandBLogger(env,\n",
    "                  entity='sail_ugr',\n",
    "                  project_name='test-porject',\n",
    "                  run_name='test-reduction')\n",
    "\n",
    "env = ReduceObservationWrapper(env, obs_reduction=[\n",
    "                               'outdoor_temperature', 'outdoor_humidity', 'air_temperature'])\n",
    "print('###########################################################################')\n",
    "print('Wrapped observation space shape: ', env.observation_space.shape[0])\n",
    "print('Wrapped observation variables: ',\n",
    "      env.get_wrapper_attr('observation_variables'))\n",
    "print('###########################################################################')"
   ]
  },
  {
   "cell_type": "markdown",
   "metadata": {},
   "source": [
    "The order of the wrappers is important! By applying normalization first, for example, we ensure that this transformation is subsequently monitored. \n",
    "\n",
    "As we apply the logger before reducing the observation space, we also record these variables before they are removed from the observations. If we use the logger wrapper at the end, these variables would not be monitored. This can be verified by reviewing the CSV files generated for the observation variables.\n",
    "\n",
    "Let's review the info dictionary to see the normalized variables that are no longer in `obs`:"
   ]
  },
  {
   "cell_type": "code",
   "execution_count": null,
   "metadata": {},
   "outputs": [
    {
     "name": "stdout",
     "output_type": "stream",
     "text": [
      "#----------------------------------------------------------------------------------------------#\n",
      "\u001b[38;20m[ENVIRONMENT] (INFO) : Starting a new episode.\u001b[0m\n",
      "\u001b[38;20m[ENVIRONMENT] (INFO) : Episode 1: 5zone-hot-continuous-stochastic-v1\u001b[0m\n",
      "#----------------------------------------------------------------------------------------------#\n",
      "\u001b[38;20m[MODELING] (INFO) : Episode directory created.\u001b[0m\n",
      "\u001b[38;20m[MODELING] (INFO) : Weather file USA_AZ_Davis-Monthan.AFB.722745_TMY3.epw used.\u001b[0m\n",
      "\u001b[38;20m[MODELING] (INFO) : Adapting weather to building model.\u001b[0m\n",
      "\u001b[38;20m[MODELING] (INFO) : Weather noise applied in columns: ['drybulb']\u001b[0m\n",
      "\u001b[38;20m[ENVIRONMENT] (INFO) : Saving episode output path.\u001b[0m\n",
      "\u001b[38;20m[ENVIRONMENT] (INFO) : Episode 1 started.\u001b[0m\n",
      "\u001b[38;20m[SIMULATOR] (INFO) : handlers initialized.\u001b[0m\n",
      "\u001b[38;20m[SIMULATOR] (INFO) : handlers are ready.\u001b[0m\n",
      "\u001b[38;20m[SIMULATOR] (INFO) : System is ready.\u001b[0m\n",
      "\u001b[38;20m[WRAPPER NormalizeObservation] (INFO) : Saving normalization calibration data.\u001b[0m\n",
      "###########################################################################\n",
      "Reset observation length:  14\n",
      "Removed variables info:  {'outdoor_temperature': np.float64(0.009759825889935545), 'outdoor_humidity': np.float64(0.009998816541465044), 'air_temperature': np.float64(0.009987481748785842)}\n",
      "###########################################################################\n",
      "###########################################################################\n",
      "step observation length:  14\n",
      "Removed variables info:  {'outdoor_temperature': np.float64(0.9852854070847759), 'outdoor_humidity': np.float64(-0.9745626607331893), 'air_temperature': np.float64(-0.44056459754655924)}\n",
      "###########################################################################\n",
      "Simulation Progress [Episode 1]: 100%|██████████| 100/100 [00:14<00:00,  6.90%/s, 100% completed]"
     ]
    }
   ],
   "source": [
    "obs, info = env.reset()\n",
    "print('###########################################################################')\n",
    "print('Reset observation length: ', len(obs))\n",
    "print('Removed variables info: ', info['removed_observation'])\n",
    "print('###########################################################################')\n",
    "\n",
    "a = env.action_space.sample()\n",
    "obs, _, _, _, info = env.step(a)\n",
    "print('###########################################################################')\n",
    "print('step observation length: ', len(obs))\n",
    "print('Removed variables info: ', info['removed_observation'])\n",
    "print('###########################################################################')\n",
    "\n",
    "terminated = truncated = False\n",
    "while not (terminated or truncated):\n",
    "    a = env.action_space.sample()\n",
    "    _, _, terminated, truncated, _ = env.step(a)"
   ]
  },
  {
   "cell_type": "markdown",
   "metadata": {},
   "source": [
    "Note that even if we remove a variable that is used in the reward function, as this value is used in the core of the environment (before any wrapper), it still works as expected."
   ]
  },
  {
   "cell_type": "code",
   "execution_count": 3,
   "metadata": {},
   "outputs": [
    {
     "name": "stdout",
     "output_type": "stream",
     "text": [
      "\u001b[38;20m[WRAPPER WandBLogger] (INFO) : Environment closed, dumping summary metrics in WandB Platform.\u001b[0m\n",
      "Simulation Progress [Episode 1]: 100%|██████████| 100/100 [00:16<00:00,  6.90%/s, 100% completed]"
     ]
    },
    {
     "name": "stderr",
     "output_type": "stream",
     "text": [
      "\u001b[34m\u001b[1mwandb\u001b[0m: Adding directory to artifact (/workspaces/sinergym/examples/Eplus-env-5zone-hot-continuous-stochastic-v1-res1)... Done. 0.0s\n"
     ]
    },
    {
     "data": {
      "text/html": [
       "<style>\n",
       "    table.wandb td:nth-child(1) { padding: 0 10px; text-align: left ; width: auto;} td:nth-child(2) {text-align: left ; width: 100%}\n",
       "    .wandb-row { display: flex; flex-direction: row; flex-wrap: wrap; justify-content: flex-start; width: 100% }\n",
       "    .wandb-col { display: flex; flex-direction: column; flex-basis: 100%; flex: 1; padding: 10px; }\n",
       "    </style>\n",
       "<div class=\"wandb-row\"><div class=\"wandb-col\"><h3>Run history:</h3><br/><table class=\"wandb\"><tr><td>Agent_actions/Cooling_Setpoint_RL</td><td>▃▆▇▇▄▁█▄▄▃▂▇▅█▇▃▄█▇▄▅▅█▅█▄█▂▃▂█▂▄▃▃</td></tr><tr><td>Agent_actions/Heating_Setpoint_RL</td><td>▆█▁█▂▁▃▃█▆█▂▅▆▃▂▇▆▃▅▅▅▇▄▃▆▇▃▄▇▃▇▆▃▃</td></tr><tr><td>Info/abs_comfort_penalty</td><td>▃▇█▃█▇██▃█▅█▁█▆█▇██▇▇█▃█▄██▇████▄█▆</td></tr><tr><td>Info/abs_energy_penalty</td><td>██▁██▆██▇█▃█▆▇█▂█▇▇▆▇█▇█▇██▆██████▅</td></tr><tr><td>Info/comfort_term</td><td>▃▇█▃█▇██▃█▅█▁█▆█▇██▇▇█▃█▄██▇████▄█▆</td></tr><tr><td>Info/energy_term</td><td>██▁██▆██▇█▃█▆▇█▂█▇▇▆▇█▇█▇██▆██████▅</td></tr><tr><td>Info/total_power_demand</td><td>▁▁█▁▁▃▁▁▂▁▆▁▃▂▁▇▁▂▂▃▂▁▂▁▂▁▁▃▁▁▁▁▁▁▄</td></tr><tr><td>Info/total_temperature_violation</td><td>▆▂▁▆▁▂▁▁▆▁▄▁█▁▃▁▂▁▁▂▂▁▆▁▅▁▁▂▁▁▁▁▅▁▃</td></tr><tr><td>Normalized_observations/HVAC_electricity_demand_rate</td><td>▁▁█▁▁▃▁▂▂▂▇▂▃▂▁█▂▂▂▃▂▁▂▁▂▁▁▃▁▁▁▁▁▁▅</td></tr><tr><td>Normalized_observations/air_humidity</td><td>▆▆▄█▇▅▆▃▄▁▅▁▃▁▃▂▅▂▆▂▇▂▆▂▄▃▅▃▅▃▅▃▃▃▄</td></tr><tr><td>Normalized_observations/air_temperature</td><td>▆▄▂▇▂▅▃▃▆▃▅▄▇▄▂▄▃▄▃▃▆▃█▃█▃▁▄▂▃▃▁▅▁▅</td></tr><tr><td>Normalized_observations/clg_setpoint</td><td>▇▄█▆▄▂▄▇▇▂▃█▆▃▇▁▆▅▄▂██▇▃█▇▆▃▁▇▆▆▇▇▃</td></tr><tr><td>Normalized_observations/co2_emission</td><td>▁▁▁▁▁▁▁▁▁▁▁▁▁▁▁▁▁▁▁▁▁▁▁▁▁▁▁▁▁▁▁▁▁▁▁</td></tr><tr><td>Normalized_observations/day_of_month</td><td>██▁▄▆▂▄▇▂▅▇▂▅▇▂▅▇▂▅▇▂▅▇▃▅▇▃▅█▃▅█▃▆█</td></tr><tr><td>Normalized_observations/diffuse_solar_radiation</td><td>▄▁▁▅▁▆▁▃▂▁█▁▄▁▂▃▁▇▁▃▂▁▄▁▄▁▁▃▁▂▁▂▁▁▃</td></tr><tr><td>Normalized_observations/direct_solar_radiation</td><td>▆▁▁▂▁▇▁▆▄▁▅▁▇▁▄▆▁▅▁▆▂▁▁▁▆▁▁▄▁█▁▅▁▁▇</td></tr><tr><td>Normalized_observations/hour</td><td>▄▇▃▆▂▅█▄▇▂▅▁▄▇▃▆▂▅█▄▇▂▅▁▄▇▃▆▂▅█▄▇▂▅</td></tr><tr><td>Normalized_observations/htg_setpoint</td><td>▃▂█▄▁▂▇▂▅▆▂▅▂▄▇▆▄▇▄▅█▃▂▄▂▇▃▇▆▅▂▃▃▂▃</td></tr><tr><td>Normalized_observations/month</td><td>▁▁█▂▂▃▂▂▂▂▂▂▂▂▂▂▂▂▂▂▂▂▂▂▂▂▂▂▂▂▂▂▂▂▂</td></tr><tr><td>Normalized_observations/outdoor_humidity</td><td>▆▆██▇▄▆▂▁▃▂▂▂▂▃▂▃▂█▆▄▅▃▆▂▃▆▂▆▂▄▄▃▅▂</td></tr><tr><td>Normalized_observations/outdoor_temperature</td><td>▃▃▂▄▃▅▄▂█▅▇▆▇▆▅█▅▆▄▅▆▄▆▅▅▅▂▄▂▄▃▂▃▁▄</td></tr><tr><td>Normalized_observations/people_occupant</td><td>█▂▁█▁▄▁█▄▁█▁█▁▁▁▁▁▁▁▄▁█▁█▁▁▁▁▁▁▁▅▁█</td></tr><tr><td>Normalized_observations/total_electricity_HVAC</td><td>▁▁█▁▁▃▁▁▂▂▇▂▃▂▁█▁▂▂▃▂▁▂▁▂▁▁▃▁▁▁▁▁▁▅</td></tr><tr><td>Normalized_observations/wind_direction</td><td>▄▆▄▃▄█▄▆▆▃▆▆▅▆▃▆▃▇▃▃▁▃▇▃▃▇▃▅▃▄▃▄█▃▆</td></tr><tr><td>Normalized_observations/wind_speed</td><td>▂▂▄▃▃▅▃▂▅▃▄▄▂▅▃▆▃▃▄▄▃▃▇▃█▃▁▅▂▂▄▄▁▁▂</td></tr><tr><td>Observations/HVAC_electricity_demand_rate</td><td>▁▁█▁▁▃▁▁▂▁▆▁▃▂▁▇▁▂▂▃▂▁▂▁▂▁▁▃▁▁▁▁▁▁▄</td></tr><tr><td>Observations/air_humidity</td><td>▇▆▅██▆▇▄▅▁▅▁▃▁▃▁▅▁▇▂▇▂▆▂▄▂▅▃▅▃▅▃▃▃▄</td></tr><tr><td>Observations/air_temperature</td><td>▆▄▂▆▁▄▃▂▆▂▅▃▇▄▂▄▃▄▃▃▆▃█▃█▃▁▄▂▃▃▁▅▁▅</td></tr><tr><td>Observations/clg_setpoint</td><td>▇▄█▆▄▂▄▇▆▂▃█▆▃▇▁▆▅▄▂▇█▇▃█▇▆▃▁▇▆▆▇▇▃</td></tr><tr><td>Observations/co2_emission</td><td>▁▁▁▁▁▁▁▁▁▁▁▁▁▁▁▁▁▁▁▁▁▁▁▁▁▁▁▁▁▁▁▁▁▁▁</td></tr><tr><td>Observations/day_of_month</td><td>▃▆▁▃▆▂▄▇▂▄▇▂▅▇▂▅▇▂▅▇▂▅▇▃▅▇▃▅█▃▅█▃▆█</td></tr><tr><td>Observations/diffuse_solar_radiation</td><td>▃▁▁▄▁▅▁▃▂▁█▁▄▁▂▃▁▇▁▃▂▁▄▁▄▁▁▃▁▂▁▂▁▁▃</td></tr><tr><td>Observations/direct_solar_radiation</td><td>▆▁▁▁▁▆▁▆▃▁▄▁▇▁▄▆▁▆▁▆▂▁▁▁▇▁▁▄▁█▁▅▁▁▇</td></tr><tr><td>Observations/hour</td><td>▄▇▃▆▂▅█▄▇▂▅▁▄▇▃▆▂▅█▄▇▂▅▁▄▇▃▆▂▅█▄▇▂▅</td></tr><tr><td>Observations/htg_setpoint</td><td>▃▂█▄▁▂▇▂▅▆▂▅▂▄▇▆▄▇▄▅█▃▂▄▂▇▃▆▆▅▂▃▃▂▃</td></tr><tr><td>Observations/month</td><td>▁▁▂▂▂▂▂▂▃▃▃▄▄▄▄▄▄▅▅▅▅▅▅▆▆▆▇▇▇▇▇▇███</td></tr><tr><td>Observations/outdoor_humidity</td><td>▆▇███▅▇▃▁▄▂▂▁▂▃▁▂▁▇▅▃▄▃▅▂▂▅▁▅▁▃▃▂▄▂</td></tr><tr><td>Observations/outdoor_temperature</td><td>▂▂▁▃▂▃▂▁▆▄▆▅▆▅▅█▅▇▄▆▇▅▇▅▆▆▂▅▂▅▃▂▃▁▄</td></tr><tr><td>Observations/people_occupant</td><td>█▂▁█▁▄▁█▅▁█▁█▁▁▁▁▁▁▁▅▁█▁█▁▁▁▁▁▁▁▅▁█</td></tr><tr><td>Observations/total_electricity_HVAC</td><td>▁▁█▁▁▃▁▁▂▁▇▁▃▂▁█▁▁▂▃▂▁▂▁▂▁▁▃▁▁▁▁▁▁▅</td></tr><tr><td>Observations/wind_direction</td><td>▃▆▃▃▃█▄▆▆▃▆▆▅▆▃▆▃▇▃▃▁▃▇▄▃█▃▅▃▄▃▄█▄▆</td></tr><tr><td>Observations/wind_speed</td><td>▂▂▄▃▃▄▂▂▄▂▄▄▂▅▃▆▃▃▄▄▃▃▇▃█▃▁▅▂▂▄▃▁▁▂</td></tr><tr><td>Reward/reward</td><td>▄▇▆▃█▇██▃█▄█▁█▆▇▇██▇▇█▃█▄██▇████▅█▅</td></tr><tr><td>Simulation_actions/Cooling_Setpoint_RL</td><td>▃▆▇▇▄▁█▄▄▃▂▇▅█▇▃▄█▇▄▅▅█▅█▄█▂▃▂█▂▄▃▃</td></tr><tr><td>Simulation_actions/Heating_Setpoint_RL</td><td>▆█▁█▂▁▃▃█▆█▂▅▆▃▂▇▆▃▅▅▅▇▄▃▆▇▃▄▇▃▇▆▃▃</td></tr><tr><td>episode_summaries/comfort_violation_time(%)</td><td>▁</td></tr><tr><td>episode_summaries/cumulative_power_demand</td><td>▁</td></tr><tr><td>episode_summaries/episode_num</td><td>▁</td></tr><tr><td>episode_summaries/length(timesteps)</td><td>▁</td></tr><tr><td>episode_summaries/mean_abs_comfort_penalty</td><td>▁</td></tr><tr><td>episode_summaries/mean_abs_energy_penalty</td><td>▁</td></tr><tr><td>episode_summaries/mean_power_demand</td><td>▁</td></tr><tr><td>episode_summaries/mean_reward</td><td>▁</td></tr><tr><td>episode_summaries/mean_reward_comfort_term</td><td>▁</td></tr><tr><td>episode_summaries/mean_reward_energy_term</td><td>▁</td></tr><tr><td>episode_summaries/mean_temperature_violation</td><td>▁</td></tr><tr><td>episode_summaries/std_abs_comfort_penalty</td><td>▁</td></tr><tr><td>episode_summaries/std_abs_energy_penalty</td><td>▁</td></tr><tr><td>episode_summaries/std_power_demand</td><td>▁</td></tr><tr><td>episode_summaries/std_reward</td><td>▁</td></tr><tr><td>episode_summaries/std_reward_comfort_term</td><td>▁</td></tr><tr><td>episode_summaries/std_reward_energy_term</td><td>▁</td></tr><tr><td>episode_summaries/std_temperature_violation</td><td>▁</td></tr><tr><td>episode_summaries/time_elapsed(hours)</td><td>▁</td></tr></table><br/></div><div class=\"wandb-col\"><h3>Run summary:</h3><br/><table class=\"wandb\"><tr><td>Agent_actions/Cooling_Setpoint_RL</td><td>-0.4241</td></tr><tr><td>Agent_actions/Heating_Setpoint_RL</td><td>-0.45542</td></tr><tr><td>Info/abs_comfort_penalty</td><td>-1.32374</td></tr><tr><td>Info/abs_energy_penalty</td><td>-4978.12566</td></tr><tr><td>Info/comfort_term</td><td>-0.66187</td></tr><tr><td>Info/energy_term</td><td>-0.24891</td></tr><tr><td>Info/total_power_demand</td><td>4978.12566</td></tr><tr><td>Info/total_temperature_violation</td><td>1.32374</td></tr><tr><td>Normalized_observations/HVAC_electricity_demand_rate</td><td>1.27458</td></tr><tr><td>Normalized_observations/air_humidity</td><td>-0.41403</td></tr><tr><td>Normalized_observations/air_temperature</td><td>0.63074</td></tr><tr><td>Normalized_observations/clg_setpoint</td><td>-0.92581</td></tr><tr><td>Normalized_observations/co2_emission</td><td>0</td></tr><tr><td>Normalized_observations/day_of_month</td><td>1.74094</td></tr><tr><td>Normalized_observations/diffuse_solar_radiation</td><td>0.40586</td></tr><tr><td>Normalized_observations/direct_solar_radiation</td><td>1.70599</td></tr><tr><td>Normalized_observations/hour</td><td>0.36235</td></tr><tr><td>Normalized_observations/htg_setpoint</td><td>-0.63437</td></tr><tr><td>Normalized_observations/month</td><td>1.59077</td></tr><tr><td>Normalized_observations/outdoor_humidity</td><td>-0.97885</td></tr><tr><td>Normalized_observations/outdoor_temperature</td><td>-0.03853</td></tr><tr><td>Normalized_observations/people_occupant</td><td>1.69558</td></tr><tr><td>Normalized_observations/total_electricity_HVAC</td><td>1.36765</td></tr><tr><td>Normalized_observations/wind_direction</td><td>0.71151</td></tr><tr><td>Normalized_observations/wind_speed</td><td>-1.10769</td></tr><tr><td>Observations/HVAC_electricity_demand_rate</td><td>4978.12549</td></tr><tr><td>Observations/air_humidity</td><td>23.60334</td></tr><tr><td>Observations/air_temperature</td><td>24.82374</td></tr><tr><td>Observations/clg_setpoint</td><td>24.82435</td></tr><tr><td>Observations/co2_emission</td><td>0</td></tr><tr><td>Observations/day_of_month</td><td>31</td></tr><tr><td>Observations/diffuse_solar_radiation</td><td>95.75</td></tr><tr><td>Observations/direct_solar_radiation</td><td>879</td></tr><tr><td>Observations/hour</td><td>14</td></tr><tr><td>Observations/htg_setpoint</td><td>15.57557</td></tr><tr><td>Observations/month</td><td>12</td></tr><tr><td>Observations/outdoor_humidity</td><td>11.75</td></tr><tr><td>Observations/outdoor_temperature</td><td>21.2873</td></tr><tr><td>Observations/people_occupant</td><td>20</td></tr><tr><td>Observations/total_electricity_HVAC</td><td>5090787.5</td></tr><tr><td>Observations/wind_direction</td><td>247.5</td></tr><tr><td>Observations/wind_speed</td><td>1.375</td></tr><tr><td>Reward/reward</td><td>-0.91078</td></tr><tr><td>Simulation_actions/Cooling_Setpoint_RL</td><td>25.19366</td></tr><tr><td>Simulation_actions/Heating_Setpoint_RL</td><td>15.06324</td></tr><tr><td>episode_summaries/comfort_violation_time(%)</td><td>47.27169</td></tr><tr><td>episode_summaries/cumulative_power_demand</td><td>64460871.50538</td></tr><tr><td>episode_summaries/episode_num</td><td>1</td></tr><tr><td>episode_summaries/length(timesteps)</td><td>35040</td></tr><tr><td>episode_summaries/mean_abs_comfort_penalty</td><td>-0.72661</td></tr><tr><td>episode_summaries/mean_abs_energy_penalty</td><td>-1839.63674</td></tr><tr><td>episode_summaries/mean_power_demand</td><td>1839.63674</td></tr><tr><td>episode_summaries/mean_reward</td><td>-0.45529</td></tr><tr><td>episode_summaries/mean_reward_comfort_term</td><td>-0.3633</td></tr><tr><td>episode_summaries/mean_reward_energy_term</td><td>-0.09198</td></tr><tr><td>episode_summaries/mean_temperature_violation</td><td>0.72661</td></tr><tr><td>episode_summaries/std_abs_comfort_penalty</td><td>1.1996</td></tr><tr><td>episode_summaries/std_abs_energy_penalty</td><td>2461.27112</td></tr><tr><td>episode_summaries/std_power_demand</td><td>2461.27112</td></tr><tr><td>episode_summaries/std_reward</td><td>0.60452</td></tr><tr><td>episode_summaries/std_reward_comfort_term</td><td>0.5998</td></tr><tr><td>episode_summaries/std_reward_energy_term</td><td>0.12306</td></tr><tr><td>episode_summaries/std_temperature_violation</td><td>1.1996</td></tr><tr><td>episode_summaries/time_elapsed(hours)</td><td>8760</td></tr></table><br/></div></div>"
      ],
      "text/plain": [
       "<IPython.core.display.HTML object>"
      ]
     },
     "metadata": {},
     "output_type": "display_data"
    },
    {
     "data": {
      "text/html": [
       " View run <strong style=\"color:#cdcd00\">test-reduction</strong> at: <a href='https://wandb.ai/sail_ugr/test-porject/runs/rl1s4e17' target=\"_blank\">https://wandb.ai/sail_ugr/test-porject/runs/rl1s4e17</a><br/> View project at: <a href='https://wandb.ai/sail_ugr/test-porject' target=\"_blank\">https://wandb.ai/sail_ugr/test-porject</a><br/>Synced 5 W&B file(s), 0 media file(s), 12 artifact file(s) and 0 other file(s)"
      ],
      "text/plain": [
       "<IPython.core.display.HTML object>"
      ]
     },
     "metadata": {},
     "output_type": "display_data"
    },
    {
     "data": {
      "text/html": [
       "Find logs at: <code>./wandb/run-20240910_074919-rl1s4e17/logs</code>"
      ],
      "text/plain": [
       "<IPython.core.display.HTML object>"
      ]
     },
     "metadata": {},
     "output_type": "display_data"
    },
    {
     "name": "stdout",
     "output_type": "stream",
     "text": [
      "\u001b[38;20m[WRAPPER CSVLogger] (INFO) : Environment closed, data updated in monitor and progress.csv.\u001b[0m\n",
      "Simulation Progress [Episode 1]: 100%|██████████| 100/100 [00:29<00:00,  3.37%/s, 100% completed]\n",
      "\u001b[38;20m[ENVIRONMENT] (INFO) : Environment closed. [5zone-hot-continuous-stochastic-v1]\u001b[0m\n",
      "\u001b[38;20m[WRAPPER NormalizeObservation] (INFO) : Saving normalization calibration data.\u001b[0m\n"
     ]
    },
    {
     "name": "stderr",
     "output_type": "stream",
     "text": [
      "/usr/local/lib/python3.12/dist-packages/wandb/sdk/wandb_run.py:2372: UserWarning: Run (rl1s4e17) is finished. The call to `_console_raw_callback` will be ignored. Please make sure that you are using an active run.\n",
      "  lambda data: self._console_raw_callback(\"stdout\", data),\n"
     ]
    }
   ],
   "source": [
    "env.close()"
   ]
  }
 ],
 "metadata": {
  "kernelspec": {
   "display_name": "Python 3",
   "language": "python",
   "name": "python3"
  },
  "language_info": {
   "codemirror_mode": {
    "name": "ipython",
    "version": 3
   },
   "file_extension": ".py",
   "mimetype": "text/x-python",
   "name": "python",
   "nbconvert_exporter": "python",
   "pygments_lexer": "ipython3",
   "version": "3.12.3"
  }
 },
 "nbformat": 4,
 "nbformat_minor": 2
}
