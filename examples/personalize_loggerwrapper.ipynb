{
 "cells": [
  {
   "attachments": {},
   "cell_type": "markdown",
   "metadata": {
    "collapsed": false
   },
   "source": [
    "# Logger Wrapper personalization/configuration"
   ]
  },
  {
   "attachments": {},
   "cell_type": "markdown",
   "metadata": {
    "collapsed": false
   },
   "source": [
    "We will see on this notebook how to personalize the logger wrapper defined by sinergym."
   ]
  },
  {
   "cell_type": "code",
   "execution_count": 2,
   "metadata": {
    "collapsed": true,
    "pycharm": {
     "is_executing": true
    }
   },
   "outputs": [],
   "source": [
    "import gymnasium as gym\n",
    "import numpy as np\n",
    "import sinergym\n",
    "from sinergym.utils.wrappers import (LoggerWrapper, MultiObsWrapper,\n",
    "                                     NormalizeObservation)"
   ]
  },
  {
   "attachments": {},
   "cell_type": "markdown",
   "metadata": {},
   "source": [
    "## Step 1 Inherit and modify the CSVloger"
   ]
  },
  {
   "attachments": {},
   "cell_type": "markdown",
   "metadata": {
    "collapsed": false
   },
   "source": [
    "First we need to change the CSV logger to modify the values written into the file on the function `create_row_contents`."
   ]
  },
  {
   "cell_type": "code",
   "execution_count": 3,
   "metadata": {
    "collapsed": false,
    "pycharm": {
     "name": "#%%\n"
    }
   },
   "outputs": [],
   "source": [
    "\n",
    "from sinergym.utils.logger import CSVLogger\n",
    "from typing import Any, Dict, Optional, Sequence, Tuple, Union, List\n",
    "\n",
    "class CustomCSVLogger(CSVLogger):\n",
    "\n",
    "    def __init__(\n",
    "            self,\n",
    "            monitor_header: str,\n",
    "            progress_header: str,\n",
    "            log_progress_file: str,\n",
    "            log_file: Optional[str] = None,\n",
    "            flag: bool = True):\n",
    "        super(CustomCSVLogger, self).__init__(monitor_header,progress_header,log_progress_file,log_file,flag)\n",
    "        self.last_10_steps_reward = [0]*10\n",
    "\n",
    "    def _create_row_content(\n",
    "            self,\n",
    "            obs: List[Any],\n",
    "            action: Union[int, np.ndarray, List[Any]],\n",
    "            terminated: bool,\n",
    "            info: Optional[Dict[str, Any]]) -> List:\n",
    "            \n",
    "        if info.get('reward') is not None:\n",
    "            self.last_10_steps_reward.pop(0)\n",
    "            self.last_10_steps_reward.append(info['reward'])\n",
    "\n",
    "        \n",
    "        return [\n",
    "            info.get('timestep',0)] + list(obs) + list(action) + [\n",
    "            info.get('time_elapsed(hours)',0),\n",
    "            info.get('reward',None),\n",
    "            np.mean(self.last_10_steps_reward),\n",
    "            info.get('total_power_no_units'),\n",
    "            info.get('comfort_penalty'),\n",
    "            info.get('abs_comfort'),\n",
    "            terminated]\n",
    "\n",
    "    "
   ]
  },
  {
   "attachments": {},
   "cell_type": "markdown",
   "metadata": {
    "collapsed": false
   },
   "source": [
    "## Step 2 Instantiate the LoggerWrapper\n"
   ]
  },
  {
   "attachments": {},
   "cell_type": "markdown",
   "metadata": {
    "collapsed": false
   },
   "source": [
    "Now, we need to instantiate the `LoggerWrapper` and specify the new headers of our file and the `CSVLogger` class we want to use."
   ]
  },
  {
   "cell_type": "code",
   "execution_count": 4,
   "metadata": {
    "collapsed": false,
    "pycharm": {
     "name": "#%%\n"
    }
   },
   "outputs": [
    {
     "name": "stdout",
     "output_type": "stream",
     "text": [
      "#==============================================================================================#\n",
      "\u001b[38;20m[ENVIRONMENT] (INFO) : Creating Gymnasium environment... [demo-v1]\u001b[0m\n",
      "#==============================================================================================#\n",
      "\u001b[38;20m[MODELING] (INFO) : Experiment working directory created [/workspaces/sinergym/examples/Eplus-env-demo-v1-res35042]\u001b[0m\n",
      "\u001b[38;20m[MODELING] (INFO) : runperiod established: {'start_day': 1, 'start_month': 1, 'start_year': 1991, 'end_day': 31, 'end_month': 12, 'end_year': 1991, 'start_weekday': 1, 'n_steps_per_hour': 4}\u001b[0m\n",
      "\u001b[38;20m[MODELING] (INFO) : Episode length (seconds): 31536000.0\u001b[0m\n",
      "\u001b[38;20m[MODELING] (INFO) : timestep size (seconds): 900.0\u001b[0m\n",
      "\u001b[38;20m[MODELING] (INFO) : timesteps per episode: 35040\u001b[0m\n",
      "\u001b[38;20m[MODELING] (INFO) : Model Config is correct.\u001b[0m\n",
      "\u001b[38;20m[ENVIRONMENT] (INFO) : Environment demo-v1 created successfully.\u001b[0m\n",
      "\u001b[38;20m[WRAPPER LoggerWrapper] (INFO) : Wrapper initialized.\u001b[0m\n"
     ]
    }
   ],
   "source": [
    "env=gym.make('Eplus-demo-v1')\n",
    "env=LoggerWrapper(env,logger_class=CustomCSVLogger,monitor_header = ['timestep'] + env.get_wrapper_attr('observation_variables') +\n",
    "                env.get_wrapper_attr('action_variables') + ['time (hours)', 'reward', '10-mean-reward',\n",
    "                'power_penalty', 'comfort_penalty', 'done'])"
   ]
  },
  {
   "attachments": {},
   "cell_type": "markdown",
   "metadata": {},
   "source": [
    "Now, you can see in Sinergym output folder that you will have available `progress.csv` file and `monitor.csv` files in each episode."
   ]
  },
  {
   "cell_type": "code",
   "execution_count": 5,
   "metadata": {
    "collapsed": false,
    "pycharm": {
     "name": "#%%\n"
    }
   },
   "outputs": [
    {
     "name": "stdout",
     "output_type": "stream",
     "text": [
      "#----------------------------------------------------------------------------------------------#\n",
      "\u001b[38;20m[ENVIRONMENT] (INFO) : Starting a new episode... [demo-v1] [Episode 1]\u001b[0m\n",
      "#----------------------------------------------------------------------------------------------#\n",
      "\u001b[38;20m[MODELING] (INFO) : Episode directory created [/workspaces/sinergym/examples/Eplus-env-demo-v1-res35042/Eplus-env-sub_run1]\u001b[0m\n",
      "\u001b[38;20m[MODELING] (INFO) : Weather file USA_PA_Pittsburgh-Allegheny.County.AP.725205_TMY3.epw used.\u001b[0m\n",
      "\u001b[38;20m[MODELING] (INFO) : Updated building model with whole Output:Variable available names\u001b[0m\n",
      "\u001b[38;20m[MODELING] (INFO) : Updated building model with whole Output:Meter available names\u001b[0m\n",
      "\u001b[38;20m[MODELING] (INFO) : Adapting weather to building model. [USA_PA_Pittsburgh-Allegheny.County.AP.725205_TMY3.epw]\u001b[0m\n",
      "\u001b[38;20m[ENVIRONMENT] (INFO) : Saving episode output path... [/workspaces/sinergym/examples/Eplus-env-demo-v1-res35042/Eplus-env-sub_run1/output]\u001b[0m\n"
     ]
    },
    {
     "name": "stderr",
     "output_type": "stream",
     "text": [
      "/usr/local/lib/python3.10/dist-packages/opyplus/weather_data/weather_data.py:493: FutureWarning: the 'line_terminator'' keyword is deprecated, use 'lineterminator' instead.\n",
      "  epw_content = self._headers_to_epw(use_datetimes=use_datetimes) + df.to_csv(\n"
     ]
    },
    {
     "name": "stdout",
     "output_type": "stream",
     "text": [
      "\u001b[38;20m[SIMULATOR] (INFO) : Running EnergyPlus with args: ['-w', '/workspaces/sinergym/examples/Eplus-env-demo-v1-res35042/Eplus-env-sub_run1/USA_PA_Pittsburgh-Allegheny.County.AP.725205_TMY3.epw', '-d', '/workspaces/sinergym/examples/Eplus-env-demo-v1-res35042/Eplus-env-sub_run1/output', '/workspaces/sinergym/examples/Eplus-env-demo-v1-res35042/Eplus-env-sub_run1/5ZoneAutoDXVAV.epJSON']\u001b[0m\n",
      "\u001b[38;20m[ENVIRONMENT] (INFO) : Episode 1 started.\u001b[0m\n",
      "\u001b[38;20m[SIMULATOR] (INFO) : handlers initialized.\u001b[0m\n",
      "\u001b[38;20m[SIMULATOR] (INFO) : handlers are ready.\u001b[0m\n",
      "\u001b[38;20m[SIMULATOR] (INFO) : System is ready.\u001b[0m\n",
      "\u001b[38;20m[WRAPPER LoggerWrapper] (INFO) : Creating monitor.csv for current episode (episode 1) if logger is active\u001b[0m\n",
      "Reward:  -1.4254385096063296 {'time_elapsed(hours)': 0.5, 'month': 1, 'day': 1, 'hour': 0, 'is_raining': False, 'action': [21.22826, 25.218605], 'timestep': 2, 'reward': -1.4254385096063296, 'energy_term': -0.04879983228543358, 'comfort_term': -1.376638677320896, 'reward_weight': 0.5, 'abs_energy': 975.9966457086716, 'abs_comfort': 2.753277354641792, 'energy_values': [975.9966457086716], 'temp_values': [17.246722645358208]}\n",
      "Reward:  -1380.3217511478574 {'time_elapsed(hours)': 744.25, 'month': 2, 'day': 1, 'hour': 0, 'is_raining': False, 'action': [20.200315, 29.224577], 'timestep': 2977, 'reward': -0.04879983228543358, 'energy_term': -0.04879983228543358, 'comfort_term': -0.0, 'reward_weight': 0.5, 'abs_energy': 975.9966457086716, 'abs_comfort': 0.0, 'energy_values': [975.9966457086716], 'temp_values': [20.278855979765197]}\n",
      "Reward:  -3102.845363489456 {'time_elapsed(hours)': 1416.3125, 'month': 3, 'day': 1, 'hour': 0, 'is_raining': False, 'action': [22.489424, 25.49079], 'timestep': 5665, 'reward': -0.8098532298882731, 'energy_term': -0.029783142581018093, 'comfort_term': -0.780070087307255, 'reward_weight': 0.5, 'abs_energy': 595.6628516203618, 'abs_comfort': 1.56014017461451, 'energy_values': [595.6628516203618], 'temp_values': [18.43985982538549]}\n",
      "Reward:  -4782.030115205747 {'time_elapsed(hours)': 2160.25, 'month': 4, 'day': 1, 'hour': 0, 'is_raining': False, 'action': [15.945, 26.791994], 'timestep': 8641, 'reward': -0.5384516985382692, 'energy_term': -0.0, 'comfort_term': -0.5384516985382692, 'reward_weight': 0.5, 'abs_energy': 0.0, 'abs_comfort': 1.0769033970765385, 'energy_values': [0.0], 'temp_values': [18.92309660292346]}\n",
      "Reward:  -6821.508981836632 {'time_elapsed(hours)': 2880.25, 'month': 5, 'day': 1, 'hour': 0, 'is_raining': False, 'action': [20.356539, 25.042429], 'timestep': 11521, 'reward': -0.0, 'energy_term': -0.0, 'comfort_term': -0.0, 'reward_weight': 0.5, 'abs_energy': 0.0, 'abs_comfort': 0.0, 'energy_values': [0.0], 'temp_values': [21.845626604275434]}\n",
      "Reward:  -8885.92653092121 {'time_elapsed(hours)': 3624.25, 'month': 6, 'day': 1, 'hour': 0, 'is_raining': False, 'action': [18.489126, 28.981773], 'timestep': 14497, 'reward': -0.0, 'energy_term': -0.0, 'comfort_term': -0.0, 'reward_weight': 0.5, 'abs_energy': 0.0, 'abs_comfort': 0.0, 'energy_values': [0.0], 'temp_values': [23.338304438138064]}\n",
      "Reward:  -10608.36383402682 {'time_elapsed(hours)': 4344.25, 'month': 7, 'day': 1, 'hour': 0, 'is_raining': False, 'action': [21.678598, 23.971186], 'timestep': 17377, 'reward': -0.010232836264412626, 'energy_term': -0.0, 'comfort_term': -0.010232836264412626, 'reward_weight': 0.5, 'abs_energy': 0.0, 'abs_comfort': 0.02046567252882525, 'energy_values': [0.0], 'temp_values': [22.979534327471175]}\n",
      "Reward:  -12177.13363848303 {'time_elapsed(hours)': 5088.25, 'month': 8, 'day': 1, 'hour': 0, 'is_raining': False, 'action': [20.575644, 22.527754], 'timestep': 20353, 'reward': -0.08641905816061879, 'energy_term': -0.0, 'comfort_term': -0.08641905816061879, 'reward_weight': 0.5, 'abs_energy': 0.0, 'abs_comfort': 0.17283811632123758, 'energy_values': [0.0], 'temp_values': [22.827161883678762]}\n",
      "Reward:  -13713.219851819184 {'time_elapsed(hours)': 5832.25, 'month': 9, 'day': 1, 'hour': 0, 'is_raining': False, 'action': [21.085989, 25.496067], 'timestep': 23329, 'reward': -0.3483584652967586, 'energy_term': -0.0, 'comfort_term': -0.3483584652967586, 'reward_weight': 0.5, 'abs_energy': 0.0, 'abs_comfort': 0.6967169305935172, 'energy_values': [0.0], 'temp_values': [22.303283069406483]}\n",
      "Reward:  -15692.443798260185 {'time_elapsed(hours)': 6552.333333333333, 'month': 10, 'day': 1, 'hour': 0, 'is_raining': False, 'action': [15.115922, 24.705809], 'timestep': 26209, 'reward': -0.005325894617248533, 'energy_term': -0.005325894617248533, 'comfort_term': -0.0, 'reward_weight': 0.5, 'abs_energy': 106.51789234497065, 'abs_comfort': 0.0, 'energy_values': [106.51789234497065], 'temp_values': [21.430620342382053]}\n",
      "Reward:  -17900.34186040004 {'time_elapsed(hours)': 7296.333333333333, 'month': 11, 'day': 1, 'hour': 0, 'is_raining': False, 'action': [17.500765, 25.541393], 'timestep': 29185, 'reward': -0.006608942343912387, 'energy_term': -0.006608942343912387, 'comfort_term': -0.0, 'reward_weight': 0.5, 'abs_energy': 132.17884687824773, 'abs_comfort': 0.0, 'energy_values': [132.17884687824773], 'temp_values': [20.425634082737023]}\n",
      "Reward:  -18988.206629177886 {'time_elapsed(hours)': 8016.25, 'month': 12, 'day': 1, 'hour': 0, 'is_raining': True, 'action': [21.138575, 27.438887], 'timestep': 32065, 'reward': -1.2409508841573094, 'energy_term': -0.011983899792732107, 'comfort_term': -1.2289669843645772, 'reward_weight': 0.5, 'abs_energy': 239.67799585464212, 'abs_comfort': 2.4579339687291544, 'energy_values': [239.67799585464212], 'temp_values': [17.542066031270846]}\n",
      "Progress: |***************************************************************************************************| 99%\n",
      "Episode  0 Mean reward:  -0.5727216318523939 Cumulative reward:  -20068.165980108883\n",
      "\u001b[38;20m[WRAPPER LoggerWrapper] (INFO) : End of episode, recording summary (progress.csv) if logger is active\u001b[0m\n",
      "\u001b[38;20m[ENVIRONMENT] (INFO) : Environment closed. [demo-v1]\u001b[0m\n"
     ]
    }
   ],
   "source": [
    "for i in range(1):\n",
    "    obs, info = env.reset()\n",
    "    rewards = []\n",
    "    terminated = False\n",
    "    current_month = 0\n",
    "    while not terminated:\n",
    "        a = env.action_space.sample()\n",
    "        obs, reward, terminated, truncated, info = env.step(a)\n",
    "        rewards.append(reward)\n",
    "        if info['month'] != current_month:  # display results every month\n",
    "            current_month = info['month']\n",
    "            print('Reward: ', sum(rewards), info)\n",
    "    print('Episode ', i, 'Mean reward: ', np.mean(\n",
    "        rewards), 'Cumulative reward: ', sum(rewards))\n",
    "env.close()"
   ]
  }
 ],
 "metadata": {
  "kernelspec": {
   "display_name": "Python 3.10.4 64-bit",
   "language": "python",
   "name": "python3"
  },
  "language_info": {
   "codemirror_mode": {
    "name": "ipython",
    "version": 3
   },
   "file_extension": ".py",
   "mimetype": "text/x-python",
   "name": "python",
   "nbconvert_exporter": "python",
   "pygments_lexer": "ipython3",
   "version": "3.10.12"
  },
  "vscode": {
   "interpreter": {
    "hash": "e7370f93d1d0cde622a1f8e1c04877d8463912d04d973331ad4851f04de6915a"
   }
  }
 },
 "nbformat": 4,
 "nbformat_minor": 0
}
