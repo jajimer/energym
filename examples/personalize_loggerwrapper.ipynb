{
 "cells": [
  {
   "attachments": {},
   "cell_type": "markdown",
   "metadata": {
    "collapsed": false
   },
   "source": [
    "# LoggerWrapper customization"
   ]
  },
  {
   "attachments": {},
   "cell_type": "markdown",
   "metadata": {
    "collapsed": false
   },
   "source": [
    "In this notebook, we will demonstrate how to customize the `LoggerWrapper` provided by *Sinergym*."
   ]
  },
  {
   "cell_type": "code",
   "execution_count": 1,
   "metadata": {
    "collapsed": true,
    "pycharm": {
     "is_executing": true
    }
   },
   "outputs": [],
   "source": [
    "import gymnasium as gym\n",
    "import numpy as np\n",
    "import sinergym\n",
    "from sinergym.utils.wrappers import (BaseLoggerWrapper, LoggerWrapper, CSVLogger, WandBLogger)"
   ]
  },
  {
   "attachments": {},
   "cell_type": "markdown",
   "metadata": {},
   "source": [
    "## Step 1: Inherit and complete abstract methods from BaseLoggerWrapper"
   ]
  },
  {
   "attachments": {},
   "cell_type": "markdown",
   "metadata": {
    "collapsed": false
   },
   "source": [
    "We simply need to inherit from this class and define both the custom metrics to be monitored, and the summary metrics that are calculated from the logger data for each simulated episode. \n",
    "\n",
    "Additionally, you can change the back-end where the information is stored by modifying `logger_class`, instead of using the default. \n",
    "\n",
    "*Sinergym* use this structure to implement its default [LoggerWrapper](https://ugr-sail.github.io/sinergym/compilation/main/pages/wrappers.html#loggerwrapper)."
   ]
  },
  {
   "cell_type": "code",
   "execution_count": null,
   "metadata": {
    "collapsed": false,
    "pycharm": {
     "name": "#%%\n"
    }
   },
   "outputs": [],
   "source": [
    "from sinergym.utils.logger import LoggerStorage, TerminalLogger\n",
    "from sinergym.utils.constants import LOG_WRAPPERS_LEVEL\n",
    "from typing import Any, Dict, Optional, Union, List, Callable\n",
    "\n",
    "\n",
    "class CustomLoggerWrapper(BaseLoggerWrapper):\n",
    "\n",
    "    logger = TerminalLogger().getLogger(name='WRAPPER CustomLoggerWrapper',\n",
    "                                        level=LOG_WRAPPERS_LEVEL)\n",
    "\n",
    "    def __init__(\n",
    "            self,\n",
    "            env: gym.Env,\n",
    "            logger_class: Callable = LoggerStorage):\n",
    "\n",
    "        super(CustomLoggerWrapper, self).__init__(env, logger_class)\n",
    "        # Custom variables and summary variables\n",
    "        self.custom_variables = ['custom_variable1', 'custom_variable2']\n",
    "        self.summary_variables = ['episode_num',\n",
    "                                  'double_mean_reward', 'half_power_demand']\n",
    "\n",
    "    # Define abstract methods for metrics calculation\n",
    "\n",
    "    def calculate_custom_metrics(self,\n",
    "                                 obs: np.ndarray,\n",
    "                                 action: Union[int, np.ndarray],\n",
    "                                 reward: float,\n",
    "                                 info: Dict[str, Any],\n",
    "                                 terminated: bool,\n",
    "                                 truncated: bool):\n",
    "        # Variables combining information\n",
    "        return [obs[0]*2, obs[-1]+reward]\n",
    "\n",
    "    def get_episode_summary(self) -> Dict[str, float]:\n",
    "        # Get information from logger\n",
    "        power_demands = [info['total_power_demand']\n",
    "                         for info in self.data_logger.infos]\n",
    "\n",
    "        # Data summary\n",
    "        data_summary = {\n",
    "            'episode_num': self.get_wrapper_attr('episode'),\n",
    "            'double_mean_reward': np.mean(self.data_logger.rewards)*2,\n",
    "            'half_power_demand': np.mean(power_demands)/2,\n",
    "        }\n",
    "        return data_summary"
   ]
  },
  {
   "cell_type": "markdown",
   "metadata": {},
   "source": [
    "Low-level changes can be done to the logging system by creating your own ``BaseLoggerWrapper``. This would require a deep understanding of the tool."
   ]
  },
  {
   "attachments": {},
   "cell_type": "markdown",
   "metadata": {
    "collapsed": false
   },
   "source": [
    "## Step 2: Use CustomLoggerWrapper to save information"
   ]
  },
  {
   "attachments": {},
   "cell_type": "markdown",
   "metadata": {
    "collapsed": false
   },
   "source": [
    "Now we can combine the new wrapper with any of *Sinergym* 's output wrappers, and the data will be saved properly.\n",
    "\n",
    "For instance, let's combine it with [CSVLogger](https://ugr-sail.github.io/sinergym/compilation/main/pages/wrappers.html#csvlogger) to save the data in CSV files. However, it can also be used with [WandBLogger](https://ugr-sail.github.io/sinergym/compilation/main/pages/wrappers.html#wandblogger) or any other logger created by the user."
   ]
  },
  {
   "cell_type": "code",
   "execution_count": null,
   "metadata": {
    "collapsed": false,
    "pycharm": {
     "name": "#%%\n"
    }
   },
   "outputs": [
    {
     "name": "stdout",
     "output_type": "stream",
     "text": [
      "#==============================================================================================#\n",
      "\u001b[38;20m[ENVIRONMENT] (INFO) : Creating Gymnasium environment.\u001b[0m\n",
      "\u001b[38;20m[ENVIRONMENT] (INFO) : Name: demo-v1\u001b[0m\n"
     ]
    },
    {
     "name": "stdout",
     "output_type": "stream",
     "text": [
      "#==============================================================================================#\n",
      "\u001b[38;20m[MODELING] (INFO) : Experiment working directory created.\u001b[0m\n",
      "\u001b[38;20m[MODELING] (INFO) : Working directory: /workspaces/sinergym/examples/Eplus-env-demo-v1-res1\u001b[0m\n",
      "\u001b[38;20m[MODELING] (INFO) : Model Config is correct.\u001b[0m\n",
      "\u001b[38;20m[MODELING] (INFO) : Update building model Output:Variable with variable names.\u001b[0m\n",
      "\u001b[38;20m[MODELING] (INFO) : Update building model Output:Meter with meter names.\u001b[0m\n",
      "\u001b[38;20m[MODELING] (INFO) : Extra config: runperiod updated to {'apply_weekend_holiday_rule': 'No', 'begin_day_of_month': 1, 'begin_month': 1, 'begin_year': 1991, 'day_of_week_for_start_day': 'Monday', 'end_day_of_month': 1, 'end_month': 3, 'end_year': 1991, 'use_weather_file_daylight_saving_period': 'Yes', 'use_weather_file_holidays_and_special_days': 'Yes', 'use_weather_file_rain_indicators': 'Yes', 'use_weather_file_snow_indicators': 'Yes'}\u001b[0m\n",
      "\u001b[38;20m[MODELING] (INFO) : Updated episode length (seconds): 5184000.0\u001b[0m\n",
      "\u001b[38;20m[MODELING] (INFO) : Updated timestep size (seconds): 3600.0\u001b[0m\n",
      "\u001b[38;20m[MODELING] (INFO) : Updated timesteps per episode: 1440\u001b[0m\n",
      "\u001b[38;20m[MODELING] (INFO) : Runperiod established.\u001b[0m\n",
      "\u001b[38;20m[MODELING] (INFO) : Episode length (seconds): 5184000.0\u001b[0m\n",
      "\u001b[38;20m[MODELING] (INFO) : timestep size (seconds): 3600.0\u001b[0m\n",
      "\u001b[38;20m[MODELING] (INFO) : timesteps per episode: 1440\u001b[0m\n",
      "\u001b[38;20m[REWARD] (INFO) : Reward function initialized.\u001b[0m\n",
      "\u001b[38;20m[ENVIRONMENT] (INFO) : Environment created successfully.\u001b[0m\n",
      "\u001b[38;20m[WRAPPER CSVLogger] (INFO) : Wrapper initialized.\u001b[0m\n"
     ]
    }
   ],
   "source": [
    "env = gym.make('Eplus-demo-v1')\n",
    "env = CustomLoggerWrapper(env)\n",
    "env = CSVLogger(env)"
   ]
  },
  {
   "attachments": {},
   "cell_type": "markdown",
   "metadata": {},
   "source": [
    "Now, if we run the environment (with a random agent, for example), we can see how the files are correctly saved in the *Sinergym* output.\n",
    "\n",
    "`progress.csv` contains the summary variables we have defined, and within the monitor folder of each episode, a new CSV file named `custom_metrics.csv` is created, registering the new metrics tracked."
   ]
  },
  {
   "cell_type": "code",
   "execution_count": 4,
   "metadata": {
    "collapsed": false,
    "pycharm": {
     "name": "#%%\n"
    }
   },
   "outputs": [
    {
     "name": "stdout",
     "output_type": "stream",
     "text": [
      "#----------------------------------------------------------------------------------------------#\n",
      "\u001b[38;20m[ENVIRONMENT] (INFO) : Starting a new episode.\u001b[0m\n",
      "\u001b[38;20m[ENVIRONMENT] (INFO) : Episode 1: demo-v1\u001b[0m\n",
      "#----------------------------------------------------------------------------------------------#\n",
      "\u001b[38;20m[MODELING] (INFO) : Episode directory created.\u001b[0m\n",
      "\u001b[38;20m[MODELING] (INFO) : Weather file USA_PA_Pittsburgh-Allegheny.County.AP.725205_TMY3.epw used.\u001b[0m\n",
      "\u001b[38;20m[MODELING] (INFO) : Adapting weather to building model.\u001b[0m\n",
      "\u001b[38;20m[ENVIRONMENT] (INFO) : Saving episode output path.\u001b[0m\n",
      "\u001b[38;20m[ENVIRONMENT] (INFO) : Episode 1 started.\u001b[0m\n",
      "\u001b[38;20m[SIMULATOR] (INFO) : handlers initialized.\u001b[0m\n",
      "\u001b[38;20m[SIMULATOR] (INFO) : handlers are ready.\u001b[0m\n",
      "\u001b[38;20m[SIMULATOR] (INFO) : System is ready.\u001b[0m\n",
      "Reward:  -43.96143518328036 {'time_elapsed(hours)': 2.5, 'month': 1, 'day': 1, 'hour': 1, 'is_raining': False, 'action': array([21.587074, 29.06685 ], dtype=float32), 'timestep': 1, 'reward': -43.96143518328036, 'energy_term': -43.67932315835093, 'comfort_term': -0.2821120249294271, 'reward_weight': 0.5, 'abs_energy_penalty': -87.35864631670186, 'abs_comfort_penalty': -0.5642240498588542, 'total_power_demand': 87.35864631670186, 'total_temperature_violation': 0.5642240498588542}\n",
      "Simulation Progress [Episode 1]:  53%|█████▎    | 53/100 [00:00<00:00, 156.11%/s, 53% completed] Reward:  -1655154.188930636 {'time_elapsed(hours)': 745.1666666666666, 'month': 2, 'day': 1, 'hour': 0, 'is_raining': False, 'action': array([18.982193, 28.832418], dtype=float32), 'timestep': 744, 'reward': -1142.821006760398, 'energy_term': -1142.7948709960122, 'comfort_term': -0.026135764385772475, 'reward_weight': 0.5, 'abs_energy_penalty': -2285.5897419920243, 'abs_comfort_penalty': -0.05227152877154495, 'total_power_demand': 2285.5897419920243, 'total_temperature_violation': 0.05227152877154495}\n",
      "Simulation Progress [Episode 1]:  98%|█████████▊| 98/100 [00:00<00:00, 135.07%/s, 98% completed]Reward:  -2802448.0918085002 {'time_elapsed(hours)': 1417.25, 'month': 3, 'day': 1, 'hour': 0, 'is_raining': False, 'action': array([16.598038, 24.909565], dtype=float32), 'timestep': 1416, 'reward': -43.67932315835093, 'energy_term': -43.67932315835093, 'comfort_term': 0.0, 'reward_weight': 0.5, 'abs_energy_penalty': -87.35864631670186, 'abs_comfort_penalty': 0, 'total_power_demand': 87.35864631670186, 'total_temperature_violation': 0.0}\n",
      "Episode  0 Mean reward:  -1952.6775391260724 Cumulative reward:  -2811855.656341544\n",
      "\u001b[38;20m[WRAPPER CSVLogger] (INFO) : Environment closed, data updated in monitor and progress.csv.\u001b[0m\n",
      "Simulation Progress [Episode 1]:  98%|█████████▊| 98/100 [00:02<00:00, 33.39%/s, 98% completed] \n",
      "\u001b[38;20m[ENVIRONMENT] (INFO) : Environment closed. [demo-v1]\u001b[0m\n"
     ]
    }
   ],
   "source": [
    "for i in range(1):\n",
    "    obs, info = env.reset()\n",
    "    rewards = []\n",
    "    truncated = terminated = False\n",
    "    current_month = 0\n",
    "    while not (terminated or truncated):\n",
    "        a = env.action_space.sample()\n",
    "        obs, reward, terminated, truncated, info = env.step(a)\n",
    "        rewards.append(reward)\n",
    "        if info['month'] != current_month:  # display results every month\n",
    "            current_month = info['month']\n",
    "            print('Reward: ', sum(rewards), info)\n",
    "    print('Episode ', i, 'Mean reward: ', np.mean(\n",
    "        rewards), 'Cumulative reward: ', sum(rewards))\n",
    "env.close()"
   ]
  }
 ],
 "metadata": {
  "kernelspec": {
   "display_name": "Python 3.10.4 64-bit",
   "language": "python",
   "name": "python3"
  },
  "language_info": {
   "codemirror_mode": {
    "name": "ipython",
    "version": 3
   },
   "file_extension": ".py",
   "mimetype": "text/x-python",
   "name": "python",
   "nbconvert_exporter": "python",
   "pygments_lexer": "ipython3",
   "version": "3.12.3"
  },
  "vscode": {
   "interpreter": {
    "hash": "e7370f93d1d0cde622a1f8e1c04877d8463912d04d973331ad4851f04de6915a"
   }
  }
 },
 "nbformat": 4,
 "nbformat_minor": 0
}
