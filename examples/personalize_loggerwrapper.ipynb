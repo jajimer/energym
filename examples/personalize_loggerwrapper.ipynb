{
 "cells": [
  {
   "cell_type": "markdown",
   "metadata": {
    "collapsed": false
   },
   "source": [
    "# Logger Wrapper personalization/configuration"
   ]
  },
  {
   "cell_type": "markdown",
   "metadata": {
    "collapsed": false
   },
   "source": [
    "We will see on this notebook how to personalize the logger wrapper defined by sinergym."
   ]
  },
  {
   "cell_type": "code",
   "execution_count": 10,
   "metadata": {
    "collapsed": true,
    "pycharm": {
     "is_executing": true
    }
   },
   "outputs": [],
   "source": [
    "import gym\n",
    "import numpy as np\n",
    "import sinergym\n",
    "from sinergym.utils.wrappers import (LoggerWrapper, MultiObsWrapper,\n",
    "                                     NormalizeObservation)\n",
    "from sinergym.utils.constants import RANGES_5ZONE"
   ]
  },
  {
   "cell_type": "markdown",
   "metadata": {},
   "source": [
    "## Step 1 Inherit and modify the CSVloger"
   ]
  },
  {
   "cell_type": "markdown",
   "metadata": {
    "collapsed": false
   },
   "source": [
    "First we need to change the CSV logger to modify the values writen into the file on the funtion create_row_contents"
   ]
  },
  {
   "cell_type": "code",
   "execution_count": 11,
   "metadata": {
    "collapsed": false,
    "pycharm": {
     "name": "#%%\n"
    }
   },
   "outputs": [],
   "source": [
    "\n",
    "from sinergym.utils.logger import CSVLogger\n",
    "from typing import Any, Dict, Optional, Sequence, Tuple, Union, List\n",
    "\n",
    "class CustomCSVLogger(CSVLogger):\n",
    "\n",
    "    def __init__(\n",
    "            self,\n",
    "            monitor_header: str,\n",
    "            progress_header: str,\n",
    "            log_progress_file: str,\n",
    "            log_file: Optional[str] = None,\n",
    "            flag: bool = True):\n",
    "        super(CustomCSVLogger, self).__init__(monitor_header,progress_header,log_progress_file,log_file,flag)\n",
    "        self.last_10_steps_reward = [0]*10\n",
    "\n",
    "    def create_row_contents(\n",
    "            self,\n",
    "            timestep: int,\n",
    "            observation: List[Any],\n",
    "            action: Union[List[Union[int, float]], List[None]],\n",
    "            simulation_time: float,\n",
    "            reward: Optional[float],\n",
    "            total_power_no_units: Optional[float],\n",
    "            comfort_penalty: Optional[float],\n",
    "            done: bool) -> List:\n",
    "        if reward is not None:\n",
    "            self.last_10_steps_reward.pop(0)\n",
    "            self.last_10_steps_reward.append(reward)\n",
    "\n",
    "        return [timestep] + list(observation) + \\\n",
    "                       list(action) + [simulation_time, reward,np.mean(self.last_10_steps_reward),\n",
    "                                       total_power_no_units, comfort_penalty, done]\n",
    "\n",
    "    "
   ]
  },
  {
   "cell_type": "markdown",
   "metadata": {
    "collapsed": false
   },
   "source": [
    "## Step 2 Intanciate the LoggerWrapper\n"
   ]
  },
  {
   "cell_type": "markdown",
   "metadata": {
    "collapsed": false
   },
   "source": [
    "now we need to instantiate the loggerwrapper and specify the new headers of our file and the csvlogger class we want to use."
   ]
  },
  {
   "cell_type": "code",
   "execution_count": 12,
   "metadata": {
    "collapsed": false,
    "pycharm": {
     "name": "#%%\n"
    }
   },
   "outputs": [
    {
     "name": "stderr",
     "output_type": "stream",
     "text": [
      "[2022-06-15 10:17:21,564] EPLUS_ENV_demo-v1_MainThread_ROOT INFO:Updating idf ExternalInterface object if it is not present...\n",
      "[2022-06-15 10:17:21,564] EPLUS_ENV_demo-v1_MainThread_ROOT INFO:Updating idf ExternalInterface object if it is not present...\n",
      "[2022-06-15 10:17:21,564] EPLUS_ENV_demo-v1_MainThread_ROOT INFO:Updating idf ExternalInterface object if it is not present...\n",
      "[2022-06-15 10:17:21,566] EPLUS_ENV_demo-v1_MainThread_ROOT INFO:Updating idf Site:Location and SizingPeriod:DesignDay(s) to weather and ddy file...\n",
      "[2022-06-15 10:17:21,566] EPLUS_ENV_demo-v1_MainThread_ROOT INFO:Updating idf Site:Location and SizingPeriod:DesignDay(s) to weather and ddy file...\n",
      "[2022-06-15 10:17:21,566] EPLUS_ENV_demo-v1_MainThread_ROOT INFO:Updating idf Site:Location and SizingPeriod:DesignDay(s) to weather and ddy file...\n",
      "[2022-06-15 10:17:21,569] EPLUS_ENV_demo-v1_MainThread_ROOT INFO:Updating idf OutPut:Variable and variables XML tree model for BVCTB connection.\n",
      "[2022-06-15 10:17:21,569] EPLUS_ENV_demo-v1_MainThread_ROOT INFO:Updating idf OutPut:Variable and variables XML tree model for BVCTB connection.\n",
      "[2022-06-15 10:17:21,569] EPLUS_ENV_demo-v1_MainThread_ROOT INFO:Updating idf OutPut:Variable and variables XML tree model for BVCTB connection.\n",
      "[2022-06-15 10:17:21,573] EPLUS_ENV_demo-v1_MainThread_ROOT INFO:Setting up extra configuration in building model if exists...\n",
      "[2022-06-15 10:17:21,573] EPLUS_ENV_demo-v1_MainThread_ROOT INFO:Setting up extra configuration in building model if exists...\n",
      "[2022-06-15 10:17:21,573] EPLUS_ENV_demo-v1_MainThread_ROOT INFO:Setting up extra configuration in building model if exists...\n"
     ]
    }
   ],
   "source": [
    "env=gym.make('Eplus-demo-v1')\n",
    "env=LoggerWrapper(env,logger_class=CustomCSVLogger,monitor_header = ['timestep'] + env.variables['observation'] +\n",
    "                env.variables['action'] + ['time (seconds)', 'reward', '10-mean-reward',\n",
    "                'power_penalty', 'comfort_penalty', 'done'])"
   ]
  },
  {
   "cell_type": "markdown",
   "metadata": {},
   "source": [
    "Now, you can see in Sinergym output folder that you will have available `progress.csv` file and `monitor.csv` files in each episode."
   ]
  },
  {
   "cell_type": "code",
   "execution_count": 13,
   "metadata": {
    "collapsed": false,
    "pycharm": {
     "name": "#%%\n"
    }
   },
   "outputs": [
    {
     "name": "stderr",
     "output_type": "stream",
     "text": [
      "[2022-06-15 10:17:23,444] EPLUS_ENV_demo-v1_MainThread_ROOT INFO:Creating new EnergyPlus simulation episode...\n",
      "[2022-06-15 10:17:23,444] EPLUS_ENV_demo-v1_MainThread_ROOT INFO:Creating new EnergyPlus simulation episode...\n",
      "[2022-06-15 10:17:23,444] EPLUS_ENV_demo-v1_MainThread_ROOT INFO:Creating new EnergyPlus simulation episode...\n",
      "[2022-06-15 10:17:23,458] EPLUS_ENV_demo-v1_MainThread_ROOT INFO:EnergyPlus working directory is in /workspaces/sinergym/Eplus-env-demo-v1-res9/Eplus-env-sub_run1\n",
      "[2022-06-15 10:17:23,458] EPLUS_ENV_demo-v1_MainThread_ROOT INFO:EnergyPlus working directory is in /workspaces/sinergym/Eplus-env-demo-v1-res9/Eplus-env-sub_run1\n",
      "[2022-06-15 10:17:23,458] EPLUS_ENV_demo-v1_MainThread_ROOT INFO:EnergyPlus working directory is in /workspaces/sinergym/Eplus-env-demo-v1-res9/Eplus-env-sub_run1\n"
     ]
    },
    {
     "name": "stdout",
     "output_type": "stream",
     "text": [
      "Reward:  -0.6725497890372522 {'timestep': 1, 'time_elapsed': 900, 'year': 1991, 'month': 1, 'day': 1, 'hour': 0, 'total_power': 3133.716390651042, 'total_power_no_units': -0.3133716390651042, 'comfort_penalty': -1.0317279390094, 'temperatures': [18.9682720609906], 'out_temperature': 1.8, 'action_': [17, 28]}\n",
      "Reward:  -1890.290297390496 {'timestep': 2976, 'time_elapsed': 2678400, 'year': 1991, 'month': 2, 'day': 1, 'hour': 0, 'total_power': 10541.15240360948, 'total_power_no_units': -1.054115240360948, 'comfort_penalty': -0.20180977695655855, 'temperatures': [19.79819022304344], 'out_temperature': -7.0, 'action_': [21, 21]}\n",
      "Reward:  -3632.298944054189 {'timestep': 5664, 'time_elapsed': 5097600, 'year': 1991, 'month': 3, 'day': 1, 'hour': 0, 'total_power': 984.986838734656, 'total_power_no_units': -0.09849868387346561, 'comfort_penalty': -1.7181247337670094, 'temperatures': [18.28187526623299], 'out_temperature': 8.1, 'action_': [15, 30]}\n",
      "Reward:  -4781.993675772888 {'timestep': 8640, 'time_elapsed': 7776000, 'year': 1991, 'month': 4, 'day': 1, 'hour': 0, 'total_power': 186.5934720667916, 'total_power_no_units': -0.018659347206679163, 'comfort_penalty': -0.4212075987921686, 'temperatures': [19.57879240120783], 'out_temperature': 7.7, 'action_': [15, 30]}\n",
      "Reward:  -5576.529594288463 {'timestep': 11520, 'time_elapsed': 10368000, 'year': 1991, 'month': 5, 'day': 1, 'hour': 0, 'total_power': 237.4012899723387, 'total_power_no_units': -0.02374012899723387, 'comfort_penalty': -0.0, 'temperatures': [20.20094801998858], 'out_temperature': 13.0, 'action_': [20, 25]}\n",
      "Reward:  -6331.731757223947 {'timestep': 14496, 'time_elapsed': 13046400, 'year': 1991, 'month': 6, 'day': 1, 'hour': 0, 'total_power': 673.538336416174, 'total_power_no_units': -0.06735383364161741, 'comfort_penalty': -1.9545518750814317, 'temperatures': [21.04544812491857], 'out_temperature': 18.4, 'action_': [21, 21]}\n",
      "Reward:  -9359.225367749577 {'timestep': 17376, 'time_elapsed': 15638400, 'year': 1991, 'month': 7, 'day': 1, 'hour': 0, 'total_power': 329.7151374060161, 'total_power_no_units': -0.03297151374060161, 'comfort_penalty': -1.88944614764101, 'temperatures': [21.11055385235899], 'out_temperature': 17.7, 'action_': [21, 24]}\n",
      "Reward:  -12662.2065130624 {'timestep': 20352, 'time_elapsed': 18316800, 'year': 1991, 'month': 8, 'day': 1, 'hour': 0, 'total_power': 4304.388643805342, 'total_power_no_units': -0.43043886438053425, 'comfort_penalty': -3.06736556998554, 'temperatures': [19.93263443001446], 'out_temperature': 20.6, 'action_': [18, 27]}\n",
      "Reward:  -15937.659318463444 {'timestep': 23328, 'time_elapsed': 20995200, 'year': 1991, 'month': 9, 'day': 1, 'hour': 0, 'total_power': 367.8674323081273, 'total_power_no_units': -0.036786743230812734, 'comfort_penalty': -3.004671553778291, 'temperatures': [19.99532844622171], 'out_temperature': 18.8, 'action_': [19, 26]}\n",
      "Reward:  -18767.79472079995 {'timestep': 26208, 'time_elapsed': 23587200, 'year': 1991, 'month': 10, 'day': 1, 'hour': 0, 'total_power': 3113.329543513108, 'total_power_no_units': -0.3113329543513108, 'comfort_penalty': -0.0, 'temperatures': [21.86143408922841], 'out_temperature': 13.3, 'action_': [22, 23]}\n",
      "Reward:  -19684.979594210432 {'timestep': 29184, 'time_elapsed': 26265600, 'year': 1991, 'month': 11, 'day': 1, 'hour': 0, 'total_power': 186.5934720667916, 'total_power_no_units': -0.018659347206679163, 'comfort_penalty': -0.39271453552728985, 'temperatures': [19.60728546447271], 'out_temperature': 13.0, 'action_': [17, 28]}\n",
      "Reward:  -20736.757914292684 {'timestep': 32064, 'time_elapsed': 28857600, 'year': 1991, 'month': 12, 'day': 1, 'hour': 0, 'total_power': 776.1606641336945, 'total_power_no_units': -0.07761606641336945, 'comfort_penalty': -1.4795415019091287, 'temperatures': [18.52045849809087], 'out_temperature': 5.1, 'action_': [15, 30]}\n",
      "Reward:  -22527.860063376975 {'timestep': 35040, 'time_elapsed': 31536000, 'year': 1992, 'month': 1, 'day': 1, 'hour': 0, 'total_power': 13403.08826527609, 'total_power_no_units': -1.340308826527609, 'comfort_penalty': -0.28873942972423094, 'temperatures': [19.71126057027577], 'out_temperature': -12.0, 'action_': [22, 23]}\n",
      "Episode  0 Mean reward:  -0.6429183808041191 Cumulative reward:  -22527.860063376975\n"
     ]
    },
    {
     "name": "stderr",
     "output_type": "stream",
     "text": [
      "[2022-06-15 10:17:38,745] EPLUS_ENV_demo-v1_MainThread_ROOT INFO:EnergyPlus simulation closed successfully. \n",
      "[2022-06-15 10:17:38,745] EPLUS_ENV_demo-v1_MainThread_ROOT INFO:EnergyPlus simulation closed successfully. \n",
      "[2022-06-15 10:17:38,745] EPLUS_ENV_demo-v1_MainThread_ROOT INFO:EnergyPlus simulation closed successfully. \n"
     ]
    }
   ],
   "source": [
    "for i in range(1):\n",
    "    obs = env.reset()\n",
    "    rewards = []\n",
    "    done = False\n",
    "    current_month = 0\n",
    "    while not done:\n",
    "        a = env.action_space.sample()\n",
    "        obs, reward, done, info = env.step(a)\n",
    "        rewards.append(reward)\n",
    "        if info['month'] != current_month:  # display results every month\n",
    "            current_month = info['month']\n",
    "            print('Reward: ', sum(rewards), info)\n",
    "    print('Episode ', i, 'Mean reward: ', np.mean(\n",
    "        rewards), 'Cumulative reward: ', sum(rewards))\n",
    "env.close()"
   ]
  },
  {
   "cell_type": "markdown",
   "metadata": {
    "collapsed": false
   },
   "source": []
  }
 ],
 "metadata": {
  "kernelspec": {
   "display_name": "Python 3.9.11 64-bit",
   "language": "python",
   "name": "python3"
  },
  "language_info": {
   "codemirror_mode": {
    "name": "ipython",
    "version": 3
   },
   "file_extension": ".py",
   "mimetype": "text/x-python",
   "name": "python",
   "nbconvert_exporter": "python",
   "pygments_lexer": "ipython3",
   "version": "3.10.4"
  },
  "vscode": {
   "interpreter": {
    "hash": "767d51c1340bd893661ea55ea3124f6de3c7a262a8b4abca0554b478b1e2ff90"
   }
  }
 },
 "nbformat": 4,
 "nbformat_minor": 0
}
