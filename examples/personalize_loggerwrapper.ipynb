{
 "cells": [
  {
   "attachments": {},
   "cell_type": "markdown",
   "metadata": {
    "collapsed": false
   },
   "source": [
    "# Logger Wrapper personalization/configuration"
   ]
  },
  {
   "attachments": {},
   "cell_type": "markdown",
   "metadata": {
    "collapsed": false
   },
   "source": [
    "We will see on this notebook how to personalize the logger wrapper defined by sinergym."
   ]
  },
  {
   "cell_type": "code",
   "execution_count": 9,
   "metadata": {
    "collapsed": true,
    "pycharm": {
     "is_executing": true
    }
   },
   "outputs": [],
   "source": [
    "import gymnasium as gym\n",
    "import numpy as np\n",
    "import sinergym\n",
    "from sinergym.utils.wrappers import (LoggerWrapper, MultiObsWrapper,\n",
    "                                     NormalizeObservation)\n",
    "from sinergym.utils.constants import RANGES_5ZONE"
   ]
  },
  {
   "attachments": {},
   "cell_type": "markdown",
   "metadata": {},
   "source": [
    "## Step 1 Inherit and modify the CSVloger"
   ]
  },
  {
   "attachments": {},
   "cell_type": "markdown",
   "metadata": {
    "collapsed": false
   },
   "source": [
    "First we need to change the CSV logger to modify the values written into the file on the function create_row_contents"
   ]
  },
  {
   "cell_type": "code",
   "execution_count": 10,
   "metadata": {
    "collapsed": false,
    "pycharm": {
     "name": "#%%\n"
    }
   },
   "outputs": [],
   "source": [
    "\n",
    "from sinergym.utils.logger import CSVLogger\n",
    "from typing import Any, Dict, Optional, Sequence, Tuple, Union, List\n",
    "\n",
    "class CustomCSVLogger(CSVLogger):\n",
    "\n",
    "    def __init__(\n",
    "            self,\n",
    "            monitor_header: str,\n",
    "            progress_header: str,\n",
    "            log_progress_file: str,\n",
    "            log_file: Optional[str] = None,\n",
    "            flag: bool = True):\n",
    "        super(CustomCSVLogger, self).__init__(monitor_header,progress_header,log_progress_file,log_file,flag)\n",
    "        self.last_10_steps_reward = [0]*10\n",
    "\n",
    "    def _create_row_content(\n",
    "            self,\n",
    "            obs: List[Any],\n",
    "            action: Union[int, np.ndarray, List[Any]],\n",
    "            terminated: bool,\n",
    "            info: Optional[Dict[str, Any]]) -> List:\n",
    "            \n",
    "        if info.get('reward') is not None:\n",
    "            self.last_10_steps_reward.pop(0)\n",
    "            self.last_10_steps_reward.append(info['reward'])\n",
    "\n",
    "        \n",
    "        return [\n",
    "            info.get('timestep',0)] + list(obs) + list(action) + [\n",
    "            info.get('time_elapsed(hours)',0),\n",
    "            info.get('reward',None),\n",
    "            np.mean(self.last_10_steps_reward),\n",
    "            info.get('total_power_no_units'),\n",
    "            info.get('comfort_penalty'),\n",
    "            info.get('abs_comfort'),\n",
    "            terminated]\n",
    "\n",
    "    "
   ]
  },
  {
   "attachments": {},
   "cell_type": "markdown",
   "metadata": {
    "collapsed": false
   },
   "source": [
    "## Step 2 Instantiate the LoggerWrapper\n"
   ]
  },
  {
   "attachments": {},
   "cell_type": "markdown",
   "metadata": {
    "collapsed": false
   },
   "source": [
    "now we need to instantiate the loggerwrapper and specify the new headers of our file and the csvlogger class we want to use."
   ]
  },
  {
   "cell_type": "code",
   "execution_count": 11,
   "metadata": {
    "collapsed": false,
    "pycharm": {
     "name": "#%%\n"
    }
   },
   "outputs": [
    {
     "name": "stdout",
     "output_type": "stream",
     "text": [
      "#==============================================================================================#\n",
      "\u001b[38;20m[ENVIRONMENT] (INFO) : Creating Gymnasium environment... [demo-v1]\u001b[0m\n",
      "#==============================================================================================#\n",
      "\u001b[38;20m[MODELING] (INFO) : Experiment working directory created [/workspaces/sinergym/examples/Eplus-env-demo-v1-res5]\u001b[0m\n",
      "\u001b[38;20m[MODELING] (INFO) : runperiod established: {'start_day': 1, 'start_month': 1, 'start_year': 1991, 'end_day': 31, 'end_month': 12, 'end_year': 1991, 'start_weekday': 1, 'n_steps_per_hour': 4}\u001b[0m\n",
      "\u001b[38;20m[MODELING] (INFO) : Episode length (seconds): 31536000.0\u001b[0m\n",
      "\u001b[38;20m[MODELING] (INFO) : timestep size (seconds): 900.0\u001b[0m\n",
      "\u001b[38;20m[MODELING] (INFO) : timesteps per episode: 35040\u001b[0m\n",
      "\u001b[38;20m[MODELING] (INFO) : Model Config is correct.\u001b[0m\n",
      "\u001b[38;20m[ENVIRONMENT] (INFO) : Environment demo-v1 created successfully.\u001b[0m\n",
      "\u001b[38;20m[WRAPPER LoggerWrapper] (INFO) : Wrapper initialized.\u001b[0m\n"
     ]
    }
   ],
   "source": [
    "env=gym.make('Eplus-demo-v1')\n",
    "env=LoggerWrapper(env,logger_class=CustomCSVLogger,monitor_header = ['timestep'] + env.observation_variables +\n",
    "                env.action_variables + ['time (hours)', 'reward', '10-mean-reward',\n",
    "                'power_penalty', 'comfort_penalty', 'done'])"
   ]
  },
  {
   "attachments": {},
   "cell_type": "markdown",
   "metadata": {},
   "source": [
    "Now, you can see in Sinergym output folder that you will have available `progress.csv` file and `monitor.csv` files in each episode."
   ]
  },
  {
   "cell_type": "code",
   "execution_count": 12,
   "metadata": {
    "collapsed": false,
    "pycharm": {
     "name": "#%%\n"
    }
   },
   "outputs": [
    {
     "name": "stdout",
     "output_type": "stream",
     "text": [
      "#----------------------------------------------------------------------------------------------#\n",
      "\u001b[38;20m[ENVIRONMENT] (INFO) : Starting a new episode... [Episode 1]\u001b[0m\n",
      "#----------------------------------------------------------------------------------------------#\n",
      "\u001b[38;20m[MODELING] (INFO) : Episode directory created [/workspaces/sinergym/examples/Eplus-env-demo-v1-res5/Eplus-env-sub_run1]\u001b[0m\n",
      "\u001b[38;20m[MODELING] (INFO) : Updated building model with whole Output:Variable available names\u001b[0m\n",
      "\u001b[38;20m[ENVIRONMENT] (INFO) : Saving episode output path... [/workspaces/sinergym/examples/Eplus-env-demo-v1-res5/Eplus-env-sub_run1/output]\u001b[0m\n",
      "\u001b[38;20m[SIMULATOR] (INFO) : Running EnergyPlus with args: ['-w', '/workspaces/sinergym/examples/Eplus-env-demo-v1-res5/Eplus-env-sub_run1/USA_PA_Pittsburgh-Allegheny.County.AP.725205_TMY3.epw', '-d', '/workspaces/sinergym/examples/Eplus-env-demo-v1-res5/Eplus-env-sub_run1/output', '/workspaces/sinergym/examples/Eplus-env-demo-v1-res5/Eplus-env-sub_run1/5ZoneAutoDXVAV.epJSON']\u001b[0m\n",
      "\u001b[38;20m[ENVIRONMENT] (INFO) : Episode 1 started.\u001b[0m\n"
     ]
    },
    {
     "name": "stderr",
     "output_type": "stream",
     "text": [
      "/usr/local/lib/python3.10/dist-packages/opyplus/weather_data/weather_data.py:493: FutureWarning: the 'line_terminator'' keyword is deprecated, use 'lineterminator' instead.\n",
      "  epw_content = self._headers_to_epw(use_datetimes=use_datetimes) + df.to_csv(\n"
     ]
    },
    {
     "name": "stdout",
     "output_type": "stream",
     "text": [
      "\u001b[38;20m[SIMULATOR] (INFO) : Handles initialized.\u001b[0m\n",
      "\u001b[38;20m[SIMULATOR] (INFO) : Handles are ready.\u001b[0m\n",
      "\u001b[38;20m[SIMULATOR] (INFO) : System is ready.\u001b[0m\n",
      "\u001b[38;20m[WRAPPER LoggerWrapper] (INFO) : Creating monitor.csv for current episode (episode 1) if logger is active\u001b[0m\n",
      "Reward:  -1.4254385096063296 {'time_elapsed(hours)': 0.75, 'year': 1995, 'month': 1, 'day': 1, 'hour': 0, 'is_raining': False, 'action': [22.455776, 26.17595], 'timestep': 2, 'reward': -1.4254385096063296, 'reward_energy': -0.09759966457086716, 'reward_comfort': -2.753277354641792, 'total_energy': 975.9966457086716, 'abs_comfort': 2.753277354641792, 'temperatures': [17.246722645358208]}\n",
      "Reward:  -1433.4400729417541 {'time_elapsed(hours)': 744.3, 'year': 2004, 'month': 2, 'day': 1, 'hour': 0, 'is_raining': False, 'action': [17.686495, 24.52391], 'timestep': 2976, 'reward': -0.6539268966156082, 'reward_energy': -0.27759966457086716, 'reward_comfort': -1.0302541286603493, 'total_energy': 2775.9966457086716, 'abs_comfort': 1.0302541286603493, 'temperatures': [18.96974587133965]}\n",
      "Reward:  -3200.496498279451 {'time_elapsed(hours)': 1416.3125, 'year': 2000, 'month': 3, 'day': 1, 'hour': 0, 'is_raining': False, 'action': [20.75363, 24.088577], 'timestep': 5664, 'reward': -0.25357178680497106, 'reward_energy': -0.044360654838034905, 'reward_comfort': -0.46278291877190725, 'total_energy': 443.606548380349, 'abs_comfort': 0.46278291877190725, 'temperatures': [19.537217081228093]}\n",
      "Reward:  -4822.654331008078 {'time_elapsed(hours)': 2160.375, 'year': 1991, 'month': 4, 'day': 1, 'hour': 0, 'is_raining': False, 'action': [16.462961, 23.52139], 'timestep': 8640, 'reward': -0.07210626987408705, 'reward_energy': -0.0068683913678059755, 'reward_comfort': -0.13734414838036813, 'total_energy': 68.68391367805975, 'abs_comfort': 0.13734414838036813, 'temperatures': [19.862655851619632]}\n",
      "Reward:  -6861.502906909295 {'time_elapsed(hours)': 2880.25, 'year': 1996, 'month': 5, 'day': 1, 'hour': 0, 'is_raining': False, 'action': [16.846668, 25.963749], 'timestep': 11520, 'reward': -0.0, 'reward_energy': -0.0, 'reward_comfort': -0.0, 'total_energy': 0.0, 'abs_comfort': 0.0, 'temperatures': [22.099598381326427]}\n",
      "Reward:  -8978.099635901246 {'time_elapsed(hours)': 3624.25, 'year': 2003, 'month': 6, 'day': 1, 'hour': 0, 'is_raining': False, 'action': [21.103756, 27.966007], 'timestep': 14496, 'reward': -0.0, 'reward_energy': -0.0, 'reward_comfort': -0.0, 'total_energy': 0.0, 'abs_comfort': 0.0, 'temperatures': [23.389839167962396]}\n",
      "Reward:  -10686.571561024724 {'time_elapsed(hours)': 4344.25, 'year': 2004, 'month': 7, 'day': 1, 'hour': 0, 'is_raining': False, 'action': [19.630337, 22.6843], 'timestep': 17376, 'reward': -0.0, 'reward_energy': -0.0, 'reward_comfort': -0.0, 'total_energy': 0.0, 'abs_comfort': 0.0, 'temperatures': [23.22311449415753]}\n",
      "Reward:  -12253.97692359502 {'time_elapsed(hours)': 5088.25, 'year': 1994, 'month': 8, 'day': 1, 'hour': 0, 'is_raining': False, 'action': [15.548529, 27.205706], 'timestep': 20352, 'reward': -0.029821468516868066, 'reward_energy': -0.0, 'reward_comfort': -0.05964293703373613, 'total_energy': 0.0, 'abs_comfort': 0.05964293703373613, 'temperatures': [22.940357062966264]}\n",
      "Reward:  -13779.993022895076 {'time_elapsed(hours)': 5832.25, 'year': 1996, 'month': 9, 'day': 1, 'hour': 0, 'is_raining': False, 'action': [18.064556, 23.408804], 'timestep': 23328, 'reward': -0.31890511363391916, 'reward_energy': -0.0, 'reward_comfort': -0.6378102272678383, 'total_energy': 0.0, 'abs_comfort': 0.6378102272678383, 'temperatures': [22.36218977273216]}\n",
      "Reward:  -15757.602087928935 {'time_elapsed(hours)': 6552.333333333333, 'year': 1999, 'month': 10, 'day': 1, 'hour': 0, 'is_raining': False, 'action': [21.829298, 29.063807], 'timestep': 26208, 'reward': -0.3936191370345501, 'reward_energy': -0.0, 'reward_comfort': -0.7872382740691002, 'total_energy': 0.0, 'abs_comfort': 0.7872382740691002, 'temperatures': [22.2127617259309]}\n",
      "Reward:  -17978.518044815413 {'time_elapsed(hours)': 7296.25, 'year': 2004, 'month': 11, 'day': 1, 'hour': 0, 'is_raining': False, 'action': [18.186932, 23.383982], 'timestep': 29184, 'reward': -0.005990372157734393, 'reward_energy': -0.011980744315468786, 'reward_comfort': -0.0, 'total_energy': 119.80744315468786, 'abs_comfort': 0.0, 'temperatures': [20.25227454317022]}\n",
      "Reward:  -19028.146691057053 {'time_elapsed(hours)': 8016.333333333333, 'year': 1997, 'month': 12, 'day': 1, 'hour': 0, 'is_raining': True, 'action': [20.391907, 25.970072], 'timestep': 32064, 'reward': -0.006408292875150979, 'reward_energy': -0.012816585750301958, 'reward_comfort': -0.0, 'total_energy': 128.16585750301957, 'abs_comfort': 0.0, 'temperatures': [21.302229486929697]}\n",
      "Progress: |***************************************************************************************************| 99%\n",
      "Episode  0 Mean reward:  -0.5751852965210659 Cumulative reward:  -20153.9176048026\n",
      "\u001b[38;20m[WRAPPER LoggerWrapper] (INFO) : End of episode, recording summary (progress.csv) if logger is active\u001b[0m\n",
      "\u001b[38;20m[ENVIRONMENT] (INFO) : Environment closed.\u001b[0m\n"
     ]
    }
   ],
   "source": [
    "for i in range(1):\n",
    "    obs, info = env.reset()\n",
    "    rewards = []\n",
    "    terminated = False\n",
    "    current_month = 0\n",
    "    while not terminated:\n",
    "        a = env.action_space.sample()\n",
    "        obs, reward, terminated, truncated, info = env.step(a)\n",
    "        rewards.append(reward)\n",
    "        if info['month'] != current_month:  # display results every month\n",
    "            current_month = info['month']\n",
    "            print('Reward: ', sum(rewards), info)\n",
    "    print('Episode ', i, 'Mean reward: ', np.mean(\n",
    "        rewards), 'Cumulative reward: ', sum(rewards))\n",
    "env.close()"
   ]
  }
 ],
 "metadata": {
  "kernelspec": {
   "display_name": "Python 3.10.4 64-bit",
   "language": "python",
   "name": "python3"
  },
  "language_info": {
   "codemirror_mode": {
    "name": "ipython",
    "version": 3
   },
   "file_extension": ".py",
   "mimetype": "text/x-python",
   "name": "python",
   "nbconvert_exporter": "python",
   "pygments_lexer": "ipython3",
   "version": "3.10.6"
  },
  "vscode": {
   "interpreter": {
    "hash": "e7370f93d1d0cde622a1f8e1c04877d8463912d04d973331ad4851f04de6915a"
   }
  }
 },
 "nbformat": 4,
 "nbformat_minor": 0
}
