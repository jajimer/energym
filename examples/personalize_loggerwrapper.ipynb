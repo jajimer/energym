{
 "cells": [
  {
   "attachments": {},
   "cell_type": "markdown",
   "metadata": {
    "collapsed": false
   },
   "source": [
    "# Logger Wrapper personalization/configuration"
   ]
  },
  {
   "attachments": {},
   "cell_type": "markdown",
   "metadata": {
    "collapsed": false
   },
   "source": [
    "In this notebook, we'll demonstrate how to customize the logger wrapper defined by Sinergym."
   ]
  },
  {
   "cell_type": "code",
   "execution_count": 2,
   "metadata": {
    "collapsed": true,
    "pycharm": {
     "is_executing": true
    }
   },
   "outputs": [],
   "source": [
    "import gymnasium as gym\n",
    "import numpy as np\n",
    "import sinergym\n",
    "from sinergym.utils.wrappers import (BaseLoggerWrapper, LoggerWrapper, CSVLogger, WandBLogger)"
   ]
  },
  {
   "attachments": {},
   "cell_type": "markdown",
   "metadata": {},
   "source": [
    "## Step 1: Inherit and complete abstract methods from BaseLoggerWrapper"
   ]
  },
  {
   "attachments": {},
   "cell_type": "markdown",
   "metadata": {
    "collapsed": false
   },
   "source": [
    "We simply need to inherit from this class and define both the custom metrics we desire and the summary metrics that are calculated from the logger data for each simulated episode. Additionally, you can change the back-end where the information is stored by modifying the logger_class, instead of using the default one implemented by Sinergym. Sinergym use this structure to implement its default logger wrapper called [LoggerWrapper](https://ugr-sail.github.io/sinergym/compilation/main/pages/wrappers.html#loggerwrapper), an example is shown below:"
   ]
  },
  {
   "cell_type": "code",
   "execution_count": 3,
   "metadata": {
    "collapsed": false,
    "pycharm": {
     "name": "#%%\n"
    }
   },
   "outputs": [],
   "source": [
    "from sinergym.utils.logger import Logger, TerminalLogger\n",
    "from sinergym.utils.constants import LOG_WRAPPERS_LEVEL\n",
    "from typing import Any, Dict, Optional, Union, List, Callable\n",
    "\n",
    "class CustomLoggerWrapper(BaseLoggerWrapper):\n",
    "\n",
    "    logger = TerminalLogger().getLogger(name='WRAPPER CustomLoggerWrapper',\n",
    "                                        level=LOG_WRAPPERS_LEVEL)\n",
    "\n",
    "    def __init__(\n",
    "            self,\n",
    "            env: gym.Env,\n",
    "            logger_class : Callable = Logger):\n",
    "        \n",
    "        super(CustomLoggerWrapper, self).__init__(env, logger_class)\n",
    "        # DEFINE CUSTOM VARIABLES AND SUMMARY VARIABLES\n",
    "        self.custom_variables = ['custom_variable1','custom_variable2']\n",
    "        self.summary_variables = ['episode_num','double_mean_reward','half_power_demand']\n",
    "\n",
    "    # DEFINE ABSTRACT METHODS FOR METRICS CALCULATION\n",
    "\n",
    "    def calculate_custom_metrics(self,\n",
    "                                 obs: np.ndarray,\n",
    "                                 action: Union[int, np.ndarray],\n",
    "                                 reward: float,\n",
    "                                 info: Dict[str, Any],\n",
    "                                 terminated: bool,\n",
    "                                 truncated: bool):\n",
    "        # Variables combining information\n",
    "        return [obs[0]*2,obs[-1]+reward]\n",
    "\n",
    "    def get_episode_summary(self) -> Dict[str, float]:\n",
    "        # Get information from logger\n",
    "        power_demands = [info['total_power_demand']\n",
    "                         for info in self.data_logger.infos]\n",
    "\n",
    "        # Data summary\n",
    "        data_summary = {\n",
    "            'episode_num': self.get_wrapper_attr('episode'),\n",
    "            'double_mean_reward': np.mean(self.data_logger.rewards)*2,\n",
    "            'half_power_demand': np.mean(power_demands)/2,\n",
    "        }\n",
    "        return data_summary\n",
    "\n",
    "    "
   ]
  },
  {
   "attachments": {},
   "cell_type": "markdown",
   "metadata": {
    "collapsed": false
   },
   "source": [
    "## Step 2: Use CustomLoggerWrapper to save information"
   ]
  },
  {
   "attachments": {},
   "cell_type": "markdown",
   "metadata": {
    "collapsed": false
   },
   "source": [
    "Now we can combine this new wrapper with any of Sinergym's output systems, and the data will be saved correctly. For instance, let's combine it with [CSVLogger](https://ugr-sail.github.io/sinergym/compilation/main/pages/wrappers.html#csvlogger) to save the data in CSV files. However, it can also be used with [WandBLogger](https://ugr-sail.github.io/sinergym/compilation/main/pages/wrappers.html#wandblogger) or any other logger created by the user."
   ]
  },
  {
   "cell_type": "code",
   "execution_count": 3,
   "metadata": {
    "collapsed": false,
    "pycharm": {
     "name": "#%%\n"
    }
   },
   "outputs": [
    {
     "name": "stdout",
     "output_type": "stream",
     "text": [
      "#==============================================================================================#\n",
      "\u001b[38;20m[ENVIRONMENT] (INFO) : Creating Gymnasium environment... [demo-v1]\u001b[0m\n",
      "#==============================================================================================#\n",
      "\u001b[38;20m[MODELING] (INFO) : Experiment working directory created [/workspaces/sinergym/examples/Eplus-env-demo-v1-res3]\u001b[0m\n",
      "\u001b[38;20m[MODELING] (INFO) : Model Config is correct.\u001b[0m\n",
      "\u001b[38;20m[MODELING] (INFO) : Updated building model with whole Output:Variable available names\u001b[0m\n",
      "\u001b[38;20m[MODELING] (INFO) : Updated building model with whole Output:Meter available names\u001b[0m\n",
      "\u001b[38;20m[MODELING] (INFO) : Extra config: runperiod updated to {'apply_weekend_holiday_rule': 'No', 'begin_day_of_month': 1, 'begin_month': 1, 'begin_year': 1991, 'day_of_week_for_start_day': 'Monday', 'end_day_of_month': 1, 'end_month': 3, 'end_year': 1991, 'use_weather_file_daylight_saving_period': 'Yes', 'use_weather_file_holidays_and_special_days': 'Yes', 'use_weather_file_rain_indicators': 'Yes', 'use_weather_file_snow_indicators': 'Yes'}\u001b[0m\n",
      "\u001b[38;20m[MODELING] (INFO) : Updated episode length (seconds): 5184000.0\u001b[0m\n",
      "\u001b[38;20m[MODELING] (INFO) : Updated timestep size (seconds): 3600.0\u001b[0m\n",
      "\u001b[38;20m[MODELING] (INFO) : Updated timesteps per episode: 1440\u001b[0m\n",
      "\u001b[38;20m[MODELING] (INFO) : runperiod established: {'start_day': 1, 'start_month': 1, 'start_year': 1991, 'end_day': 1, 'end_month': 3, 'end_year': 1991, 'start_weekday': 0, 'n_steps_per_hour': 1}\u001b[0m\n",
      "\u001b[38;20m[MODELING] (INFO) : Episode length (seconds): 5184000.0\u001b[0m\n",
      "\u001b[38;20m[MODELING] (INFO) : timestep size (seconds): 3600.0\u001b[0m\n",
      "\u001b[38;20m[MODELING] (INFO) : timesteps per episode: 1441\u001b[0m\n",
      "\u001b[38;20m[REWARD] (INFO) : Reward function initialized.\u001b[0m\n",
      "\u001b[38;20m[ENVIRONMENT] (INFO) : Environment demo-v1 created successfully.\u001b[0m\n",
      "\u001b[38;20m[WRAPPER CSVLogger] (INFO) : Wrapper initialized.\u001b[0m\n"
     ]
    }
   ],
   "source": [
    "env=gym.make('Eplus-demo-v1')\n",
    "env=CustomLoggerWrapper(env)\n",
    "env=CSVLogger(env)"
   ]
  },
  {
   "attachments": {},
   "cell_type": "markdown",
   "metadata": {},
   "source": [
    "Then, if we run the environment (with a random agent, for example), we can see how the files are correctly written to the Sinergym output. `progress.csv` contains the summary variables we have defined, and within the monitor folder of each episode, a new CSV file named `custom_metrics.csv` appears, capturing the new metrics we want to track."
   ]
  },
  {
   "cell_type": "code",
   "execution_count": 4,
   "metadata": {
    "collapsed": false,
    "pycharm": {
     "name": "#%%\n"
    }
   },
   "outputs": [
    {
     "name": "stdout",
     "output_type": "stream",
     "text": [
      "#----------------------------------------------------------------------------------------------#\n",
      "\u001b[38;20m[ENVIRONMENT] (INFO) : Starting a new episode... [demo-v1] [Episode 1]\u001b[0m\n",
      "#----------------------------------------------------------------------------------------------#\n",
      "\u001b[38;20m[MODELING] (INFO) : Episode directory created [/workspaces/sinergym/examples/Eplus-env-demo-v1-res3/Eplus-env-sub_run1]\u001b[0m\n",
      "\u001b[38;20m[MODELING] (INFO) : Weather file USA_PA_Pittsburgh-Allegheny.County.AP.725205_TMY3.epw used.\u001b[0m\n",
      "\u001b[38;20m[MODELING] (INFO) : Adapting weather to building model. [USA_PA_Pittsburgh-Allegheny.County.AP.725205_TMY3.epw]\u001b[0m\n",
      "\u001b[38;20m[ENVIRONMENT] (INFO) : Saving episode output path... [/workspaces/sinergym/examples/Eplus-env-demo-v1-res3/Eplus-env-sub_run1/output]\u001b[0m\n"
     ]
    },
    {
     "name": "stderr",
     "output_type": "stream",
     "text": [
      "/usr/local/lib/python3.12/dist-packages/opyplus/weather_data/weather_data.py:485: FutureWarning: Downcasting behavior in `replace` is deprecated and will be removed in a future version. To retain the old behavior, explicitly call `result.infer_objects(copy=False)`. To opt-in to the future behavior, set `pd.set_option('future.no_silent_downcasting', True)`\n",
      "  df = df.replace(\n"
     ]
    },
    {
     "name": "stdout",
     "output_type": "stream",
     "text": [
      "\u001b[38;20m[SIMULATOR] (INFO) : Running EnergyPlus with args: ['-w', '/workspaces/sinergym/examples/Eplus-env-demo-v1-res3/Eplus-env-sub_run1/USA_PA_Pittsburgh-Allegheny.County.AP.725205_TMY3.epw', '-d', '/workspaces/sinergym/examples/Eplus-env-demo-v1-res3/Eplus-env-sub_run1/output', '/workspaces/sinergym/examples/Eplus-env-demo-v1-res3/Eplus-env-sub_run1/5ZoneAutoDXVAV.epJSON']\u001b[0m\n",
      "\u001b[38;20m[ENVIRONMENT] (INFO) : Episode 1 started.\u001b[0m\n",
      "\u001b[38;20m[SIMULATOR] (INFO) : handlers initialized.\u001b[0m\n",
      "\u001b[38;20m[SIMULATOR] (INFO) : handlers are ready.\u001b[0m\n",
      "\u001b[38;20m[SIMULATOR] (INFO) : System is ready.\u001b[0m\n",
      "Reward:  -43.96143518328036 {'time_elapsed(hours)': 2.5, 'month': 1, 'day': 1, 'hour': 1, 'is_raining': False, 'action': array([15.361405, 24.408466], dtype=float32), 'timestep': 2, 'reward': -43.96143518328036, 'energy_term': -43.67932315835093, 'comfort_term': -0.2821120249294271, 'reward_weight': 0.5, 'abs_energy_penalty': -87.35864631670186, 'abs_comfort_penalty': -0.5642240498588542, 'total_power_demand': 87.35864631670186, 'total_temperature_violation': 0.5642240498588542}\n",
      "Reward:  -1633926.7723436372 {'time_elapsed(hours)': 745.0769230769231, 'month': 2, 'day': 1, 'hour': 0, 'is_raining': False, 'action': array([16.921335, 29.642868], dtype=float32), 'timestep': 745, 'reward': -10344.11740140498, 'energy_term': -10344.11740140498, 'comfort_term': 0.0, 'reward_weight': 0.5, 'abs_energy_penalty': -20688.23480280996, 'abs_comfort_penalty': 0, 'total_power_demand': 20688.23480280996, 'total_temperature_violation': 0.0}\n",
      "Reward:  -2820202.635745054 {'time_elapsed(hours)': 1417.25, 'month': 3, 'day': 1, 'hour': 0, 'is_raining': False, 'action': array([20.331337, 25.11074 ], dtype=float32), 'timestep': 1417, 'reward': -3091.900138240774, 'energy_term': -3091.900138240774, 'comfort_term': 0.0, 'reward_weight': 0.5, 'abs_energy_penalty': -6183.800276481548, 'abs_comfort_penalty': 0, 'total_power_demand': 6183.800276481548, 'total_temperature_violation': 0.0}\n",
      "\n",
      "Episode  0 Mean reward:  -1966.6823335960498 Cumulative reward:  -2832022.5603783117\n",
      "\u001b[38;20m[WRAPPER CSVLogger] (INFO) : Environment closed, data updated in monitor and progress.csv.\u001b[0m\n",
      "\u001b[38;20m[ENVIRONMENT] (INFO) : Environment closed. [demo-v1]\u001b[0m\n"
     ]
    }
   ],
   "source": [
    "for i in range(1):\n",
    "    obs, info = env.reset()\n",
    "    rewards = []\n",
    "    truncated = terminated = False\n",
    "    current_month = 0\n",
    "    while not (terminated or truncated):\n",
    "        a = env.action_space.sample()\n",
    "        obs, reward, terminated, truncated, info = env.step(a)\n",
    "        rewards.append(reward)\n",
    "        if info['month'] != current_month:  # display results every month\n",
    "            current_month = info['month']\n",
    "            print('Reward: ', sum(rewards), info)\n",
    "    print('Episode ', i, 'Mean reward: ', np.mean(\n",
    "        rewards), 'Cumulative reward: ', sum(rewards))\n",
    "env.close()"
   ]
  }
 ],
 "metadata": {
  "kernelspec": {
   "display_name": "Python 3.10.4 64-bit",
   "language": "python",
   "name": "python3"
  },
  "language_info": {
   "codemirror_mode": {
    "name": "ipython",
    "version": 3
   },
   "file_extension": ".py",
   "mimetype": "text/x-python",
   "name": "python",
   "nbconvert_exporter": "python",
   "pygments_lexer": "ipython3",
   "version": "3.12.3"
  },
  "vscode": {
   "interpreter": {
    "hash": "e7370f93d1d0cde622a1f8e1c04877d8463912d04d973331ad4851f04de6915a"
   }
  }
 },
 "nbformat": 4,
 "nbformat_minor": 0
}
