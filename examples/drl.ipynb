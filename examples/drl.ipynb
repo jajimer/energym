{
    "cells": [
        {
            "cell_type": "markdown",
            "metadata": {
                "collapsed": false
            },
            "source": [
                "# DRL usage example"
            ]
        },
        {
            "cell_type": "markdown",
            "metadata": {
                "collapsed": false
            },
            "source": [
                "We are going to rely on the script available in the repository root called `DRL_battery.py`. This script applies all the possibilities that Sinergym has to work with deep reinforcement learning algorithms and set parameters to everything so that we can define the training options from the execution of the script easily by a JSON file.\n",
                "\n",
                ".. note:: For more information about how run `DRL_battery.py`, please, see [DRL documentation](https://ugr-sail.github.io/sinergym/compilation/main/pages/deep-reinforcement-learning.html#how-to-use)"
            ]
        },
        {
            "cell_type": "code",
            "execution_count": 1,
            "metadata": {
                "collapsed": true,
                "pycharm": {
                    "name": "#%%\n"
                }
            },
            "outputs": [],
            "source": [
                "import sys\n",
                "from datetime import datetime\n",
                "\n",
                "import gymnasium as gym\n",
                "import numpy as np\n",
                "import wandb\n",
                "from stable_baselines3 import *\n",
                "from stable_baselines3.common.callbacks import CallbackList\n",
                "from stable_baselines3.common.logger import HumanOutputFormat, Logger\n",
                "from stable_baselines3.common.monitor import Monitor\n",
                "\n",
                "import sinergym\n",
                "import sinergym.utils.gcloud as gcloud\n",
                "from sinergym.utils.callbacks import *\n",
                "from sinergym.utils.constants import *\n",
                "from sinergym.utils.logger import CSVLogger, WandBOutputFormat\n",
                "from sinergym.utils.rewards import *\n",
                "from sinergym.utils.wrappers import *"
            ]
        },
        {
            "cell_type": "markdown",
            "metadata": {
                "collapsed": false
            },
            "source": [
                "First let's define some variables for the execution."
            ]
        },
        {
            "cell_type": "code",
            "execution_count": 2,
            "metadata": {
                "collapsed": false,
                "pycharm": {
                    "name": "#%%\n"
                }
            },
            "outputs": [],
            "source": [
                "# Environment ID\n",
                "environment = \"Eplus-demo-v1\"\n",
                "# Training episodes\n",
                "episodes = 4\n",
                "#Name of the experiment\n",
                "experiment_date = datetime.today().strftime('%Y-%m-%d_%H:%M')\n",
                "experiment_name = 'SB3_DQN-' + environment + \\\n",
                "    '-episodes-' + str(episodes)\n",
                "experiment_name += '_' + experiment_date"
            ]
        },
        {
            "attachments": {},
            "cell_type": "markdown",
            "metadata": {},
            "source": [
                "We can combine this experiment executions with [Weights&Biases](https://ugr-sail.github.io/sinergym/compilation/main/pages/deep-reinforcement-learning.html#weights-and-biases-structure) in order to host all information extracted. With *wandb*, it’s possible to track and visualize all DRL training in real time, register hyperparameters and details of each experiment, save artifacts such as models and *sinergym* output, and compare between different executions."
            ]
        },
        {
            "cell_type": "code",
            "execution_count": 3,
            "metadata": {},
            "outputs": [
                {
                    "name": "stderr",
                    "output_type": "stream",
                    "text": [
                        "Failed to detect the name of this notebook, you can set it manually with the WANDB_NOTEBOOK_NAME environment variable to enable code saving.\n",
                        "\u001b[34m\u001b[1mwandb\u001b[0m: Currently logged in as: \u001b[33malex_ugr\u001b[0m. Use \u001b[1m`wandb login --relogin`\u001b[0m to force relogin\n"
                    ]
                },
                {
                    "data": {
                        "text/html": [
                            "Tracking run with wandb version 0.14.0"
                        ],
                        "text/plain": [
                            "<IPython.core.display.HTML object>"
                        ]
                    },
                    "metadata": {},
                    "output_type": "display_data"
                },
                {
                    "data": {
                        "text/html": [
                            "Run data is saved locally in <code>/workspaces/sinergym/examples/wandb/run-20230405_113809-cf2pi715</code>"
                        ],
                        "text/plain": [
                            "<IPython.core.display.HTML object>"
                        ]
                    },
                    "metadata": {},
                    "output_type": "display_data"
                },
                {
                    "data": {
                        "text/html": [
                            "Syncing run <strong><a href='https://wandb.ai/alex_ugr/sinergym/runs/cf2pi715' target=\"_blank\">SB3_DQN-Eplus-demo-v1-episodes-4_2023-04-05_11:38_p837kk4w</a></strong> to <a href='https://wandb.ai/alex_ugr/sinergym' target=\"_blank\">Weights & Biases</a> (<a href='https://wandb.me/run' target=\"_blank\">docs</a>)<br/>"
                        ],
                        "text/plain": [
                            "<IPython.core.display.HTML object>"
                        ]
                    },
                    "metadata": {},
                    "output_type": "display_data"
                },
                {
                    "data": {
                        "text/html": [
                            " View project at <a href='https://wandb.ai/alex_ugr/sinergym' target=\"_blank\">https://wandb.ai/alex_ugr/sinergym</a>"
                        ],
                        "text/plain": [
                            "<IPython.core.display.HTML object>"
                        ]
                    },
                    "metadata": {},
                    "output_type": "display_data"
                },
                {
                    "data": {
                        "text/html": [
                            " View run at <a href='https://wandb.ai/alex_ugr/sinergym/runs/cf2pi715' target=\"_blank\">https://wandb.ai/alex_ugr/sinergym/runs/cf2pi715</a>"
                        ],
                        "text/plain": [
                            "<IPython.core.display.HTML object>"
                        ]
                    },
                    "metadata": {},
                    "output_type": "display_data"
                }
            ],
            "source": [
                "# Create wandb.config object in order to log all experiment params\n",
                "experiment_params = {\n",
                "    'sinergym-version': sinergym.__version__,\n",
                "    'python-version': sys.version\n",
                "}\n",
                "experiment_params.update({'environment':environment,\n",
                "                          'episodes':episodes,\n",
                "                          'algorithm':'SB3_DQN'})\n",
                "\n",
                "# Get wandb init params (you have to specify your own project and entity)\n",
                "wandb_params = {\"project\": 'sinergym',\n",
                "                \"entity\": 'alex_ugr'}\n",
                "# Init wandb entry\n",
                "run = wandb.init(\n",
                "    name=experiment_name + '_' + wandb.util.generate_id(),\n",
                "    config=experiment_params,\n",
                "    ** wandb_params\n",
                ")"
            ]
        },
        {
            "cell_type": "markdown",
            "metadata": {
                "collapsed": false
            },
            "source": [
                "Now we are ready to create the Gym Environment. Here we use the environment name defined, remember that you can [change default environment configuration](https://ugr-sail.github.io/sinergym/compilation/main/pages/notebooks/change_environment.html#Changing-an-environment-registered-in-Sinergym). We will create a eval_env too in order to interact the evaluation episodes there."
            ]
        },
        {
            "cell_type": "code",
            "execution_count": 4,
            "metadata": {
                "collapsed": false,
                "pycharm": {
                    "name": "#%%\n"
                }
            },
            "outputs": [
                {
                    "name": "stdout",
                    "output_type": "stream",
                    "text": [
                        "[2023-04-05 11:38:26,010] EPLUS_ENV_demo-v1_MainThread_ROOT INFO:Updating idf ExternalInterface object if it is not present...\n",
                        "[2023-04-05 11:38:26,012] EPLUS_ENV_demo-v1_MainThread_ROOT INFO:Updating idf Site:Location and SizingPeriod:DesignDay(s) to weather and ddy file...\n",
                        "[2023-04-05 11:38:26,016] EPLUS_ENV_demo-v1_MainThread_ROOT INFO:Updating idf OutPut:Variable and variables XML tree model for BVCTB connection.\n",
                        "[2023-04-05 11:38:26,019] EPLUS_ENV_demo-v1_MainThread_ROOT INFO:Setting up extra configuration in building model if exists...\n",
                        "[2023-04-05 11:38:26,020] EPLUS_ENV_demo-v1_MainThread_ROOT INFO:Setting up action definition in building model if exists...\n",
                        "[2023-04-05 11:38:27,346] EPLUS_ENV_demo-v1_MainThread_ROOT INFO:Updating idf ExternalInterface object if it is not present...\n",
                        "[2023-04-05 11:38:27,346] EPLUS_ENV_demo-v1_MainThread_ROOT INFO:Updating idf ExternalInterface object if it is not present...\n",
                        "[2023-04-05 11:38:27,348] EPLUS_ENV_demo-v1_MainThread_ROOT INFO:Updating idf Site:Location and SizingPeriod:DesignDay(s) to weather and ddy file...\n",
                        "[2023-04-05 11:38:27,348] EPLUS_ENV_demo-v1_MainThread_ROOT INFO:Updating idf Site:Location and SizingPeriod:DesignDay(s) to weather and ddy file...\n",
                        "[2023-04-05 11:38:27,352] EPLUS_ENV_demo-v1_MainThread_ROOT INFO:Updating idf OutPut:Variable and variables XML tree model for BVCTB connection.\n",
                        "[2023-04-05 11:38:27,352] EPLUS_ENV_demo-v1_MainThread_ROOT INFO:Updating idf OutPut:Variable and variables XML tree model for BVCTB connection.\n",
                        "[2023-04-05 11:38:27,357] EPLUS_ENV_demo-v1_MainThread_ROOT INFO:Setting up extra configuration in building model if exists...\n",
                        "[2023-04-05 11:38:27,357] EPLUS_ENV_demo-v1_MainThread_ROOT INFO:Setting up extra configuration in building model if exists...\n",
                        "[2023-04-05 11:38:27,358] EPLUS_ENV_demo-v1_MainThread_ROOT INFO:Setting up action definition in building model if exists...\n",
                        "[2023-04-05 11:38:27,358] EPLUS_ENV_demo-v1_MainThread_ROOT INFO:Setting up action definition in building model if exists...\n"
                    ]
                }
            ],
            "source": [
                "env = gym.make(environment)\n",
                "eval_env = gym.make(environment)"
            ]
        },
        {
            "cell_type": "markdown",
            "metadata": {
                "collapsed": false
            },
            "source": [
                "We can also add a Wrapper to the environment, we are going to use a Logger (extension of `gym.Wrapper`) this is used to monitor and log the interactions with the environment and save the data into a CSV. Files generated will be stored as artifact in *wandb* too."
            ]
        },
        {
            "cell_type": "code",
            "execution_count": 5,
            "metadata": {
                "collapsed": false,
                "pycharm": {
                    "name": "#%%\n"
                }
            },
            "outputs": [],
            "source": [
                "env = LoggerWrapper(env)"
            ]
        },
        {
            "cell_type": "markdown",
            "metadata": {
                "collapsed": false
            },
            "source": [
                "At this point, we have the environment set up and ready to be used. We are going to create our learning model (Stable Baselines 3 DQN), but we can use any other algorithm."
            ]
        },
        {
            "cell_type": "code",
            "execution_count": 6,
            "metadata": {
                "collapsed": false,
                "pycharm": {
                    "name": "#%%\n"
                }
            },
            "outputs": [
                {
                    "name": "stdout",
                    "output_type": "stream",
                    "text": [
                        "Using cpu device\n",
                        "Wrapping the env with a `Monitor` wrapper\n",
                        "Wrapping the env in a DummyVecEnv.\n"
                    ]
                }
            ],
            "source": [
                "model = DQN('MlpPolicy', env, verbose=1)"
            ]
        },
        {
            "cell_type": "markdown",
            "metadata": {
                "collapsed": false
            },
            "source": [
                "Now we need to calculate the number of timesteps of each episode for the evaluation. Evaluation will execute the current model during a number of episodes determined to decide if it is the best current version of the model. Output generated will be stored in *wandb* server too."
            ]
        },
        {
            "cell_type": "code",
            "execution_count": 8,
            "metadata": {
                "collapsed": false,
                "pycharm": {
                    "name": "#%%\n"
                }
            },
            "outputs": [],
            "source": [
                "n_timesteps_episode = env.simulator._eplus_one_epi_len / \\\n",
                "                      env.simulator._eplus_run_stepsize\n"
            ]
        },
        {
            "cell_type": "markdown",
            "metadata": {
                "collapsed": false
            },
            "source": [
                "We are going to use the LoggerEval callback to print and save the best model evaluated during training."
            ]
        },
        {
            "cell_type": "code",
            "execution_count": 9,
            "metadata": {
                "collapsed": false,
                "pycharm": {
                    "name": "#%%\n"
                }
            },
            "outputs": [],
            "source": [
                "callbacks = []\n",
                "\n",
                "# Set up Evaluation and saving best model\n",
                "eval_callback = LoggerEvalCallback(\n",
                "    eval_env,\n",
                "    best_model_save_path=eval_env.simulator._env_working_dir_parent +\n",
                "    '/best_model/',\n",
                "    log_path=eval_env.simulator._env_working_dir_parent +\n",
                "    '/best_model/',\n",
                "    eval_freq=n_timesteps_episode * 2,\n",
                "    deterministic=True,\n",
                "    render=False,\n",
                "    n_eval_episodes=1)\n",
                "callbacks.append(eval_callback)\n",
                "\n",
                "callback = CallbackList(callbacks)"
            ]
        },
        {
            "attachments": {},
            "cell_type": "markdown",
            "metadata": {},
            "source": [
                "In order to track all the training process in *wandb*, it is necessary to create a callback with a compatible wandb output format (which call *wandb* log in the learning algorithm process)."
            ]
        },
        {
            "cell_type": "code",
            "execution_count": 12,
            "metadata": {},
            "outputs": [],
            "source": [
                "# wandb logger and setting in SB3\n",
                "logger = Logger(\n",
                "    folder=None,\n",
                "    output_formats=[\n",
                "        HumanOutputFormat(\n",
                "            sys.stdout,\n",
                "            max_length=120),\n",
                "        WandBOutputFormat()])\n",
                "model.set_logger(logger)\n",
                "# Append callback\n",
                "log_callback = LoggerCallback()\n",
                "callbacks.append(log_callback)\n",
                "\n",
                "\n",
                "callback = CallbackList(callbacks)"
            ]
        },
        {
            "cell_type": "markdown",
            "metadata": {
                "collapsed": false
            },
            "source": [
                "This is the number of total time steps for the training."
            ]
        },
        {
            "cell_type": "code",
            "execution_count": 10,
            "metadata": {
                "collapsed": false,
                "pycharm": {
                    "name": "#%%\n"
                }
            },
            "outputs": [],
            "source": [
                "timesteps = episodes * n_timesteps_episode"
            ]
        },
        {
            "cell_type": "markdown",
            "metadata": {
                "collapsed": false
            },
            "source": [
                "Now is time to train the model with the callbacks defined earlier. This may take a few minutes, depending on your computer."
            ]
        },
        {
            "cell_type": "code",
            "execution_count": 13,
            "metadata": {
                "collapsed": false,
                "pycharm": {
                    "name": "#%%\n"
                }
            },
            "outputs": [
                {
                    "name": "stdout",
                    "output_type": "stream",
                    "text": [
                        "[2023-04-05 11:40:26,600] EPLUS_ENV_demo-v1_MainThread_ROOT INFO:Creating new EnergyPlus simulation episode...\n",
                        "[2023-04-05 11:40:26,600] EPLUS_ENV_demo-v1_MainThread_ROOT INFO:Creating new EnergyPlus simulation episode...\n",
                        "[2023-04-05 11:40:26,800] EPLUS_ENV_demo-v1_MainThread_ROOT INFO:EnergyPlus working directory is in /workspaces/sinergym/examples/Eplus-env-demo-v1-res1/Eplus-env-sub_run1\n",
                        "[2023-04-05 11:40:26,800] EPLUS_ENV_demo-v1_MainThread_ROOT INFO:EnergyPlus working directory is in /workspaces/sinergym/examples/Eplus-env-demo-v1-res1/Eplus-env-sub_run1\n"
                    ]
                },
                {
                    "name": "stderr",
                    "output_type": "stream",
                    "text": [
                        "/usr/local/lib/python3.10/dist-packages/opyplus/weather_data/weather_data.py:493: FutureWarning: the 'line_terminator'' keyword is deprecated, use 'lineterminator' instead.\n",
                        "  epw_content = self._headers_to_epw(use_datetimes=use_datetimes) + df.to_csv(\n"
                    ]
                },
                {
                    "name": "stdout",
                    "output_type": "stream",
                    "text": [
                        "[2023-04-05 11:41:05,587] EPLUS_ENV_demo-v1_MainThread_ROOT INFO:EnergyPlus episode completed successfully. \n",
                        "[2023-04-05 11:41:05,587] EPLUS_ENV_demo-v1_MainThread_ROOT INFO:EnergyPlus episode completed successfully. \n",
                        "[2023-04-05 11:41:05,590] EPLUS_ENV_demo-v1_MainThread_ROOT INFO:Creating new EnergyPlus simulation episode...\n",
                        "[2023-04-05 11:41:05,590] EPLUS_ENV_demo-v1_MainThread_ROOT INFO:Creating new EnergyPlus simulation episode...\n",
                        "[2023-04-05 11:41:05,743] EPLUS_ENV_demo-v1_MainThread_ROOT INFO:EnergyPlus working directory is in /workspaces/sinergym/examples/Eplus-env-demo-v1-res1/Eplus-env-sub_run2\n",
                        "[2023-04-05 11:41:05,743] EPLUS_ENV_demo-v1_MainThread_ROOT INFO:EnergyPlus working directory is in /workspaces/sinergym/examples/Eplus-env-demo-v1-res1/Eplus-env-sub_run2\n",
                        "-------------------------------------------------------------------------------------\n",
                        "| action/                                                             |             |\n",
                        "|    Cooling_Setpoint_RL                                              | 25.5        |\n",
                        "|    Heating_Setpoint_RL                                              | 19.1        |\n",
                        "| action_simulation/                                                  |             |\n",
                        "|    Cooling_Setpoint_RL                                              | 25.5        |\n",
                        "|    Heating_Setpoint_RL                                              | 19.1        |\n",
                        "| episode/                                                            |             |\n",
                        "|    comfort_violation_time(%)                                        | 52.7        |\n",
                        "|    cumulative_comfort_penalty                                       | -2.68e+04   |\n",
                        "|    cumulative_power                                                 | 2.06e+08    |\n",
                        "|    cumulative_power_penalty                                         | -2.06e+04   |\n",
                        "|    cumulative_reward                                                | -23675.621  |\n",
                        "|    ep_length                                                        | 35040       |\n",
                        "|    mean_comfort_penalty                                             | -0.765      |\n",
                        "|    mean_power                                                       | 5.87e+03    |\n",
                        "|    mean_power_penalty                                               | -0.587      |\n",
                        "|    mean_reward                                                      | -0.67567414 |\n",
                        "| observation/                                                        |             |\n",
                        "|    Facility Total HVAC Electricity Demand Rate(Whole Building)      | 5.87e+03    |\n",
                        "|    People Air Temperature(SPACE1-1 PEOPLE 1)                        | 21.2        |\n",
                        "|    Site Diffuse Solar Radiation Rate per Area(Environment)          | 73.6        |\n",
                        "|    Site Direct Solar Radiation Rate per Area(Environment)           | 115         |\n",
                        "|    Site Outdoor Air Drybulb Temperature(Environment)                | 11.2        |\n",
                        "|    Site Outdoor Air Relative Humidity(Environment)                  | 71.3        |\n",
                        "|    Site Wind Direction(Environment)                                 | 195         |\n",
                        "|    Site Wind Speed(Environment)                                     | 3.87        |\n",
                        "|    Zone Air Relative Humidity(SPACE1-1)                             | 43          |\n",
                        "|    Zone Air Temperature(SPACE1-1)                                   | 21.2        |\n",
                        "|    Zone People Occupant Count(SPACE1-1)                             | 3.18        |\n",
                        "|    Zone Thermal Comfort Clothing Value(SPACE1-1 PEOPLE 1)           | 0.662       |\n",
                        "|    Zone Thermal Comfort Fanger Model PPD(SPACE1-1 PEOPLE 1)         | 31.7        |\n",
                        "|    Zone Thermal Comfort Mean Radiant Temperature(SPACE1-1 PEOPLE 1) | 21.4        |\n",
                        "|    Zone Thermostat Cooling Setpoint Temperature(SPACE1-1)           | 25.5        |\n",
                        "|    Zone Thermostat Heating Setpoint Temperature(SPACE1-1)           | 19.1        |\n",
                        "|    day                                                              | 15.7        |\n",
                        "|    hour                                                             | 11.5        |\n",
                        "|    month                                                            | 6.53        |\n",
                        "|    year                                                             | 1.99e+03    |\n",
                        "| rollout/                                                            |             |\n",
                        "|    ep_len_mean                                                      | 3.5e+04     |\n",
                        "|    ep_rew_mean                                                      | -2.37e+04   |\n",
                        "|    exploration_rate                                                 | 0.05        |\n",
                        "| time/                                                               |             |\n",
                        "|    episodes                                                         | 1           |\n",
                        "|    fps                                                              | 876         |\n",
                        "|    time_elapsed                                                     | 39          |\n",
                        "|    total_timesteps                                                  | 35040       |\n",
                        "-------------------------------------------------------------------------------------\n",
                        "[2023-04-05 11:42:06,310] EPLUS_ENV_demo-v1_MainThread_ROOT INFO:EnergyPlus episode completed successfully. \n",
                        "[2023-04-05 11:42:06,310] EPLUS_ENV_demo-v1_MainThread_ROOT INFO:EnergyPlus episode completed successfully. \n",
                        "[2023-04-05 11:42:06,315] EPLUS_ENV_demo-v1_MainThread_ROOT INFO:Creating new EnergyPlus simulation episode...\n",
                        "[2023-04-05 11:42:06,315] EPLUS_ENV_demo-v1_MainThread_ROOT INFO:Creating new EnergyPlus simulation episode...\n",
                        "[2023-04-05 11:42:06,456] EPLUS_ENV_demo-v1_MainThread_ROOT INFO:EnergyPlus working directory is in /workspaces/sinergym/examples/Eplus-env-demo-v1-res1/Eplus-env-sub_run3\n",
                        "[2023-04-05 11:42:06,456] EPLUS_ENV_demo-v1_MainThread_ROOT INFO:EnergyPlus working directory is in /workspaces/sinergym/examples/Eplus-env-demo-v1-res1/Eplus-env-sub_run3\n",
                        "[2023-04-05 11:42:07,139] EPLUS_ENV_demo-v1_MainThread_ROOT INFO:Creating new EnergyPlus simulation episode...\n",
                        "[2023-04-05 11:42:07,139] EPLUS_ENV_demo-v1_MainThread_ROOT INFO:Creating new EnergyPlus simulation episode...\n",
                        "[2023-04-05 11:42:07,292] EPLUS_ENV_demo-v1_MainThread_ROOT INFO:EnergyPlus working directory is in /workspaces/sinergym/examples/Eplus-env-demo-v1-res2/Eplus-env-sub_run1\n",
                        "[2023-04-05 11:42:07,292] EPLUS_ENV_demo-v1_MainThread_ROOT INFO:EnergyPlus working directory is in /workspaces/sinergym/examples/Eplus-env-demo-v1-res2/Eplus-env-sub_run1\n",
                        "[2023-04-05 11:42:37,268] EPLUS_ENV_demo-v1_MainThread_ROOT INFO:EnergyPlus episode completed successfully. \n",
                        "[2023-04-05 11:42:37,268] EPLUS_ENV_demo-v1_MainThread_ROOT INFO:EnergyPlus episode completed successfully. \n",
                        "[2023-04-05 11:42:37,271] EPLUS_ENV_demo-v1_MainThread_ROOT INFO:Creating new EnergyPlus simulation episode...\n",
                        "[2023-04-05 11:42:37,271] EPLUS_ENV_demo-v1_MainThread_ROOT INFO:Creating new EnergyPlus simulation episode...\n",
                        "[2023-04-05 11:42:37,420] EPLUS_ENV_demo-v1_MainThread_ROOT INFO:EnergyPlus working directory is in /workspaces/sinergym/examples/Eplus-env-demo-v1-res2/Eplus-env-sub_run2\n",
                        "[2023-04-05 11:42:37,420] EPLUS_ENV_demo-v1_MainThread_ROOT INFO:EnergyPlus working directory is in /workspaces/sinergym/examples/Eplus-env-demo-v1-res2/Eplus-env-sub_run2\n",
                        "Eval num_timesteps=70080, episode_reward=-23939.28 +/- 0.00\n",
                        "Episode length: 35040.00 +/- 0.00\n",
                        "New best mean reward!\n",
                        "------------------------------------------------------------------------------------\n",
                        "| action/                                                             |            |\n",
                        "|    Cooling_Setpoint_RL                                              | 23.7       |\n",
                        "|    Heating_Setpoint_RL                                              | 20.6       |\n",
                        "| action_simulation/                                                  |            |\n",
                        "|    Cooling_Setpoint_RL                                              | 23.7       |\n",
                        "|    Heating_Setpoint_RL                                              | 20.6       |\n",
                        "| episode/                                                            |            |\n",
                        "|    comfort_violation_time(%)                                        | 47.6       |\n",
                        "|    cumulative_comfort_penalty                                       | -1.93e+04  |\n",
                        "|    cumulative_power                                                 | 2.63e+08   |\n",
                        "|    cumulative_power_penalty                                         | -2.63e+04  |\n",
                        "|    cumulative_reward                                                | -22797.744 |\n",
                        "|    ep_length                                                        | 35040      |\n",
                        "|    mean_comfort_penalty                                             | -0.551     |\n",
                        "|    mean_power                                                       | 7.5e+03    |\n",
                        "|    mean_power_penalty                                               | -0.75      |\n",
                        "|    mean_reward                                                      | -0.6506206 |\n",
                        "| eval/                                                               |            |\n",
                        "|    comfort_penalty                                                  | -1.59e+04  |\n",
                        "|    comfort_violation(%)                                             | 33.5       |\n",
                        "|    mean_ep_length                                                   | 3.5e+04    |\n",
                        "|    mean_power_consumption                                           | 3.2e+08    |\n",
                        "|    mean_rewards                                                     | -23939.28  |\n",
                        "|    power_penalty                                                    | -3.2e+04   |\n",
                        "|    std_rewards                                                      | 0.0        |\n",
                        "| observation/                                                        |            |\n",
                        "|    Facility Total HVAC Electricity Demand Rate(Whole Building)      | 7.5e+03    |\n",
                        "|    People Air Temperature(SPACE1-1 PEOPLE 1)                        | 21.5       |\n",
                        "|    Site Diffuse Solar Radiation Rate per Area(Environment)          | 73.6       |\n",
                        "|    Site Direct Solar Radiation Rate per Area(Environment)           | 115        |\n",
                        "|    Site Outdoor Air Drybulb Temperature(Environment)                | 11.2       |\n",
                        "|    Site Outdoor Air Relative Humidity(Environment)                  | 71.3       |\n",
                        "|    Site Wind Direction(Environment)                                 | 195        |\n",
                        "|    Site Wind Speed(Environment)                                     | 3.87       |\n",
                        "|    Zone Air Relative Humidity(SPACE1-1)                             | 42.2       |\n",
                        "|    Zone Air Temperature(SPACE1-1)                                   | 21.5       |\n",
                        "|    Zone People Occupant Count(SPACE1-1)                             | 3.18       |\n",
                        "|    Zone Thermal Comfort Clothing Value(SPACE1-1 PEOPLE 1)           | 0.662      |\n",
                        "|    Zone Thermal Comfort Fanger Model PPD(SPACE1-1 PEOPLE 1)         | 27         |\n",
                        "|    Zone Thermal Comfort Mean Radiant Temperature(SPACE1-1 PEOPLE 1) | 21.6       |\n",
                        "|    Zone Thermostat Cooling Setpoint Temperature(SPACE1-1)           | 23.7       |\n",
                        "|    Zone Thermostat Heating Setpoint Temperature(SPACE1-1)           | 20.6       |\n",
                        "|    day                                                              | 15.7       |\n",
                        "|    hour                                                             | 11.5       |\n",
                        "|    month                                                            | 6.53       |\n",
                        "|    year                                                             | 1.99e+03   |\n",
                        "| rollout/                                                            |            |\n",
                        "|    ep_len_mean                                                      | 3.5e+04    |\n",
                        "|    ep_rew_mean                                                      | -2.32e+04  |\n",
                        "|    exploration_rate                                                 | 0.05       |\n",
                        "| time/                                                               |            |\n",
                        "|    episodes                                                         | 2          |\n",
                        "|    fps                                                              | 532        |\n",
                        "|    time_elapsed                                                     | 131        |\n",
                        "|    total_timesteps                                                  | 70080      |\n",
                        "| train/                                                              |            |\n",
                        "|    learning_rate                                                    | 0.0001     |\n",
                        "|    loss                                                             | 76.8       |\n",
                        "|    n_updates                                                        | 5019       |\n",
                        "------------------------------------------------------------------------------------\n",
                        "[2023-04-05 11:43:52,287] EPLUS_ENV_demo-v1_MainThread_ROOT INFO:EnergyPlus episode completed successfully. \n",
                        "[2023-04-05 11:43:52,287] EPLUS_ENV_demo-v1_MainThread_ROOT INFO:EnergyPlus episode completed successfully. \n",
                        "[2023-04-05 11:43:52,291] EPLUS_ENV_demo-v1_MainThread_ROOT INFO:Creating new EnergyPlus simulation episode...\n",
                        "[2023-04-05 11:43:52,291] EPLUS_ENV_demo-v1_MainThread_ROOT INFO:Creating new EnergyPlus simulation episode...\n",
                        "[2023-04-05 11:43:52,448] EPLUS_ENV_demo-v1_MainThread_ROOT INFO:EnergyPlus working directory is in /workspaces/sinergym/examples/Eplus-env-demo-v1-res1/Eplus-env-sub_run4\n",
                        "[2023-04-05 11:43:52,448] EPLUS_ENV_demo-v1_MainThread_ROOT INFO:EnergyPlus working directory is in /workspaces/sinergym/examples/Eplus-env-demo-v1-res1/Eplus-env-sub_run4\n",
                        "-------------------------------------------------------------------------------------\n",
                        "| action/                                                             |             |\n",
                        "|    Cooling_Setpoint_RL                                              | 23.4        |\n",
                        "|    Heating_Setpoint_RL                                              | 20.9        |\n",
                        "| action_simulation/                                                  |             |\n",
                        "|    Cooling_Setpoint_RL                                              | 23.4        |\n",
                        "|    Heating_Setpoint_RL                                              | 20.9        |\n",
                        "| episode/                                                            |             |\n",
                        "|    comfort_violation_time(%)                                        | 36          |\n",
                        "|    cumulative_comfort_penalty                                       | -1.58e+04   |\n",
                        "|    cumulative_power                                                 | 3.02e+08    |\n",
                        "|    cumulative_power_penalty                                         | -3.02e+04   |\n",
                        "|    cumulative_reward                                                | -23009.738  |\n",
                        "|    ep_length                                                        | 35040       |\n",
                        "|    mean_comfort_penalty                                             | -0.452      |\n",
                        "|    mean_power                                                       | 8.62e+03    |\n",
                        "|    mean_power_penalty                                               | -0.862      |\n",
                        "|    mean_reward                                                      | -0.65667063 |\n",
                        "| observation/                                                        |             |\n",
                        "|    Facility Total HVAC Electricity Demand Rate(Whole Building)      | 8.62e+03    |\n",
                        "|    People Air Temperature(SPACE1-1 PEOPLE 1)                        | 21.9        |\n",
                        "|    Site Diffuse Solar Radiation Rate per Area(Environment)          | 73.6        |\n",
                        "|    Site Direct Solar Radiation Rate per Area(Environment)           | 115         |\n",
                        "|    Site Outdoor Air Drybulb Temperature(Environment)                | 11.2        |\n",
                        "|    Site Outdoor Air Relative Humidity(Environment)                  | 71.3        |\n",
                        "|    Site Wind Direction(Environment)                                 | 195         |\n",
                        "|    Site Wind Speed(Environment)                                     | 3.87        |\n",
                        "|    Zone Air Relative Humidity(SPACE1-1)                             | 41.4        |\n",
                        "|    Zone Air Temperature(SPACE1-1)                                   | 21.9        |\n",
                        "|    Zone People Occupant Count(SPACE1-1)                             | 3.18        |\n",
                        "|    Zone Thermal Comfort Clothing Value(SPACE1-1 PEOPLE 1)           | 0.662       |\n",
                        "|    Zone Thermal Comfort Fanger Model PPD(SPACE1-1 PEOPLE 1)         | 23.4        |\n",
                        "|    Zone Thermal Comfort Mean Radiant Temperature(SPACE1-1 PEOPLE 1) | 21.9        |\n",
                        "|    Zone Thermostat Cooling Setpoint Temperature(SPACE1-1)           | 23.4        |\n",
                        "|    Zone Thermostat Heating Setpoint Temperature(SPACE1-1)           | 20.9        |\n",
                        "|    day                                                              | 15.7        |\n",
                        "|    hour                                                             | 11.5        |\n",
                        "|    month                                                            | 6.53        |\n",
                        "|    year                                                             | 1.99e+03    |\n",
                        "| rollout/                                                            |             |\n",
                        "|    ep_len_mean                                                      | 3.5e+04     |\n",
                        "|    ep_rew_mean                                                      | -2.32e+04   |\n",
                        "|    exploration_rate                                                 | 0.05        |\n",
                        "| time/                                                               |             |\n",
                        "|    episodes                                                         | 3           |\n",
                        "|    fps                                                              | 508         |\n",
                        "|    time_elapsed                                                     | 206         |\n",
                        "|    total_timesteps                                                  | 105120      |\n",
                        "| train/                                                              |             |\n",
                        "|    learning_rate                                                    | 0.0001      |\n",
                        "|    loss                                                             | 20.6        |\n",
                        "|    n_updates                                                        | 13779       |\n",
                        "-------------------------------------------------------------------------------------\n",
                        "[2023-04-05 11:45:08,215] EPLUS_ENV_demo-v1_MainThread_ROOT INFO:EnergyPlus episode completed successfully. \n",
                        "[2023-04-05 11:45:08,215] EPLUS_ENV_demo-v1_MainThread_ROOT INFO:EnergyPlus episode completed successfully. \n",
                        "[2023-04-05 11:45:08,218] EPLUS_ENV_demo-v1_MainThread_ROOT INFO:Creating new EnergyPlus simulation episode...\n",
                        "[2023-04-05 11:45:08,218] EPLUS_ENV_demo-v1_MainThread_ROOT INFO:Creating new EnergyPlus simulation episode...\n",
                        "[2023-04-05 11:45:08,361] EPLUS_ENV_demo-v1_MainThread_ROOT INFO:EnergyPlus working directory is in /workspaces/sinergym/examples/Eplus-env-demo-v1-res1/Eplus-env-sub_run5\n",
                        "[2023-04-05 11:45:08,361] EPLUS_ENV_demo-v1_MainThread_ROOT INFO:EnergyPlus working directory is in /workspaces/sinergym/examples/Eplus-env-demo-v1-res1/Eplus-env-sub_run5\n",
                        "[2023-04-05 11:45:14,294] EPLUS_ENV_demo-v1_MainThread_ROOT INFO:EnergyPlus episode completed successfully. \n",
                        "[2023-04-05 11:45:14,294] EPLUS_ENV_demo-v1_MainThread_ROOT INFO:EnergyPlus episode completed successfully. \n",
                        "[2023-04-05 11:45:14,298] EPLUS_ENV_demo-v1_MainThread_ROOT INFO:Creating new EnergyPlus simulation episode...\n",
                        "[2023-04-05 11:45:14,298] EPLUS_ENV_demo-v1_MainThread_ROOT INFO:Creating new EnergyPlus simulation episode...\n",
                        "[2023-04-05 11:45:14,450] EPLUS_ENV_demo-v1_MainThread_ROOT INFO:EnergyPlus working directory is in /workspaces/sinergym/examples/Eplus-env-demo-v1-res2/Eplus-env-sub_run3\n",
                        "[2023-04-05 11:45:14,450] EPLUS_ENV_demo-v1_MainThread_ROOT INFO:EnergyPlus working directory is in /workspaces/sinergym/examples/Eplus-env-demo-v1-res2/Eplus-env-sub_run3\n",
                        "[2023-04-05 11:45:48,652] EPLUS_ENV_demo-v1_MainThread_ROOT INFO:EnergyPlus episode completed successfully. \n",
                        "[2023-04-05 11:45:48,652] EPLUS_ENV_demo-v1_MainThread_ROOT INFO:EnergyPlus episode completed successfully. \n",
                        "[2023-04-05 11:45:48,655] EPLUS_ENV_demo-v1_MainThread_ROOT INFO:Creating new EnergyPlus simulation episode...\n",
                        "[2023-04-05 11:45:48,655] EPLUS_ENV_demo-v1_MainThread_ROOT INFO:Creating new EnergyPlus simulation episode...\n",
                        "[2023-04-05 11:45:48,807] EPLUS_ENV_demo-v1_MainThread_ROOT INFO:EnergyPlus working directory is in /workspaces/sinergym/examples/Eplus-env-demo-v1-res2/Eplus-env-sub_run4\n",
                        "[2023-04-05 11:45:48,807] EPLUS_ENV_demo-v1_MainThread_ROOT INFO:EnergyPlus working directory is in /workspaces/sinergym/examples/Eplus-env-demo-v1-res2/Eplus-env-sub_run4\n",
                        "Eval num_timesteps=140160, episode_reward=-24161.99 +/- 0.00\n",
                        "Episode length: 35040.00 +/- 0.00\n",
                        "------------------------------------------------------------------------------------\n",
                        "| action/                                                             |            |\n",
                        "|    Cooling_Setpoint_RL                                              | 24.2       |\n",
                        "|    Heating_Setpoint_RL                                              | 20.2       |\n",
                        "| action_simulation/                                                  |            |\n",
                        "|    Cooling_Setpoint_RL                                              | 24.2       |\n",
                        "|    Heating_Setpoint_RL                                              | 20.2       |\n",
                        "| episode/                                                            |            |\n",
                        "|    comfort_violation_time(%)                                        | 36.1       |\n",
                        "|    cumulative_comfort_penalty                                       | -1.84e+04  |\n",
                        "|    cumulative_power                                                 | 2.86e+08   |\n",
                        "|    cumulative_power_penalty                                         | -2.86e+04  |\n",
                        "|    cumulative_reward                                                | -23478.824 |\n",
                        "|    ep_length                                                        | 35040      |\n",
                        "|    mean_comfort_penalty                                             | -0.524     |\n",
                        "|    mean_power                                                       | 8.16e+03   |\n",
                        "|    mean_power_penalty                                               | -0.816     |\n",
                        "|    mean_reward                                                      | -0.6700578 |\n",
                        "| eval/                                                               |            |\n",
                        "|    comfort_penalty                                                  | -2.23e+04  |\n",
                        "|    comfort_violation(%)                                             | 37.9       |\n",
                        "|    mean_ep_length                                                   | 3.5e+04    |\n",
                        "|    mean_power_consumption                                           | 2.61e+08   |\n",
                        "|    mean_rewards                                                     | -24161.99  |\n",
                        "|    power_penalty                                                    | -2.61e+04  |\n",
                        "|    std_rewards                                                      | 0.0        |\n",
                        "| observation/                                                        |            |\n",
                        "|    Facility Total HVAC Electricity Demand Rate(Whole Building)      | 8.16e+03   |\n",
                        "|    People Air Temperature(SPACE1-1 PEOPLE 1)                        | 21.8       |\n",
                        "|    Site Diffuse Solar Radiation Rate per Area(Environment)          | 73.6       |\n",
                        "|    Site Direct Solar Radiation Rate per Area(Environment)           | 115        |\n",
                        "|    Site Outdoor Air Drybulb Temperature(Environment)                | 11.2       |\n",
                        "|    Site Outdoor Air Relative Humidity(Environment)                  | 71.3       |\n",
                        "|    Site Wind Direction(Environment)                                 | 195        |\n",
                        "|    Site Wind Speed(Environment)                                     | 3.87       |\n",
                        "|    Zone Air Relative Humidity(SPACE1-1)                             | 41.9       |\n",
                        "|    Zone Air Temperature(SPACE1-1)                                   | 21.8       |\n",
                        "|    Zone People Occupant Count(SPACE1-1)                             | 3.18       |\n",
                        "|    Zone Thermal Comfort Clothing Value(SPACE1-1 PEOPLE 1)           | 0.662      |\n",
                        "|    Zone Thermal Comfort Fanger Model PPD(SPACE1-1 PEOPLE 1)         | 24.4       |\n",
                        "|    Zone Thermal Comfort Mean Radiant Temperature(SPACE1-1 PEOPLE 1) | 21.8       |\n",
                        "|    Zone Thermostat Cooling Setpoint Temperature(SPACE1-1)           | 24.2       |\n",
                        "|    Zone Thermostat Heating Setpoint Temperature(SPACE1-1)           | 20.2       |\n",
                        "|    day                                                              | 15.7       |\n",
                        "|    hour                                                             | 11.5       |\n",
                        "|    month                                                            | 6.53       |\n",
                        "|    year                                                             | 1.99e+03   |\n",
                        "| rollout/                                                            |            |\n",
                        "|    ep_len_mean                                                      | 3.5e+04    |\n",
                        "|    ep_rew_mean                                                      | -2.32e+04  |\n",
                        "|    exploration_rate                                                 | 0.05       |\n",
                        "| time/                                                               |            |\n",
                        "|    episodes                                                         | 4          |\n",
                        "|    fps                                                              | 433        |\n",
                        "|    time_elapsed                                                     | 322        |\n",
                        "|    total_timesteps                                                  | 140160     |\n",
                        "| train/                                                              |            |\n",
                        "|    learning_rate                                                    | 0.0001     |\n",
                        "|    loss                                                             | 13.1       |\n",
                        "|    n_updates                                                        | 22539      |\n",
                        "------------------------------------------------------------------------------------\n"
                    ]
                },
                {
                    "data": {
                        "text/plain": [
                            "<stable_baselines3.dqn.dqn.DQN at 0x7fa0ad798580>"
                        ]
                    },
                    "execution_count": 13,
                    "metadata": {},
                    "output_type": "execute_result"
                }
            ],
            "source": [
                "model.learn(\n",
                "    total_timesteps=timesteps,\n",
                "    callback=callback,\n",
                "    log_interval=1)"
            ]
        },
        {
            "cell_type": "markdown",
            "metadata": {
                "collapsed": false
            },
            "source": [
                "Now we save the current model (model version when training has finished)."
            ]
        },
        {
            "cell_type": "code",
            "execution_count": 14,
            "metadata": {
                "collapsed": false,
                "pycharm": {
                    "name": "#%%\n"
                }
            },
            "outputs": [],
            "source": [
                "model.save(env.simulator._env_working_dir_parent + '/' + experiment_name)"
            ]
        },
        {
            "cell_type": "markdown",
            "metadata": {
                "collapsed": false
            },
            "source": [
                "And as always, remember to close the environment."
            ]
        },
        {
            "cell_type": "code",
            "execution_count": 15,
            "metadata": {
                "collapsed": false,
                "pycharm": {
                    "name": "#%%\n"
                }
            },
            "outputs": [
                {
                    "name": "stderr",
                    "output_type": "stream",
                    "text": [
                        "/usr/local/lib/python3.10/dist-packages/numpy/core/fromnumeric.py:3464: RuntimeWarning: Mean of empty slice.\n",
                        "  return _methods._mean(a, axis=axis, dtype=dtype,\n",
                        "/usr/local/lib/python3.10/dist-packages/numpy/core/_methods.py:192: RuntimeWarning: invalid value encountered in scalar divide\n",
                        "  ret = ret.dtype.type(ret / rcount)\n",
                        "/usr/local/lib/python3.10/dist-packages/numpy/core/_methods.py:269: RuntimeWarning: Degrees of freedom <= 0 for slice\n",
                        "  ret = _var(a, axis=axis, dtype=dtype, out=out, ddof=ddof,\n",
                        "/usr/local/lib/python3.10/dist-packages/numpy/core/_methods.py:226: RuntimeWarning: invalid value encountered in divide\n",
                        "  arrmean = um.true_divide(arrmean, div, out=arrmean,\n",
                        "/usr/local/lib/python3.10/dist-packages/numpy/core/_methods.py:261: RuntimeWarning: invalid value encountered in scalar divide\n",
                        "  ret = ret.dtype.type(ret / rcount)\n"
                    ]
                },
                {
                    "name": "stdout",
                    "output_type": "stream",
                    "text": [
                        "[2023-04-05 11:51:41,481] EPLUS_ENV_demo-v1_MainThread_ROOT INFO:EnergyPlus simulation closed successfully. \n",
                        "[2023-04-05 11:51:41,481] EPLUS_ENV_demo-v1_MainThread_ROOT INFO:EnergyPlus simulation closed successfully. \n"
                    ]
                }
            ],
            "source": [
                "env.close()"
            ]
        },
        {
            "attachments": {},
            "cell_type": "markdown",
            "metadata": {},
            "source": [
                "We have all the experiments results in our local computer, but we can see the execution in *wandb* too:\n",
                "\n",
                "\n",
                "- Hyperparameter and summary registration:\n",
                "\n",
                "![wandb_example1](https://github.com/ugr-sail/sinergym/blob/main/docs/source/_static/wandb_example1.png?raw=true)\n",
                "\n",
                "\n",
                "\n",
                "- Artifacts registered (if evaluation is enabled, best model is registered too):\n",
                "  \n",
                "![wandb_example2](https://github.com/ugr-sail/sinergym/blob/main/docs/source/_static/wandb_example1.png?raw=true)\n",
                "\n",
                "\n",
                "\n",
                "- Metrics visualization in real time:\n",
                "  \n",
                "![wandb_example3](https://github.com/ugr-sail/sinergym/blob/main/docs/source/_static/wandb_example1.png?raw=true)"
            ]
        }
    ],
    "metadata": {
        "kernelspec": {
            "display_name": "Python 3",
            "language": "python",
            "name": "python3"
        },
        "language_info": {
            "codemirror_mode": {
                "name": "ipython",
                "version": 3
            },
            "file_extension": ".py",
            "mimetype": "text/x-python",
            "name": "python",
            "nbconvert_exporter": "python",
            "pygments_lexer": "ipython3",
            "version": "3.10.6"
        },
        "vscode": {
            "interpreter": {
                "hash": "916dbcbb3f70747c44a77c7bcd40155683ae19c65e1c03b4aa3499c5328201f1"
            }
        }
    },
    "nbformat": 4,
    "nbformat_minor": 0
}
