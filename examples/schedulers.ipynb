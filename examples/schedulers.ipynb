{
    "cells": [
        {
            "cell_type": "markdown",
            "metadata": {
                "collapsed": false
            },
            "source": [
                "# Controlling schedulers in building models"
            ]
        },
        {
            "cell_type": "markdown",
            "metadata": {
                "collapsed": true,
                "pycharm": {
                    "name": "#%% md\n"
                }
            },
            "source": [
                "Sinergym can get the schedulers information automatically, in a Python dictionary and/or exporting that information in a excel file.\n",
                "This information lets you know what things can be controlled by an external interface in the building.\n",
                "The way to do it is very simple, just load the environment and call a method:"
            ]
        },
        {
            "cell_type": "code",
            "execution_count": 2,
            "metadata": {
                "collapsed": false,
                "pycharm": {
                    "is_executing": true,
                    "name": "#%%\n"
                }
            },
            "outputs": [
                {
                    "name": "stderr",
                    "output_type": "stream",
                    "text": [
                        "[2022-09-27 10:52:30,794] EPLUS_ENV_demo-v1_MainThread_ROOT INFO:Updating idf ExternalInterface object if it is not present...\n",
                        "[2022-09-27 10:52:30,794] EPLUS_ENV_demo-v1_MainThread_ROOT INFO:Updating idf ExternalInterface object if it is not present...\n",
                        "[2022-09-27 10:52:30,795] EPLUS_ENV_demo-v1_MainThread_ROOT INFO:Updating idf Site:Location and SizingPeriod:DesignDay(s) to weather and ddy file...\n",
                        "[2022-09-27 10:52:30,795] EPLUS_ENV_demo-v1_MainThread_ROOT INFO:Updating idf Site:Location and SizingPeriod:DesignDay(s) to weather and ddy file...\n",
                        "[2022-09-27 10:52:30,798] EPLUS_ENV_demo-v1_MainThread_ROOT INFO:Updating idf OutPut:Variable and variables XML tree model for BVCTB connection.\n",
                        "[2022-09-27 10:52:30,798] EPLUS_ENV_demo-v1_MainThread_ROOT INFO:Updating idf OutPut:Variable and variables XML tree model for BVCTB connection.\n",
                        "[2022-09-27 10:52:30,799] EPLUS_ENV_demo-v1_MainThread_ROOT INFO:Setting up extra configuration in building model if exists...\n",
                        "[2022-09-27 10:52:30,799] EPLUS_ENV_demo-v1_MainThread_ROOT INFO:Setting up extra configuration in building model if exists...\n",
                        "[2022-09-27 10:52:30,800] EPLUS_ENV_demo-v1_MainThread_ROOT INFO:Setting up action definition in building model if exists...\n",
                        "[2022-09-27 10:52:30,800] EPLUS_ENV_demo-v1_MainThread_ROOT INFO:Setting up action definition in building model if exists...\n"
                    ]
                },
                {
                    "name": "stdout",
                    "output_type": "stream",
                    "text": [
                        "{'activitysch': {'Type': 'any number'},\n",
                        " 'actschd': {'Object1': {'object_field_name': 'activity_level_schedule_name',\n",
                        "                         'object_name': 'space1-1 people 1',\n",
                        "                         'object_type': 'People'},\n",
                        "             'Object2': {'object_field_name': 'activity_level_schedule_name',\n",
                        "                         'object_name': 'space2-1 people 1',\n",
                        "                         'object_type': 'People'},\n",
                        "             'Object3': {'object_field_name': 'activity_level_schedule_name',\n",
                        "                         'object_name': 'space3-1 people 1',\n",
                        "                         'object_type': 'People'},\n",
                        "             'Object4': {'object_field_name': 'activity_level_schedule_name',\n",
                        "                         'object_name': 'space4-1 people 1',\n",
                        "                         'object_type': 'People'},\n",
                        "             'Object5': {'object_field_name': 'activity_level_schedule_name',\n",
                        "                         'object_name': 'space5-1 people 1',\n",
                        "                         'object_type': 'People'},\n",
                        "             'Type': 'any number'},\n",
                        " 'airvelocitysch': {'Object1': {'object_field_name': 'air_velocity_schedule_name',\n",
                        "                                'object_name': 'space1-1 people 1',\n",
                        "                                'object_type': 'People'},\n",
                        "                    'Object2': {'object_field_name': 'air_velocity_schedule_name',\n",
                        "                                'object_name': 'space2-1 people 1',\n",
                        "                                'object_type': 'People'},\n",
                        "                    'Object3': {'object_field_name': 'air_velocity_schedule_name',\n",
                        "                                'object_name': 'space3-1 people 1',\n",
                        "                                'object_type': 'People'},\n",
                        "                    'Object4': {'object_field_name': 'air_velocity_schedule_name',\n",
                        "                                'object_name': 'space4-1 people 1',\n",
                        "                                'object_type': 'People'},\n",
                        "                    'Object5': {'object_field_name': 'air_velocity_schedule_name',\n",
                        "                                'object_name': 'space5-1 people 1',\n",
                        "                                'object_type': 'People'},\n",
                        "                    'Type': 'any number'},\n",
                        " 'basinheatersched': {'Object1': {'object_field_name': 'basin_heater_operating_schedule_name',\n",
                        "                                  'object_name': 'main cooling coil 1',\n",
                        "                                  'object_type': 'Coil:Cooling:DX:TwoSpeed'},\n",
                        "                      'Type': 'on/off'},\n",
                        " 'clg-setp-sch': {'Object1': {'object_field_name': 'cooling_setpoint_temperature_schedule_name',\n",
                        "                              'object_name': 'dualsetpoint',\n",
                        "                              'object_type': 'ThermostatSetpoint:DualSetpoint'},\n",
                        "                  'Object2': {'object_field_name': 'setpoint_temperature_schedule_name',\n",
                        "                              'object_name': 'coolingsetpoint',\n",
                        "                              'object_type': 'ThermostatSetpoint:SingleCooling'},\n",
                        "                  'Type': 'temperature'},\n",
                        " 'clothingsch': {'Type': 'any number'},\n",
                        " 'coolingcoilavailsched': {'Object1': {'object_field_name': 'availability_schedule_name',\n",
                        "                                       'object_name': 'main cooling coil 1',\n",
                        "                                       'object_type': 'Coil:Cooling:DX:TwoSpeed'},\n",
                        "                           'Object2': {'object_field_name': 'availability_schedule_name',\n",
                        "                                       'object_name': 'dx cooling coil system '\n",
                        "                                                      '1',\n",
                        "                                       'object_type': 'CoilSystem:Cooling:DX'},\n",
                        "                           'Type': 'fraction'},\n",
                        " 'equip-1': {'Object1': {'object_field_name': 'schedule_name',\n",
                        "                         'object_name': 'space1-1 eleceq 1',\n",
                        "                         'object_type': 'ElectricEquipment'},\n",
                        "             'Object2': {'object_field_name': 'schedule_name',\n",
                        "                         'object_name': 'space2-1 eleceq 1',\n",
                        "                         'object_type': 'ElectricEquipment'},\n",
                        "             'Object3': {'object_field_name': 'schedule_name',\n",
                        "                         'object_name': 'space3-1 eleceq 1',\n",
                        "                         'object_type': 'ElectricEquipment'},\n",
                        "             'Object4': {'object_field_name': 'schedule_name',\n",
                        "                         'object_name': 'space4-1 eleceq 1',\n",
                        "                         'object_type': 'ElectricEquipment'},\n",
                        "             'Object5': {'object_field_name': 'schedule_name',\n",
                        "                         'object_name': 'space5-1 eleceq 1',\n",
                        "                         'object_type': 'ElectricEquipment'},\n",
                        "             'Type': 'fraction'},\n",
                        " 'fanavailsched': {'Object1': {'object_field_name': 'schedule_name',\n",
                        "                               'object_name': 'vav sys 1 avail',\n",
                        "                               'object_type': 'AvailabilityManager:Scheduled'},\n",
                        "                   'Object2': {'object_field_name': 'availability_schedule_name',\n",
                        "                               'object_name': 'supply fan 1',\n",
                        "                               'object_type': 'Fan:VariableVolume'},\n",
                        "                   'Type': 'fraction'},\n",
                        " 'htg-setp-sch': {'Object1': {'object_field_name': 'heating_setpoint_temperature_schedule_name',\n",
                        "                              'object_name': 'dualsetpoint',\n",
                        "                              'object_type': 'ThermostatSetpoint:DualSetpoint'},\n",
                        "                  'Object2': {'object_field_name': 'setpoint_temperature_schedule_name',\n",
                        "                              'object_name': 'heatingsetpoint',\n",
                        "                              'object_type': 'ThermostatSetpoint:SingleHeating'},\n",
                        "                  'Type': 'temperature'},\n",
                        " 'infil-sch': {'Object1': {'object_field_name': 'schedule_name',\n",
                        "                           'object_name': 'space1-1 infil 1',\n",
                        "                           'object_type': 'ZoneInfiltration:DesignFlowRate'},\n",
                        "               'Object2': {'object_field_name': 'schedule_name',\n",
                        "                           'object_name': 'space2-1 infil 1',\n",
                        "                           'object_type': 'ZoneInfiltration:DesignFlowRate'},\n",
                        "               'Object3': {'object_field_name': 'schedule_name',\n",
                        "                           'object_name': 'space3-1 infil 1',\n",
                        "                           'object_type': 'ZoneInfiltration:DesignFlowRate'},\n",
                        "               'Object4': {'object_field_name': 'schedule_name',\n",
                        "                           'object_name': 'space4-1 infil 1',\n",
                        "                           'object_type': 'ZoneInfiltration:DesignFlowRate'},\n",
                        "               'Object5': {'object_field_name': 'schedule_name',\n",
                        "                           'object_name': 'space5-1 infil 1',\n",
                        "                           'object_type': 'ZoneInfiltration:DesignFlowRate'},\n",
                        "               'Type': 'fraction'},\n",
                        " 'lights-1': {'Object1': {'object_field_name': 'schedule_name',\n",
                        "                          'object_name': 'space1-1 lights 1',\n",
                        "                          'object_type': 'Lights'},\n",
                        "              'Object2': {'object_field_name': 'schedule_name',\n",
                        "                          'object_name': 'space2-1 lights 1',\n",
                        "                          'object_type': 'Lights'},\n",
                        "              'Object3': {'object_field_name': 'schedule_name',\n",
                        "                          'object_name': 'space3-1 lights 1',\n",
                        "                          'object_type': 'Lights'},\n",
                        "              'Object4': {'object_field_name': 'schedule_name',\n",
                        "                          'object_name': 'space4-1 lights 1',\n",
                        "                          'object_type': 'Lights'},\n",
                        "              'Object5': {'object_field_name': 'schedule_name',\n",
                        "                          'object_name': 'space5-1 lights 1',\n",
                        "                          'object_type': 'Lights'},\n",
                        "              'Type': 'fraction'},\n",
                        " 'min oa sched': {'Object1': {'object_field_name': 'minimum_outdoor_air_schedule_name',\n",
                        "                              'object_name': 'oa controller 1',\n",
                        "                              'object_type': 'Controller:OutdoorAir'},\n",
                        "                  'Type': 'fraction'},\n",
                        " 'min oarequirements sched': {'Object1': {'object_field_name': 'outdoor_air_schedule_name',\n",
                        "                                          'object_name': 'zoneminoarequirements',\n",
                        "                                          'object_type': 'DesignSpecification:OutdoorAir'},\n",
                        "                              'Type': 'any number'},\n",
                        " 'occupy-1': {'Object1': {'object_field_name': 'number_of_people_schedule_name',\n",
                        "                          'object_name': 'space1-1 people 1',\n",
                        "                          'object_type': 'People'},\n",
                        "              'Object2': {'object_field_name': 'number_of_people_schedule_name',\n",
                        "                          'object_name': 'space2-1 people 1',\n",
                        "                          'object_type': 'People'},\n",
                        "              'Object3': {'object_field_name': 'number_of_people_schedule_name',\n",
                        "                          'object_name': 'space3-1 people 1',\n",
                        "                          'object_type': 'People'},\n",
                        "              'Object4': {'object_field_name': 'number_of_people_schedule_name',\n",
                        "                          'object_name': 'space4-1 people 1',\n",
                        "                          'object_type': 'People'},\n",
                        "              'Object5': {'object_field_name': 'number_of_people_schedule_name',\n",
                        "                          'object_name': 'space5-1 people 1',\n",
                        "                          'object_type': 'People'},\n",
                        "              'Type': 'fraction'},\n",
                        " 'plenumclg-setp-sch': {'Object1': {'object_field_name': 'setpoint_temperature_schedule_name',\n",
                        "                                    'object_name': 'plenumcoolingsetpoint',\n",
                        "                                    'object_type': 'ThermostatSetpoint:SingleCooling'},\n",
                        "                        'Type': 'temperature'},\n",
                        " 'plenumhtg-setp-sch': {'Object1': {'object_field_name': 'setpoint_temperature_schedule_name',\n",
                        "                                    'object_name': 'plenumheatingsetpoint',\n",
                        "                                    'object_type': 'ThermostatSetpoint:SingleHeating'},\n",
                        "                        'Type': 'temperature'},\n",
                        " 'reheatcoilavailsched': {'Object1': {'object_field_name': 'availability_schedule_name',\n",
                        "                                      'object_name': 'space1-1 vav reheat',\n",
                        "                                      'object_type': 'AirTerminal:SingleDuct:VAV:Reheat'},\n",
                        "                          'Object10': {'object_field_name': 'availability_schedule_name',\n",
                        "                                       'object_name': 'space5-1 zone coil',\n",
                        "                                       'object_type': 'Coil:Heating:Electric'},\n",
                        "                          'Object11': {'object_field_name': 'availability_schedule_name',\n",
                        "                                       'object_name': 'main heating coil 1',\n",
                        "                                       'object_type': 'Coil:Heating:Electric'},\n",
                        "                          'Object2': {'object_field_name': 'availability_schedule_name',\n",
                        "                                      'object_name': 'space2-1 vav reheat',\n",
                        "                                      'object_type': 'AirTerminal:SingleDuct:VAV:Reheat'},\n",
                        "                          'Object3': {'object_field_name': 'availability_schedule_name',\n",
                        "                                      'object_name': 'space3-1 vav reheat',\n",
                        "                                      'object_type': 'AirTerminal:SingleDuct:VAV:Reheat'},\n",
                        "                          'Object4': {'object_field_name': 'availability_schedule_name',\n",
                        "                                      'object_name': 'space4-1 vav reheat',\n",
                        "                                      'object_type': 'AirTerminal:SingleDuct:VAV:Reheat'},\n",
                        "                          'Object5': {'object_field_name': 'availability_schedule_name',\n",
                        "                                      'object_name': 'space5-1 vav reheat',\n",
                        "                                      'object_type': 'AirTerminal:SingleDuct:VAV:Reheat'},\n",
                        "                          'Object6': {'object_field_name': 'availability_schedule_name',\n",
                        "                                      'object_name': 'space1-1 zone coil',\n",
                        "                                      'object_type': 'Coil:Heating:Electric'},\n",
                        "                          'Object7': {'object_field_name': 'availability_schedule_name',\n",
                        "                                      'object_name': 'space2-1 zone coil',\n",
                        "                                      'object_type': 'Coil:Heating:Electric'},\n",
                        "                          'Object8': {'object_field_name': 'availability_schedule_name',\n",
                        "                                      'object_name': 'space3-1 zone coil',\n",
                        "                                      'object_type': 'Coil:Heating:Electric'},\n",
                        "                          'Object9': {'object_field_name': 'availability_schedule_name',\n",
                        "                                      'object_name': 'space4-1 zone coil',\n",
                        "                                      'object_type': 'Coil:Heating:Electric'},\n",
                        "                          'Type': 'fraction'},\n",
                        " 'seasonal reset supply air temp sch': {'Type': 'temperature'},\n",
                        " 'shadetranssch': {'Object1': {'object_field_name': 'transmittance_schedule_name',\n",
                        "                               'object_name': 'main south overhang',\n",
                        "                               'object_type': 'Shading:Zone:Detailed'},\n",
                        "                   'Object2': {'object_field_name': 'transmittance_schedule_name',\n",
                        "                               'object_name': 'south door overhang',\n",
                        "                               'object_type': 'Shading:Zone:Detailed'},\n",
                        "                   'Type': 'fraction'},\n",
                        " 'workeffsch': {'Object1': {'object_field_name': 'work_efficiency_schedule_name',\n",
                        "                            'object_name': 'space1-1 people 1',\n",
                        "                            'object_type': 'People'},\n",
                        "                'Object2': {'object_field_name': 'work_efficiency_schedule_name',\n",
                        "                            'object_name': 'space2-1 people 1',\n",
                        "                            'object_type': 'People'},\n",
                        "                'Object3': {'object_field_name': 'work_efficiency_schedule_name',\n",
                        "                            'object_name': 'space3-1 people 1',\n",
                        "                            'object_type': 'People'},\n",
                        "                'Object4': {'object_field_name': 'work_efficiency_schedule_name',\n",
                        "                            'object_name': 'space4-1 people 1',\n",
                        "                            'object_type': 'People'},\n",
                        "                'Object5': {'object_field_name': 'work_efficiency_schedule_name',\n",
                        "                            'object_name': 'space5-1 people 1',\n",
                        "                            'object_type': 'People'},\n",
                        "                'Type': 'fraction'},\n",
                        " 'zone control type sched': {'Object1': {'object_field_name': 'control_type_schedule_name',\n",
                        "                                         'object_name': 'space1-1 control',\n",
                        "                                         'object_type': 'ZoneControl:Thermostat'},\n",
                        "                             'Object2': {'object_field_name': 'control_type_schedule_name',\n",
                        "                                         'object_name': 'space2-1 control',\n",
                        "                                         'object_type': 'ZoneControl:Thermostat'},\n",
                        "                             'Object3': {'object_field_name': 'control_type_schedule_name',\n",
                        "                                         'object_name': 'space3-1 control',\n",
                        "                                         'object_type': 'ZoneControl:Thermostat'},\n",
                        "                             'Object4': {'object_field_name': 'control_type_schedule_name',\n",
                        "                                         'object_name': 'space4-1 control',\n",
                        "                                         'object_type': 'ZoneControl:Thermostat'},\n",
                        "                             'Object5': {'object_field_name': 'control_type_schedule_name',\n",
                        "                                         'object_name': 'space5-1 control',\n",
                        "                                         'object_type': 'ZoneControl:Thermostat'},\n",
                        "                             'Type': 'control type'}}\n"
                    ]
                }
            ],
            "source": [
                "import gym\n",
                "import sinergym\n",
                "\n",
                "from pprint import pprint\n",
                "\n",
                "env = gym.make('Eplus-demo-v1')\n",
                "actuators=env.get_actuators()\n",
                "pprint(actuators)"
            ]
        },
        {
            "cell_type": "markdown",
            "metadata": {
                "collapsed": false,
                "pycharm": {
                    "name": "#%% md\n"
                }
            },
            "source": [
                "The way to export an excel file with such organized information is by specifying a path to the method:"
            ]
        },
        {
            "cell_type": "code",
            "execution_count": 3,
            "metadata": {
                "collapsed": false,
                "pycharm": {
                    "is_executing": true,
                    "name": "#%%\n"
                }
            },
            "outputs": [],
            "source": [
                "actuators=env.get_actuators(path='./example.xlsx')"
            ]
        },
        {
            "cell_type": "markdown",
            "metadata": {
                "collapsed": false,
                "pycharm": {
                    "name": "#%% md\n"
                }
            },
            "source": [
                "And as always don't forget to close the environment:"
            ]
        },
        {
            "cell_type": "code",
            "execution_count": 4,
            "metadata": {
                "collapsed": false,
                "pycharm": {
                    "name": "#%%\n"
                }
            },
            "outputs": [
                {
                    "name": "stderr",
                    "output_type": "stream",
                    "text": [
                        "[2022-09-27 10:59:11,227] EPLUS_ENV_demo-v1_MainThread_ROOT INFO:EnergyPlus simulation closed successfully. \n",
                        "[2022-09-27 10:59:11,227] EPLUS_ENV_demo-v1_MainThread_ROOT INFO:EnergyPlus simulation closed successfully. \n"
                    ]
                }
            ],
            "source": [
                "env.close()"
            ]
        }
    ],
    "metadata": {
        "kernelspec": {
            "display_name": "Python 3.10.4 64-bit",
            "language": "python",
            "name": "python3"
        },
        "language_info": {
            "codemirror_mode": {
                "name": "ipython",
                "version": 3
            },
            "file_extension": ".py",
            "mimetype": "text/x-python",
            "name": "python",
            "nbconvert_exporter": "python",
            "pygments_lexer": "ipython3",
            "version": "3.10.4"
        },
        "vscode": {
            "interpreter": {
                "hash": "e7370f93d1d0cde622a1f8e1c04877d8463912d04d973331ad4851f04de6915a"
            }
        }
    },
    "nbformat": 4,
    "nbformat_minor": 0
}
