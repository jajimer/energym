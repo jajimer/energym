{
 "cells": [
  {
   "cell_type": "markdown",
   "source": [
    "# MLFlow example"
   ],
   "metadata": {
    "collapsed": false
   }
  },
  {
   "cell_type": "markdown",
   "source": [
    "Let's see how we can use MLFlow with Sinergym, first the imports:"
   ],
   "metadata": {
    "collapsed": false
   }
  },
  {
   "cell_type": "code",
   "execution_count": null,
   "outputs": [],
   "source": [
    "import mlflow\n",
    "\n",
    "import gym\n",
    "from stable_baselines3 import DQN\n",
    "from stable_baselines3.common.callbacks import CallbackList\n",
    "from stable_baselines3.common.vec_env import DummyVecEnv\n",
    "\n",
    "from datetime import datetime\n",
    "\n",
    "from sinergym.utils.callbacks import LoggerEvalCallback\n",
    "from sinergym.utils.rewards import *\n",
    "from sinergym.utils.wrappers import LoggerWrapper\n",
    "import sinergym"
   ],
   "metadata": {
    "collapsed": false,
    "pycharm": {
     "name": "#%%\n"
    }
   }
  },
  {
   "cell_type": "markdown",
   "source": [
    "Then lets define the name/string variables we are going to use"
   ],
   "metadata": {
    "collapsed": false,
    "pycharm": {
     "name": "#%% md\n"
    }
   }
  },
  {
   "cell_type": "code",
   "execution_count": null,
   "outputs": [],
   "source": [
    "environment = \"Eplus-demo-v1\"\n",
    "episodes = 4\n",
    "experiment_date = datetime.today().strftime('%Y-%m-%d %H:%M')\n",
    "name = F\"DQN-{environment}-episodes_{episodes}({experiment_date})\""
   ],
   "metadata": {
    "collapsed": false,
    "pycharm": {
     "name": "#%%\n"
    }
   }
  },
  {
   "cell_type": "markdown",
   "source": [
    "Now we are going to use the same DRL code/example as the 'DRL usage example' but this time with mlflow, for that we need to wrap the code with:\n",
    "with mlflow.start_run(run_name=name) as shown next:"
   ],
   "metadata": {
    "collapsed": false
   }
  },
  {
   "cell_type": "code",
   "execution_count": null,
   "metadata": {
    "collapsed": true,
    "pycharm": {
     "is_executing": true
    }
   },
   "outputs": [],
   "source": [
    "with mlflow.start_run(run_name=name):\n",
    "    env = gym.make(environment, reward=LinearReward)\n",
    "    env = LoggerWrapper(env)\n",
    "\n",
    "    # Defining model(algorithm)\n",
    "    model = DQN('MlpPolicy', env)\n",
    "\n",
    "    # Calculating n_timesteps_episode for training\n",
    "    n_timesteps_episode = env.simulator._eplus_one_epi_len / \\\n",
    "                          env.simulator._eplus_run_stepsize\n",
    "    timesteps = episodes * n_timesteps_episode\n",
    "\n",
    "    # For callbacks processing\n",
    "    env_vec = DummyVecEnv([lambda: env])\n",
    "\n",
    "    # Using Callbacks for training\n",
    "    callbacks = []\n",
    "\n",
    "    # Set up Evaluation and saving best model\n",
    "    eval_callback = LoggerEvalCallback(\n",
    "        env_vec,\n",
    "        best_model_save_path='best_model/' + name + '/',\n",
    "        log_path='best_model/' + name + '/',\n",
    "        eval_freq=n_timesteps_episode * 2,\n",
    "        deterministic=True,\n",
    "        render=False,\n",
    "        n_eval_episodes=2)\n",
    "    callbacks.append(eval_callback)\n",
    "\n",
    "    callback = CallbackList(callbacks)\n",
    "\n",
    "    # Training\n",
    "    model.learn(\n",
    "        total_timesteps=timesteps,\n",
    "        callback=callback,\n",
    "        log_interval=1)\n",
    "    model.save(env.simulator._env_working_dir_parent + '/' + name)\n",
    "\n",
    "    # End mlflow run\n",
    "    mlflow.end_run()"
   ]
  },
  {
   "cell_type": "markdown",
   "source": [],
   "metadata": {
    "collapsed": false
   }
  }
 ],
 "metadata": {
  "kernelspec": {
   "display_name": "Python 3",
   "language": "python",
   "name": "python3"
  },
  "language_info": {
   "codemirror_mode": {
    "name": "ipython",
    "version": 2
   },
   "file_extension": ".py",
   "mimetype": "text/x-python",
   "name": "python",
   "nbconvert_exporter": "python",
   "pygments_lexer": "ipython2",
   "version": "2.7.6"
  }
 },
 "nbformat": 4,
 "nbformat_minor": 0
}